{
 "cells": [
  {
   "cell_type": "markdown",
   "metadata": {},
   "source": [
    "<h3>STAT 4011 Project 2 Part 1 - House Prediction</h2>"
   ]
  },
  {
   "cell_type": "markdown",
   "metadata": {},
   "source": [
    "<p><b>Name: Law Po Lam<br>SID:1155094138"
   ]
  },
  {
   "cell_type": "code",
   "execution_count": 78,
   "metadata": {},
   "outputs": [],
   "source": [
    "import os\n",
    "import pandasql\n",
    "import pandas as pd\n",
    "import numpy as np\n",
    "import seaborn as sns; sns.set()\n",
    "import matplotlib as plt\n",
    "%matplotlib inline\n",
    "import matplotlib.pyplot as plt\n",
    "#import matplotlib.pyplot as plt\n",
    "import pandas_profiling\n",
    "from sklearn.linear_model import LinearRegression\n",
    "import random"
   ]
  },
  {
   "cell_type": "code",
   "execution_count": 79,
   "metadata": {},
   "outputs": [],
   "source": [
    "#Set the path and \n",
    "os.chdir('/Users/BoboLaw/Desktop/2020 Sem2/STAT4011')\n",
    "house=pd.read_csv(\"House.csv\")"
   ]
  },
  {
   "cell_type": "code",
   "execution_count": 80,
   "metadata": {},
   "outputs": [],
   "source": [
    "random.seed(4138)"
   ]
  },
  {
   "cell_type": "markdown",
   "metadata": {},
   "source": [
    "<h3>Replace Null Value "
   ]
  },
  {
   "cell_type": "code",
   "execution_count": 81,
   "metadata": {},
   "outputs": [
    {
     "data": {
      "text/plain": [
       "LotFrontage    87\n",
       "MasVnrArea      1\n",
       "dtype: int64"
      ]
     },
     "execution_count": 81,
     "metadata": {},
     "output_type": "execute_result"
    }
   ],
   "source": [
    "#Sorting missing value\n",
    "miss_house = house.isnull().sum()\n",
    "miss_house[miss_house>0].sort_values(ascending=False)"
   ]
  },
  {
   "cell_type": "markdown",
   "metadata": {},
   "source": [
    "<p>We found that we have two variables that contain missing value:<p><b><i>LotFrontage</b></i> and <b><i>MasVnrArea </b></i>"
   ]
  },
  {
   "cell_type": "markdown",
   "metadata": {},
   "source": [
    "<p> Since <b><i>LotFrontage</b></i> and <b><i>LotArea</b></i> are related liberally therefore I decide to apply linear regression for replacing null value; Also <b><i>SalePrice</b></i> would be considered as well"
   ]
  },
  {
   "cell_type": "markdown",
   "metadata": {},
   "source": [
    "<p>Since only one row in <b><i>MasVnrArea</b></i> is NA therefore I decide replace it with mean for simplicity"
   ]
  },
  {
   "cell_type": "code",
   "execution_count": 82,
   "metadata": {},
   "outputs": [],
   "source": [
    "house[\"MasVnrArea\"]=house.MasVnrArea.fillna(house.MasVnrArea.mean())"
   ]
  },
  {
   "cell_type": "code",
   "execution_count": 83,
   "metadata": {},
   "outputs": [],
   "source": [
    "# Then Apply linear regression for handling missing value\n",
    "#Split train test dataset by checking whether there exists Null value\n",
    "train_data=house[house.LotFrontage.notnull()]\n",
    "test_data=house[house.LotFrontage.isnull()]\n",
    "\n",
    "X_train_data=train_data[['LotArea','SalePrice']]\n",
    "y_train_data=train_data.LotFrontage\n",
    "\n",
    "X_test_data=test_data[['LotArea','SalePrice']]\n",
    "y_test_data=test_data.LotFrontage\n",
    "\n",
    "linear = LinearRegression().fit(X_train_data, y_train_data)\n",
    "predict_y=linear.predict(X_test_data)\n",
    "\n",
    "#Fill in NA by predicted value\n",
    "house.loc[house.LotFrontage.isnull(), 'LotFrontage'] = predict_y       "
   ]
  },
  {
   "cell_type": "markdown",
   "metadata": {},
   "source": [
    "<p>abandoned because the performance are not good as replace null value by regression"
   ]
  },
  {
   "cell_type": "code",
   "execution_count": 84,
   "metadata": {},
   "outputs": [],
   "source": [
    "#Replace by mean value\n",
    "#house[\"LotFrontage\"]=house.LotFrontage.fillna(house.LotFrontage.mean())"
   ]
  },
  {
   "cell_type": "code",
   "execution_count": 85,
   "metadata": {},
   "outputs": [
    {
     "data": {
      "text/plain": [
       "Series([], dtype: int64)"
      ]
     },
     "execution_count": 85,
     "metadata": {},
     "output_type": "execute_result"
    }
   ],
   "source": [
    "#Sorting missing value\n",
    "miss_house = house.isnull().sum()\n",
    "miss_house[miss_house>0].sort_values(ascending=False)"
   ]
  },
  {
   "cell_type": "markdown",
   "metadata": {},
   "source": [
    "<p>After serveral treatments the NA value have been replaced / dropped"
   ]
  },
  {
   "cell_type": "markdown",
   "metadata": {},
   "source": [
    "<h3>Drop useless columns and convert ordinal variable"
   ]
  },
  {
   "cell_type": "code",
   "execution_count": 86,
   "metadata": {},
   "outputs": [],
   "source": [
    "#Drop ID for simplicity\n",
    "house=house.drop(\"Id\", axis=1)"
   ]
  },
  {
   "cell_type": "markdown",
   "metadata": {},
   "source": [
    "<p>It is given that LotShape: General shape of property:<b>Reg</b>\tRegular, <b>IR1</b>\tSlightly irregular, <b>IR2</b>\tModerately Irregular, <b>IR3</b>\tIrregular, perform label encoding"
   ]
  },
  {
   "cell_type": "code",
   "execution_count": 87,
   "metadata": {},
   "outputs": [],
   "source": [
    "house['LotShape'] = house['LotShape'].map({'Reg':3,\"IR1\":2,\"IR2\":1,\"IR3\":0})"
   ]
  },
  {
   "cell_type": "markdown",
   "metadata": {},
   "source": [
    "<h3>Data Visualization"
   ]
  },
  {
   "cell_type": "code",
   "execution_count": 88,
   "metadata": {},
   "outputs": [
    {
     "data": {
      "text/html": [
       "<style  type=\"text/css\" >\n",
       "#T_90fcc430_407d_11eb_9562_acde48001122row0_col0,#T_90fcc430_407d_11eb_9562_acde48001122row1_col1,#T_90fcc430_407d_11eb_9562_acde48001122row2_col2,#T_90fcc430_407d_11eb_9562_acde48001122row3_col3,#T_90fcc430_407d_11eb_9562_acde48001122row4_col4,#T_90fcc430_407d_11eb_9562_acde48001122row5_col5,#T_90fcc430_407d_11eb_9562_acde48001122row6_col6,#T_90fcc430_407d_11eb_9562_acde48001122row7_col7,#T_90fcc430_407d_11eb_9562_acde48001122row8_col8,#T_90fcc430_407d_11eb_9562_acde48001122row9_col9,#T_90fcc430_407d_11eb_9562_acde48001122row10_col10,#T_90fcc430_407d_11eb_9562_acde48001122row11_col11,#T_90fcc430_407d_11eb_9562_acde48001122row12_col12,#T_90fcc430_407d_11eb_9562_acde48001122row13_col13{\n",
       "            background-color:  #b40426;\n",
       "            color:  #f1f1f1;\n",
       "        }#T_90fcc430_407d_11eb_9562_acde48001122row0_col1{\n",
       "            background-color:  #efcfbf;\n",
       "            color:  #000000;\n",
       "        }#T_90fcc430_407d_11eb_9562_acde48001122row0_col2,#T_90fcc430_407d_11eb_9562_acde48001122row0_col3,#T_90fcc430_407d_11eb_9562_acde48001122row9_col3{\n",
       "            background-color:  #5673e0;\n",
       "            color:  #000000;\n",
       "        }#T_90fcc430_407d_11eb_9562_acde48001122row0_col4,#T_90fcc430_407d_11eb_9562_acde48001122row7_col10{\n",
       "            background-color:  #98b9ff;\n",
       "            color:  #000000;\n",
       "        }#T_90fcc430_407d_11eb_9562_acde48001122row0_col5{\n",
       "            background-color:  #d9dce1;\n",
       "            color:  #000000;\n",
       "        }#T_90fcc430_407d_11eb_9562_acde48001122row0_col6{\n",
       "            background-color:  #e4d9d2;\n",
       "            color:  #000000;\n",
       "        }#T_90fcc430_407d_11eb_9562_acde48001122row0_col7,#T_90fcc430_407d_11eb_9562_acde48001122row4_col0{\n",
       "            background-color:  #9fbfff;\n",
       "            color:  #000000;\n",
       "        }#T_90fcc430_407d_11eb_9562_acde48001122row0_col8{\n",
       "            background-color:  #dcdddd;\n",
       "            color:  #000000;\n",
       "        }#T_90fcc430_407d_11eb_9562_acde48001122row0_col9{\n",
       "            background-color:  #c5d6f2;\n",
       "            color:  #000000;\n",
       "        }#T_90fcc430_407d_11eb_9562_acde48001122row0_col10,#T_90fcc430_407d_11eb_9562_acde48001122row12_col13{\n",
       "            background-color:  #cfdaea;\n",
       "            color:  #000000;\n",
       "        }#T_90fcc430_407d_11eb_9562_acde48001122row0_col11,#T_90fcc430_407d_11eb_9562_acde48001122row4_col1,#T_90fcc430_407d_11eb_9562_acde48001122row9_col11{\n",
       "            background-color:  #8db0fe;\n",
       "            color:  #000000;\n",
       "        }#T_90fcc430_407d_11eb_9562_acde48001122row0_col12,#T_90fcc430_407d_11eb_9562_acde48001122row7_col1{\n",
       "            background-color:  #88abfd;\n",
       "            color:  #000000;\n",
       "        }#T_90fcc430_407d_11eb_9562_acde48001122row0_col13,#T_90fcc430_407d_11eb_9562_acde48001122row8_col10{\n",
       "            background-color:  #ead5c9;\n",
       "            color:  #000000;\n",
       "        }#T_90fcc430_407d_11eb_9562_acde48001122row1_col0{\n",
       "            background-color:  #e7d7ce;\n",
       "            color:  #000000;\n",
       "        }#T_90fcc430_407d_11eb_9562_acde48001122row1_col2,#T_90fcc430_407d_11eb_9562_acde48001122row2_col0,#T_90fcc430_407d_11eb_9562_acde48001122row2_col1,#T_90fcc430_407d_11eb_9562_acde48001122row2_col8,#T_90fcc430_407d_11eb_9562_acde48001122row2_col9,#T_90fcc430_407d_11eb_9562_acde48001122row2_col11,#T_90fcc430_407d_11eb_9562_acde48001122row2_col12,#T_90fcc430_407d_11eb_9562_acde48001122row2_col13,#T_90fcc430_407d_11eb_9562_acde48001122row3_col4,#T_90fcc430_407d_11eb_9562_acde48001122row3_col10,#T_90fcc430_407d_11eb_9562_acde48001122row5_col3,#T_90fcc430_407d_11eb_9562_acde48001122row6_col7,#T_90fcc430_407d_11eb_9562_acde48001122row7_col5,#T_90fcc430_407d_11eb_9562_acde48001122row7_col6{\n",
       "            background-color:  #3b4cc0;\n",
       "            color:  #f1f1f1;\n",
       "        }#T_90fcc430_407d_11eb_9562_acde48001122row1_col3,#T_90fcc430_407d_11eb_9562_acde48001122row7_col11{\n",
       "            background-color:  #7093f3;\n",
       "            color:  #000000;\n",
       "        }#T_90fcc430_407d_11eb_9562_acde48001122row1_col4{\n",
       "            background-color:  #6b8df0;\n",
       "            color:  #000000;\n",
       "        }#T_90fcc430_407d_11eb_9562_acde48001122row1_col5,#T_90fcc430_407d_11eb_9562_acde48001122row8_col1{\n",
       "            background-color:  #b9d0f9;\n",
       "            color:  #000000;\n",
       "        }#T_90fcc430_407d_11eb_9562_acde48001122row1_col6{\n",
       "            background-color:  #c1d4f4;\n",
       "            color:  #000000;\n",
       "        }#T_90fcc430_407d_11eb_9562_acde48001122row1_col7,#T_90fcc430_407d_11eb_9562_acde48001122row3_col7{\n",
       "            background-color:  #81a4fb;\n",
       "            color:  #000000;\n",
       "        }#T_90fcc430_407d_11eb_9562_acde48001122row1_col8,#T_90fcc430_407d_11eb_9562_acde48001122row12_col5,#T_90fcc430_407d_11eb_9562_acde48001122row12_col6{\n",
       "            background-color:  #a2c1ff;\n",
       "            color:  #000000;\n",
       "        }#T_90fcc430_407d_11eb_9562_acde48001122row1_col9{\n",
       "            background-color:  #82a6fb;\n",
       "            color:  #000000;\n",
       "        }#T_90fcc430_407d_11eb_9562_acde48001122row1_col10{\n",
       "            background-color:  #8badfd;\n",
       "            color:  #000000;\n",
       "        }#T_90fcc430_407d_11eb_9562_acde48001122row1_col11,#T_90fcc430_407d_11eb_9562_acde48001122row12_col1{\n",
       "            background-color:  #92b4fe;\n",
       "            color:  #000000;\n",
       "        }#T_90fcc430_407d_11eb_9562_acde48001122row1_col12,#T_90fcc430_407d_11eb_9562_acde48001122row6_col2{\n",
       "            background-color:  #6687ed;\n",
       "            color:  #000000;\n",
       "        }#T_90fcc430_407d_11eb_9562_acde48001122row1_col13,#T_90fcc430_407d_11eb_9562_acde48001122row5_col4,#T_90fcc430_407d_11eb_9562_acde48001122row11_col5,#T_90fcc430_407d_11eb_9562_acde48001122row13_col11{\n",
       "            background-color:  #c3d5f4;\n",
       "            color:  #000000;\n",
       "        }#T_90fcc430_407d_11eb_9562_acde48001122row2_col3{\n",
       "            background-color:  #7b9ff9;\n",
       "            color:  #000000;\n",
       "        }#T_90fcc430_407d_11eb_9562_acde48001122row2_col4{\n",
       "            background-color:  #5572df;\n",
       "            color:  #000000;\n",
       "        }#T_90fcc430_407d_11eb_9562_acde48001122row2_col5,#T_90fcc430_407d_11eb_9562_acde48001122row3_col6{\n",
       "            background-color:  #4e68d8;\n",
       "            color:  #000000;\n",
       "        }#T_90fcc430_407d_11eb_9562_acde48001122row2_col6,#T_90fcc430_407d_11eb_9562_acde48001122row11_col2{\n",
       "            background-color:  #5f7fe8;\n",
       "            color:  #000000;\n",
       "        }#T_90fcc430_407d_11eb_9562_acde48001122row2_col7,#T_90fcc430_407d_11eb_9562_acde48001122row9_col2,#T_90fcc430_407d_11eb_9562_acde48001122row12_col2{\n",
       "            background-color:  #6788ee;\n",
       "            color:  #000000;\n",
       "        }#T_90fcc430_407d_11eb_9562_acde48001122row2_col10,#T_90fcc430_407d_11eb_9562_acde48001122row6_col3{\n",
       "            background-color:  #3e51c5;\n",
       "            color:  #f1f1f1;\n",
       "        }#T_90fcc430_407d_11eb_9562_acde48001122row3_col0{\n",
       "            background-color:  #516ddb;\n",
       "            color:  #000000;\n",
       "        }#T_90fcc430_407d_11eb_9562_acde48001122row3_col1{\n",
       "            background-color:  #85a8fc;\n",
       "            color:  #000000;\n",
       "        }#T_90fcc430_407d_11eb_9562_acde48001122row3_col2{\n",
       "            background-color:  #90b2fe;\n",
       "            color:  #000000;\n",
       "        }#T_90fcc430_407d_11eb_9562_acde48001122row3_col5{\n",
       "            background-color:  #3f53c6;\n",
       "            color:  #f1f1f1;\n",
       "        }#T_90fcc430_407d_11eb_9562_acde48001122row3_col8{\n",
       "            background-color:  #455cce;\n",
       "            color:  #f1f1f1;\n",
       "        }#T_90fcc430_407d_11eb_9562_acde48001122row3_col9{\n",
       "            background-color:  #4055c8;\n",
       "            color:  #f1f1f1;\n",
       "        }#T_90fcc430_407d_11eb_9562_acde48001122row3_col11,#T_90fcc430_407d_11eb_9562_acde48001122row12_col3{\n",
       "            background-color:  #6180e9;\n",
       "            color:  #000000;\n",
       "        }#T_90fcc430_407d_11eb_9562_acde48001122row3_col12{\n",
       "            background-color:  #4a63d3;\n",
       "            color:  #f1f1f1;\n",
       "        }#T_90fcc430_407d_11eb_9562_acde48001122row3_col13{\n",
       "            background-color:  #5d7ce6;\n",
       "            color:  #000000;\n",
       "        }#T_90fcc430_407d_11eb_9562_acde48001122row4_col2{\n",
       "            background-color:  #799cf8;\n",
       "            color:  #000000;\n",
       "        }#T_90fcc430_407d_11eb_9562_acde48001122row4_col3,#T_90fcc430_407d_11eb_9562_acde48001122row10_col3{\n",
       "            background-color:  #485fd1;\n",
       "            color:  #f1f1f1;\n",
       "        }#T_90fcc430_407d_11eb_9562_acde48001122row4_col5,#T_90fcc430_407d_11eb_9562_acde48001122row9_col5{\n",
       "            background-color:  #cdd9ec;\n",
       "            color:  #000000;\n",
       "        }#T_90fcc430_407d_11eb_9562_acde48001122row4_col6,#T_90fcc430_407d_11eb_9562_acde48001122row8_col4,#T_90fcc430_407d_11eb_9562_acde48001122row9_col0{\n",
       "            background-color:  #cedaeb;\n",
       "            color:  #000000;\n",
       "        }#T_90fcc430_407d_11eb_9562_acde48001122row4_col7{\n",
       "            background-color:  #aec9fc;\n",
       "            color:  #000000;\n",
       "        }#T_90fcc430_407d_11eb_9562_acde48001122row4_col8,#T_90fcc430_407d_11eb_9562_acde48001122row6_col9{\n",
       "            background-color:  #d2dbe8;\n",
       "            color:  #000000;\n",
       "        }#T_90fcc430_407d_11eb_9562_acde48001122row4_col9,#T_90fcc430_407d_11eb_9562_acde48001122row11_col10{\n",
       "            background-color:  #b3cdfb;\n",
       "            color:  #000000;\n",
       "        }#T_90fcc430_407d_11eb_9562_acde48001122row4_col10,#T_90fcc430_407d_11eb_9562_acde48001122row10_col4{\n",
       "            background-color:  #c9d7f0;\n",
       "            color:  #000000;\n",
       "        }#T_90fcc430_407d_11eb_9562_acde48001122row4_col11,#T_90fcc430_407d_11eb_9562_acde48001122row11_col4{\n",
       "            background-color:  #93b5fe;\n",
       "            color:  #000000;\n",
       "        }#T_90fcc430_407d_11eb_9562_acde48001122row4_col12{\n",
       "            background-color:  #7699f6;\n",
       "            color:  #000000;\n",
       "        }#T_90fcc430_407d_11eb_9562_acde48001122row4_col13{\n",
       "            background-color:  #ebd3c6;\n",
       "            color:  #000000;\n",
       "        }#T_90fcc430_407d_11eb_9562_acde48001122row5_col0,#T_90fcc430_407d_11eb_9562_acde48001122row13_col7{\n",
       "            background-color:  #d3dbe7;\n",
       "            color:  #000000;\n",
       "        }#T_90fcc430_407d_11eb_9562_acde48001122row5_col1{\n",
       "            background-color:  #c4d5f3;\n",
       "            color:  #000000;\n",
       "        }#T_90fcc430_407d_11eb_9562_acde48001122row5_col2{\n",
       "            background-color:  #5e7de7;\n",
       "            color:  #000000;\n",
       "        }#T_90fcc430_407d_11eb_9562_acde48001122row5_col6{\n",
       "            background-color:  #de614d;\n",
       "            color:  #000000;\n",
       "        }#T_90fcc430_407d_11eb_9562_acde48001122row5_col7{\n",
       "            background-color:  #445acc;\n",
       "            color:  #f1f1f1;\n",
       "        }#T_90fcc430_407d_11eb_9562_acde48001122row5_col8{\n",
       "            background-color:  #dfdbd9;\n",
       "            color:  #000000;\n",
       "        }#T_90fcc430_407d_11eb_9562_acde48001122row5_col9,#T_90fcc430_407d_11eb_9562_acde48001122row13_col12{\n",
       "            background-color:  #bcd2f7;\n",
       "            color:  #000000;\n",
       "        }#T_90fcc430_407d_11eb_9562_acde48001122row5_col10{\n",
       "            background-color:  #e6d7cf;\n",
       "            color:  #000000;\n",
       "        }#T_90fcc430_407d_11eb_9562_acde48001122row5_col11,#T_90fcc430_407d_11eb_9562_acde48001122row6_col11,#T_90fcc430_407d_11eb_9562_acde48001122row8_col12{\n",
       "            background-color:  #b5cdfa;\n",
       "            color:  #000000;\n",
       "        }#T_90fcc430_407d_11eb_9562_acde48001122row5_col12{\n",
       "            background-color:  #89acfd;\n",
       "            color:  #000000;\n",
       "        }#T_90fcc430_407d_11eb_9562_acde48001122row5_col13,#T_90fcc430_407d_11eb_9562_acde48001122row7_col8{\n",
       "            background-color:  #f6a385;\n",
       "            color:  #000000;\n",
       "        }#T_90fcc430_407d_11eb_9562_acde48001122row6_col0{\n",
       "            background-color:  #dbdcde;\n",
       "            color:  #000000;\n",
       "        }#T_90fcc430_407d_11eb_9562_acde48001122row6_col1{\n",
       "            background-color:  #c6d6f1;\n",
       "            color:  #000000;\n",
       "        }#T_90fcc430_407d_11eb_9562_acde48001122row6_col4,#T_90fcc430_407d_11eb_9562_acde48001122row12_col7{\n",
       "            background-color:  #bed2f6;\n",
       "            color:  #000000;\n",
       "        }#T_90fcc430_407d_11eb_9562_acde48001122row6_col5{\n",
       "            background-color:  #e0654f;\n",
       "            color:  #000000;\n",
       "        }#T_90fcc430_407d_11eb_9562_acde48001122row6_col8{\n",
       "            background-color:  #efcebd;\n",
       "            color:  #000000;\n",
       "        }#T_90fcc430_407d_11eb_9562_acde48001122row6_col10,#T_90fcc430_407d_11eb_9562_acde48001122row9_col6,#T_90fcc430_407d_11eb_9562_acde48001122row13_col4{\n",
       "            background-color:  #e2dad5;\n",
       "            color:  #000000;\n",
       "        }#T_90fcc430_407d_11eb_9562_acde48001122row6_col12{\n",
       "            background-color:  #80a3fa;\n",
       "            color:  #000000;\n",
       "        }#T_90fcc430_407d_11eb_9562_acde48001122row6_col13{\n",
       "            background-color:  #f7aa8c;\n",
       "            color:  #000000;\n",
       "        }#T_90fcc430_407d_11eb_9562_acde48001122row7_col0,#T_90fcc430_407d_11eb_9562_acde48001122row11_col7{\n",
       "            background-color:  #8caffe;\n",
       "            color:  #000000;\n",
       "        }#T_90fcc430_407d_11eb_9562_acde48001122row7_col2,#T_90fcc430_407d_11eb_9562_acde48001122row11_col3{\n",
       "            background-color:  #6e90f2;\n",
       "            color:  #000000;\n",
       "        }#T_90fcc430_407d_11eb_9562_acde48001122row7_col3,#T_90fcc430_407d_11eb_9562_acde48001122row11_col12{\n",
       "            background-color:  #7295f4;\n",
       "            color:  #000000;\n",
       "        }#T_90fcc430_407d_11eb_9562_acde48001122row7_col4,#T_90fcc430_407d_11eb_9562_acde48001122row12_col0{\n",
       "            background-color:  #97b8ff;\n",
       "            color:  #000000;\n",
       "        }#T_90fcc430_407d_11eb_9562_acde48001122row7_col9{\n",
       "            background-color:  #f6bfa6;\n",
       "            color:  #000000;\n",
       "        }#T_90fcc430_407d_11eb_9562_acde48001122row7_col12{\n",
       "            background-color:  #a1c0ff;\n",
       "            color:  #000000;\n",
       "        }#T_90fcc430_407d_11eb_9562_acde48001122row7_col13,#T_90fcc430_407d_11eb_9562_acde48001122row9_col10,#T_90fcc430_407d_11eb_9562_acde48001122row11_col13{\n",
       "            background-color:  #d1dae9;\n",
       "            color:  #000000;\n",
       "        }#T_90fcc430_407d_11eb_9562_acde48001122row8_col0{\n",
       "            background-color:  #dddcdc;\n",
       "            color:  #000000;\n",
       "        }#T_90fcc430_407d_11eb_9562_acde48001122row8_col2{\n",
       "            background-color:  #5977e3;\n",
       "            color:  #000000;\n",
       "        }#T_90fcc430_407d_11eb_9562_acde48001122row8_col3{\n",
       "            background-color:  #4c66d6;\n",
       "            color:  #000000;\n",
       "        }#T_90fcc430_407d_11eb_9562_acde48001122row8_col5{\n",
       "            background-color:  #e5d8d1;\n",
       "            color:  #000000;\n",
       "        }#T_90fcc430_407d_11eb_9562_acde48001122row8_col6{\n",
       "            background-color:  #f4c6af;\n",
       "            color:  #000000;\n",
       "        }#T_90fcc430_407d_11eb_9562_acde48001122row8_col7,#T_90fcc430_407d_11eb_9562_acde48001122row10_col13{\n",
       "            background-color:  #f49a7b;\n",
       "            color:  #000000;\n",
       "        }#T_90fcc430_407d_11eb_9562_acde48001122row8_col9{\n",
       "            background-color:  #e36b54;\n",
       "            color:  #000000;\n",
       "        }#T_90fcc430_407d_11eb_9562_acde48001122row8_col11{\n",
       "            background-color:  #abc8fd;\n",
       "            color:  #000000;\n",
       "        }#T_90fcc430_407d_11eb_9562_acde48001122row8_col13{\n",
       "            background-color:  #ec8165;\n",
       "            color:  #000000;\n",
       "        }#T_90fcc430_407d_11eb_9562_acde48001122row9_col1,#T_90fcc430_407d_11eb_9562_acde48001122row10_col1{\n",
       "            background-color:  #a9c6fd;\n",
       "            color:  #000000;\n",
       "        }#T_90fcc430_407d_11eb_9562_acde48001122row9_col4{\n",
       "            background-color:  #bad0f8;\n",
       "            color:  #000000;\n",
       "        }#T_90fcc430_407d_11eb_9562_acde48001122row9_col7{\n",
       "            background-color:  #f7b194;\n",
       "            color:  #000000;\n",
       "        }#T_90fcc430_407d_11eb_9562_acde48001122row9_col8{\n",
       "            background-color:  #e16751;\n",
       "            color:  #000000;\n",
       "        }#T_90fcc430_407d_11eb_9562_acde48001122row9_col12{\n",
       "            background-color:  #a5c3fe;\n",
       "            color:  #000000;\n",
       "        }#T_90fcc430_407d_11eb_9562_acde48001122row9_col13{\n",
       "            background-color:  #f7b599;\n",
       "            color:  #000000;\n",
       "        }#T_90fcc430_407d_11eb_9562_acde48001122row10_col0{\n",
       "            background-color:  #d4dbe6;\n",
       "            color:  #000000;\n",
       "        }#T_90fcc430_407d_11eb_9562_acde48001122row10_col2{\n",
       "            background-color:  #6282ea;\n",
       "            color:  #000000;\n",
       "        }#T_90fcc430_407d_11eb_9562_acde48001122row10_col5{\n",
       "            background-color:  #edd2c3;\n",
       "            color:  #000000;\n",
       "        }#T_90fcc430_407d_11eb_9562_acde48001122row10_col6,#T_90fcc430_407d_11eb_9562_acde48001122row10_col8{\n",
       "            background-color:  #ecd3c5;\n",
       "            color:  #000000;\n",
       "        }#T_90fcc430_407d_11eb_9562_acde48001122row10_col7,#T_90fcc430_407d_11eb_9562_acde48001122row11_col1,#T_90fcc430_407d_11eb_9562_acde48001122row11_col8{\n",
       "            background-color:  #afcafc;\n",
       "            color:  #000000;\n",
       "        }#T_90fcc430_407d_11eb_9562_acde48001122row10_col9{\n",
       "            background-color:  #ccd9ed;\n",
       "            color:  #000000;\n",
       "        }#T_90fcc430_407d_11eb_9562_acde48001122row10_col11{\n",
       "            background-color:  #b2ccfb;\n",
       "            color:  #000000;\n",
       "        }#T_90fcc430_407d_11eb_9562_acde48001122row10_col12{\n",
       "            background-color:  #96b7ff;\n",
       "            color:  #000000;\n",
       "        }#T_90fcc430_407d_11eb_9562_acde48001122row11_col0{\n",
       "            background-color:  #94b6ff;\n",
       "            color:  #000000;\n",
       "        }#T_90fcc430_407d_11eb_9562_acde48001122row11_col6{\n",
       "            background-color:  #c7d7f0;\n",
       "            color:  #000000;\n",
       "        }#T_90fcc430_407d_11eb_9562_acde48001122row11_col9{\n",
       "            background-color:  #86a9fc;\n",
       "            color:  #000000;\n",
       "        }#T_90fcc430_407d_11eb_9562_acde48001122row12_col4{\n",
       "            background-color:  #7ea1fa;\n",
       "            color:  #000000;\n",
       "        }#T_90fcc430_407d_11eb_9562_acde48001122row12_col8{\n",
       "            background-color:  #bfd3f6;\n",
       "            color:  #000000;\n",
       "        }#T_90fcc430_407d_11eb_9562_acde48001122row12_col9{\n",
       "            background-color:  #a6c4fe;\n",
       "            color:  #000000;\n",
       "        }#T_90fcc430_407d_11eb_9562_acde48001122row12_col10{\n",
       "            background-color:  #9ebeff;\n",
       "            color:  #000000;\n",
       "        }#T_90fcc430_407d_11eb_9562_acde48001122row12_col11{\n",
       "            background-color:  #7a9df8;\n",
       "            color:  #000000;\n",
       "        }#T_90fcc430_407d_11eb_9562_acde48001122row13_col0{\n",
       "            background-color:  #e3d9d3;\n",
       "            color:  #000000;\n",
       "        }#T_90fcc430_407d_11eb_9562_acde48001122row13_col1{\n",
       "            background-color:  #cad8ef;\n",
       "            color:  #000000;\n",
       "        }#T_90fcc430_407d_11eb_9562_acde48001122row13_col2{\n",
       "            background-color:  #465ecf;\n",
       "            color:  #f1f1f1;\n",
       "        }#T_90fcc430_407d_11eb_9562_acde48001122row13_col3{\n",
       "            background-color:  #536edd;\n",
       "            color:  #000000;\n",
       "        }#T_90fcc430_407d_11eb_9562_acde48001122row13_col5{\n",
       "            background-color:  #f6a586;\n",
       "            color:  #000000;\n",
       "        }#T_90fcc430_407d_11eb_9562_acde48001122row13_col6{\n",
       "            background-color:  #f7a98b;\n",
       "            color:  #000000;\n",
       "        }#T_90fcc430_407d_11eb_9562_acde48001122row13_col8{\n",
       "            background-color:  #ef886b;\n",
       "            color:  #000000;\n",
       "        }#T_90fcc430_407d_11eb_9562_acde48001122row13_col9{\n",
       "            background-color:  #f5c1a9;\n",
       "            color:  #000000;\n",
       "        }#T_90fcc430_407d_11eb_9562_acde48001122row13_col10{\n",
       "            background-color:  #f6a283;\n",
       "            color:  #000000;\n",
       "        }</style><table id=\"T_90fcc430_407d_11eb_9562_acde48001122\" ><thead>    <tr>        <th class=\"blank level0\" ></th>        <th class=\"col_heading level0 col0\" >LotFrontage</th>        <th class=\"col_heading level0 col1\" >LotArea</th>        <th class=\"col_heading level0 col2\" >LotShape</th>        <th class=\"col_heading level0 col3\" >OverallCond</th>        <th class=\"col_heading level0 col4\" >MasVnrArea</th>        <th class=\"col_heading level0 col5\" >TotalBsmtSF</th>        <th class=\"col_heading level0 col6\" >1stFlrSF</th>        <th class=\"col_heading level0 col7\" >2ndFlrSF</th>        <th class=\"col_heading level0 col8\" >GrLivArea</th>        <th class=\"col_heading level0 col9\" >TotRmsAbvGrd</th>        <th class=\"col_heading level0 col10\" >GarageArea</th>        <th class=\"col_heading level0 col11\" >WoodDeckSF</th>        <th class=\"col_heading level0 col12\" >OpenPorchSF</th>        <th class=\"col_heading level0 col13\" >SalePrice</th>    </tr></thead><tbody>\n",
       "                <tr>\n",
       "                        <th id=\"T_90fcc430_407d_11eb_9562_acde48001122level0_row0\" class=\"row_heading level0 row0\" >LotFrontage</th>\n",
       "                        <td id=\"T_90fcc430_407d_11eb_9562_acde48001122row0_col0\" class=\"data row0 col0\" >1.000000</td>\n",
       "                        <td id=\"T_90fcc430_407d_11eb_9562_acde48001122row0_col1\" class=\"data row0 col1\" >0.454630</td>\n",
       "                        <td id=\"T_90fcc430_407d_11eb_9562_acde48001122row0_col2\" class=\"data row0 col2\" >-0.183195</td>\n",
       "                        <td id=\"T_90fcc430_407d_11eb_9562_acde48001122row0_col3\" class=\"data row0 col3\" >-0.094723</td>\n",
       "                        <td id=\"T_90fcc430_407d_11eb_9562_acde48001122row0_col4\" class=\"data row0 col4\" >0.174649</td>\n",
       "                        <td id=\"T_90fcc430_407d_11eb_9562_acde48001122row0_col5\" class=\"data row0 col5\" >0.366737</td>\n",
       "                        <td id=\"T_90fcc430_407d_11eb_9562_acde48001122row0_col6\" class=\"data row0 col6\" >0.400026</td>\n",
       "                        <td id=\"T_90fcc430_407d_11eb_9562_acde48001122row0_col7\" class=\"data row0 col7\" >0.111902</td>\n",
       "                        <td id=\"T_90fcc430_407d_11eb_9562_acde48001122row0_col8\" class=\"data row0 col8\" >0.408722</td>\n",
       "                        <td id=\"T_90fcc430_407d_11eb_9562_acde48001122row0_col9\" class=\"data row0 col9\" >0.347520</td>\n",
       "                        <td id=\"T_90fcc430_407d_11eb_9562_acde48001122row0_col10\" class=\"data row0 col10\" >0.368427</td>\n",
       "                        <td id=\"T_90fcc430_407d_11eb_9562_acde48001122row0_col11\" class=\"data row0 col11\" >0.138773</td>\n",
       "                        <td id=\"T_90fcc430_407d_11eb_9562_acde48001122row0_col12\" class=\"data row0 col12\" >0.146728</td>\n",
       "                        <td id=\"T_90fcc430_407d_11eb_9562_acde48001122row0_col13\" class=\"data row0 col13\" >0.440661</td>\n",
       "            </tr>\n",
       "            <tr>\n",
       "                        <th id=\"T_90fcc430_407d_11eb_9562_acde48001122level0_row1\" class=\"row_heading level0 row1\" >LotArea</th>\n",
       "                        <td id=\"T_90fcc430_407d_11eb_9562_acde48001122row1_col0\" class=\"data row1 col0\" >0.454630</td>\n",
       "                        <td id=\"T_90fcc430_407d_11eb_9562_acde48001122row1_col1\" class=\"data row1 col1\" >1.000000</td>\n",
       "                        <td id=\"T_90fcc430_407d_11eb_9562_acde48001122row1_col2\" class=\"data row1 col2\" >-0.303434</td>\n",
       "                        <td id=\"T_90fcc430_407d_11eb_9562_acde48001122row1_col3\" class=\"data row1 col3\" >-0.004153</td>\n",
       "                        <td id=\"T_90fcc430_407d_11eb_9562_acde48001122row1_col4\" class=\"data row1 col4\" >0.023161</td>\n",
       "                        <td id=\"T_90fcc430_407d_11eb_9562_acde48001122row1_col5\" class=\"data row1 col5\" >0.232159</td>\n",
       "                        <td id=\"T_90fcc430_407d_11eb_9562_acde48001122row1_col6\" class=\"data row1 col6\" >0.242933</td>\n",
       "                        <td id=\"T_90fcc430_407d_11eb_9562_acde48001122row1_col7\" class=\"data row1 col7\" >0.005668</td>\n",
       "                        <td id=\"T_90fcc430_407d_11eb_9562_acde48001122row1_col8\" class=\"data row1 col8\" >0.189931</td>\n",
       "                        <td id=\"T_90fcc430_407d_11eb_9562_acde48001122row1_col9\" class=\"data row1 col9\" >0.126575</td>\n",
       "                        <td id=\"T_90fcc430_407d_11eb_9562_acde48001122row1_col10\" class=\"data row1 col10\" >0.126810</td>\n",
       "                        <td id=\"T_90fcc430_407d_11eb_9562_acde48001122row1_col11\" class=\"data row1 col11\" >0.154615</td>\n",
       "                        <td id=\"T_90fcc430_407d_11eb_9562_acde48001122row1_col12\" class=\"data row1 col12\" >0.037802</td>\n",
       "                        <td id=\"T_90fcc430_407d_11eb_9562_acde48001122row1_col13\" class=\"data row1 col13\" >0.260319</td>\n",
       "            </tr>\n",
       "            <tr>\n",
       "                        <th id=\"T_90fcc430_407d_11eb_9562_acde48001122level0_row2\" class=\"row_heading level0 row2\" >LotShape</th>\n",
       "                        <td id=\"T_90fcc430_407d_11eb_9562_acde48001122row2_col0\" class=\"data row2 col0\" >-0.183195</td>\n",
       "                        <td id=\"T_90fcc430_407d_11eb_9562_acde48001122row2_col1\" class=\"data row2 col1\" >-0.303434</td>\n",
       "                        <td id=\"T_90fcc430_407d_11eb_9562_acde48001122row2_col2\" class=\"data row2 col2\" >1.000000</td>\n",
       "                        <td id=\"T_90fcc430_407d_11eb_9562_acde48001122row2_col3\" class=\"data row2 col3\" >0.036525</td>\n",
       "                        <td id=\"T_90fcc430_407d_11eb_9562_acde48001122row2_col4\" class=\"data row2 col4\" >-0.050826</td>\n",
       "                        <td id=\"T_90fcc430_407d_11eb_9562_acde48001122row2_col5\" class=\"data row2 col5\" >-0.153391</td>\n",
       "                        <td id=\"T_90fcc430_407d_11eb_9562_acde48001122row2_col6\" class=\"data row2 col6\" >-0.121731</td>\n",
       "                        <td id=\"T_90fcc430_407d_11eb_9562_acde48001122row2_col7\" class=\"data row2 col7\" >-0.091410</td>\n",
       "                        <td id=\"T_90fcc430_407d_11eb_9562_acde48001122row2_col8\" class=\"data row2 col8\" >-0.174727</td>\n",
       "                        <td id=\"T_90fcc430_407d_11eb_9562_acde48001122row2_col9\" class=\"data row2 col9\" >-0.119911</td>\n",
       "                        <td id=\"T_90fcc430_407d_11eb_9562_acde48001122row2_col10\" class=\"data row2 col10\" >-0.137544</td>\n",
       "                        <td id=\"T_90fcc430_407d_11eb_9562_acde48001122row2_col11\" class=\"data row2 col11\" >-0.150486</td>\n",
       "                        <td id=\"T_90fcc430_407d_11eb_9562_acde48001122row2_col12\" class=\"data row2 col12\" >-0.117508</td>\n",
       "                        <td id=\"T_90fcc430_407d_11eb_9562_acde48001122row2_col13\" class=\"data row2 col13\" >-0.251458</td>\n",
       "            </tr>\n",
       "            <tr>\n",
       "                        <th id=\"T_90fcc430_407d_11eb_9562_acde48001122level0_row3\" class=\"row_heading level0 row3\" >OverallCond</th>\n",
       "                        <td id=\"T_90fcc430_407d_11eb_9562_acde48001122row3_col0\" class=\"data row3 col0\" >-0.094723</td>\n",
       "                        <td id=\"T_90fcc430_407d_11eb_9562_acde48001122row3_col1\" class=\"data row3 col1\" >-0.004153</td>\n",
       "                        <td id=\"T_90fcc430_407d_11eb_9562_acde48001122row3_col2\" class=\"data row3 col2\" >0.036525</td>\n",
       "                        <td id=\"T_90fcc430_407d_11eb_9562_acde48001122row3_col3\" class=\"data row3 col3\" >1.000000</td>\n",
       "                        <td id=\"T_90fcc430_407d_11eb_9562_acde48001122row3_col4\" class=\"data row3 col4\" >-0.152860</td>\n",
       "                        <td id=\"T_90fcc430_407d_11eb_9562_acde48001122row3_col5\" class=\"data row3 col5\" >-0.206997</td>\n",
       "                        <td id=\"T_90fcc430_407d_11eb_9562_acde48001122row3_col6\" class=\"data row3 col6\" >-0.190223</td>\n",
       "                        <td id=\"T_90fcc430_407d_11eb_9562_acde48001122row3_col7\" class=\"data row3 col7\" >0.004749</td>\n",
       "                        <td id=\"T_90fcc430_407d_11eb_9562_acde48001122row3_col8\" class=\"data row3 col8\" >-0.132050</td>\n",
       "                        <td id=\"T_90fcc430_407d_11eb_9562_acde48001122row3_col9\" class=\"data row3 col9\" >-0.094253</td>\n",
       "                        <td id=\"T_90fcc430_407d_11eb_9562_acde48001122row3_col10\" class=\"data row3 col10\" >-0.153564</td>\n",
       "                        <td id=\"T_90fcc430_407d_11eb_9562_acde48001122row3_col11\" class=\"data row3 col11\" >-0.011018</td>\n",
       "                        <td id=\"T_90fcc430_407d_11eb_9562_acde48001122row3_col12\" class=\"data row3 col12\" >-0.057953</td>\n",
       "                        <td id=\"T_90fcc430_407d_11eb_9562_acde48001122row3_col13\" class=\"data row3 col13\" >-0.111559</td>\n",
       "            </tr>\n",
       "            <tr>\n",
       "                        <th id=\"T_90fcc430_407d_11eb_9562_acde48001122level0_row4\" class=\"row_heading level0 row4\" >MasVnrArea</th>\n",
       "                        <td id=\"T_90fcc430_407d_11eb_9562_acde48001122row4_col0\" class=\"data row4 col0\" >0.174649</td>\n",
       "                        <td id=\"T_90fcc430_407d_11eb_9562_acde48001122row4_col1\" class=\"data row4 col1\" >0.023161</td>\n",
       "                        <td id=\"T_90fcc430_407d_11eb_9562_acde48001122row4_col2\" class=\"data row4 col2\" >-0.050826</td>\n",
       "                        <td id=\"T_90fcc430_407d_11eb_9562_acde48001122row4_col3\" class=\"data row4 col3\" >-0.152860</td>\n",
       "                        <td id=\"T_90fcc430_407d_11eb_9562_acde48001122row4_col4\" class=\"data row4 col4\" >1.000000</td>\n",
       "                        <td id=\"T_90fcc430_407d_11eb_9562_acde48001122row4_col5\" class=\"data row4 col5\" >0.315911</td>\n",
       "                        <td id=\"T_90fcc430_407d_11eb_9562_acde48001122row4_col6\" class=\"data row4 col6\" >0.298576</td>\n",
       "                        <td id=\"T_90fcc430_407d_11eb_9562_acde48001122row4_col7\" class=\"data row4 col7\" >0.167747</td>\n",
       "                        <td id=\"T_90fcc430_407d_11eb_9562_acde48001122row4_col8\" class=\"data row4 col8\" >0.363389</td>\n",
       "                        <td id=\"T_90fcc430_407d_11eb_9562_acde48001122row4_col9\" class=\"data row4 col9\" >0.285583</td>\n",
       "                        <td id=\"T_90fcc430_407d_11eb_9562_acde48001122row4_col10\" class=\"data row4 col10\" >0.338416</td>\n",
       "                        <td id=\"T_90fcc430_407d_11eb_9562_acde48001122row4_col11\" class=\"data row4 col11\" >0.156378</td>\n",
       "                        <td id=\"T_90fcc430_407d_11eb_9562_acde48001122row4_col12\" class=\"data row4 col12\" >0.088570</td>\n",
       "                        <td id=\"T_90fcc430_407d_11eb_9562_acde48001122row4_col13\" class=\"data row4 col13\" >0.448025</td>\n",
       "            </tr>\n",
       "            <tr>\n",
       "                        <th id=\"T_90fcc430_407d_11eb_9562_acde48001122level0_row5\" class=\"row_heading level0 row5\" >TotalBsmtSF</th>\n",
       "                        <td id=\"T_90fcc430_407d_11eb_9562_acde48001122row5_col0\" class=\"data row5 col0\" >0.366737</td>\n",
       "                        <td id=\"T_90fcc430_407d_11eb_9562_acde48001122row5_col1\" class=\"data row5 col1\" >0.232159</td>\n",
       "                        <td id=\"T_90fcc430_407d_11eb_9562_acde48001122row5_col2\" class=\"data row5 col2\" >-0.153391</td>\n",
       "                        <td id=\"T_90fcc430_407d_11eb_9562_acde48001122row5_col3\" class=\"data row5 col3\" >-0.206997</td>\n",
       "                        <td id=\"T_90fcc430_407d_11eb_9562_acde48001122row5_col4\" class=\"data row5 col4\" >0.315911</td>\n",
       "                        <td id=\"T_90fcc430_407d_11eb_9562_acde48001122row5_col5\" class=\"data row5 col5\" >1.000000</td>\n",
       "                        <td id=\"T_90fcc430_407d_11eb_9562_acde48001122row5_col6\" class=\"data row5 col6\" >0.836461</td>\n",
       "                        <td id=\"T_90fcc430_407d_11eb_9562_acde48001122row5_col7\" class=\"data row5 col7\" >-0.230730</td>\n",
       "                        <td id=\"T_90fcc430_407d_11eb_9562_acde48001122row5_col8\" class=\"data row5 col8\" >0.424987</td>\n",
       "                        <td id=\"T_90fcc430_407d_11eb_9562_acde48001122row5_col9\" class=\"data row5 col9\" >0.313855</td>\n",
       "                        <td id=\"T_90fcc430_407d_11eb_9562_acde48001122row5_col10\" class=\"data row5 col10\" >0.466539</td>\n",
       "                        <td id=\"T_90fcc430_407d_11eb_9562_acde48001122row5_col11\" class=\"data row5 col11\" >0.271812</td>\n",
       "                        <td id=\"T_90fcc430_407d_11eb_9562_acde48001122row5_col12\" class=\"data row5 col12\" >0.150616</td>\n",
       "                        <td id=\"T_90fcc430_407d_11eb_9562_acde48001122row5_col13\" class=\"data row5 col13\" >0.654094</td>\n",
       "            </tr>\n",
       "            <tr>\n",
       "                        <th id=\"T_90fcc430_407d_11eb_9562_acde48001122level0_row6\" class=\"row_heading level0 row6\" >1stFlrSF</th>\n",
       "                        <td id=\"T_90fcc430_407d_11eb_9562_acde48001122row6_col0\" class=\"data row6 col0\" >0.400026</td>\n",
       "                        <td id=\"T_90fcc430_407d_11eb_9562_acde48001122row6_col1\" class=\"data row6 col1\" >0.242933</td>\n",
       "                        <td id=\"T_90fcc430_407d_11eb_9562_acde48001122row6_col2\" class=\"data row6 col2\" >-0.121731</td>\n",
       "                        <td id=\"T_90fcc430_407d_11eb_9562_acde48001122row6_col3\" class=\"data row6 col3\" >-0.190223</td>\n",
       "                        <td id=\"T_90fcc430_407d_11eb_9562_acde48001122row6_col4\" class=\"data row6 col4\" >0.298576</td>\n",
       "                        <td id=\"T_90fcc430_407d_11eb_9562_acde48001122row6_col5\" class=\"data row6 col5\" >0.836461</td>\n",
       "                        <td id=\"T_90fcc430_407d_11eb_9562_acde48001122row6_col6\" class=\"data row6 col6\" >1.000000</td>\n",
       "                        <td id=\"T_90fcc430_407d_11eb_9562_acde48001122row6_col7\" class=\"data row6 col7\" >-0.272509</td>\n",
       "                        <td id=\"T_90fcc430_407d_11eb_9562_acde48001122row6_col8\" class=\"data row6 col8\" >0.513233</td>\n",
       "                        <td id=\"T_90fcc430_407d_11eb_9562_acde48001122row6_col9\" class=\"data row6 col9\" >0.393301</td>\n",
       "                        <td id=\"T_90fcc430_407d_11eb_9562_acde48001122row6_col10\" class=\"data row6 col10\" >0.447568</td>\n",
       "                        <td id=\"T_90fcc430_407d_11eb_9562_acde48001122row6_col11\" class=\"data row6 col11\" >0.268728</td>\n",
       "                        <td id=\"T_90fcc430_407d_11eb_9562_acde48001122row6_col12\" class=\"data row6 col12\" >0.121054</td>\n",
       "                        <td id=\"T_90fcc430_407d_11eb_9562_acde48001122row6_col13\" class=\"data row6 col13\" >0.631925</td>\n",
       "            </tr>\n",
       "            <tr>\n",
       "                        <th id=\"T_90fcc430_407d_11eb_9562_acde48001122level0_row7\" class=\"row_heading level0 row7\" >2ndFlrSF</th>\n",
       "                        <td id=\"T_90fcc430_407d_11eb_9562_acde48001122row7_col0\" class=\"data row7 col0\" >0.111902</td>\n",
       "                        <td id=\"T_90fcc430_407d_11eb_9562_acde48001122row7_col1\" class=\"data row7 col1\" >0.005668</td>\n",
       "                        <td id=\"T_90fcc430_407d_11eb_9562_acde48001122row7_col2\" class=\"data row7 col2\" >-0.091410</td>\n",
       "                        <td id=\"T_90fcc430_407d_11eb_9562_acde48001122row7_col3\" class=\"data row7 col3\" >0.004749</td>\n",
       "                        <td id=\"T_90fcc430_407d_11eb_9562_acde48001122row7_col4\" class=\"data row7 col4\" >0.167747</td>\n",
       "                        <td id=\"T_90fcc430_407d_11eb_9562_acde48001122row7_col5\" class=\"data row7 col5\" >-0.230730</td>\n",
       "                        <td id=\"T_90fcc430_407d_11eb_9562_acde48001122row7_col6\" class=\"data row7 col6\" >-0.272509</td>\n",
       "                        <td id=\"T_90fcc430_407d_11eb_9562_acde48001122row7_col7\" class=\"data row7 col7\" >1.000000</td>\n",
       "                        <td id=\"T_90fcc430_407d_11eb_9562_acde48001122row7_col8\" class=\"data row7 col8\" >0.677360</td>\n",
       "                        <td id=\"T_90fcc430_407d_11eb_9562_acde48001122row7_col9\" class=\"data row7 col9\" >0.598838</td>\n",
       "                        <td id=\"T_90fcc430_407d_11eb_9562_acde48001122row7_col10\" class=\"data row7 col10\" >0.173382</td>\n",
       "                        <td id=\"T_90fcc430_407d_11eb_9562_acde48001122row7_col11\" class=\"data row7 col11\" >0.043300</td>\n",
       "                        <td id=\"T_90fcc430_407d_11eb_9562_acde48001122row7_col12\" class=\"data row7 col12\" >0.225331</td>\n",
       "                        <td id=\"T_90fcc430_407d_11eb_9562_acde48001122row7_col13\" class=\"data row7 col13\" >0.317128</td>\n",
       "            </tr>\n",
       "            <tr>\n",
       "                        <th id=\"T_90fcc430_407d_11eb_9562_acde48001122level0_row8\" class=\"row_heading level0 row8\" >GrLivArea</th>\n",
       "                        <td id=\"T_90fcc430_407d_11eb_9562_acde48001122row8_col0\" class=\"data row8 col0\" >0.408722</td>\n",
       "                        <td id=\"T_90fcc430_407d_11eb_9562_acde48001122row8_col1\" class=\"data row8 col1\" >0.189931</td>\n",
       "                        <td id=\"T_90fcc430_407d_11eb_9562_acde48001122row8_col2\" class=\"data row8 col2\" >-0.174727</td>\n",
       "                        <td id=\"T_90fcc430_407d_11eb_9562_acde48001122row8_col3\" class=\"data row8 col3\" >-0.132050</td>\n",
       "                        <td id=\"T_90fcc430_407d_11eb_9562_acde48001122row8_col4\" class=\"data row8 col4\" >0.363389</td>\n",
       "                        <td id=\"T_90fcc430_407d_11eb_9562_acde48001122row8_col5\" class=\"data row8 col5\" >0.424987</td>\n",
       "                        <td id=\"T_90fcc430_407d_11eb_9562_acde48001122row8_col6\" class=\"data row8 col6\" >0.513233</td>\n",
       "                        <td id=\"T_90fcc430_407d_11eb_9562_acde48001122row8_col7\" class=\"data row8 col7\" >0.677360</td>\n",
       "                        <td id=\"T_90fcc430_407d_11eb_9562_acde48001122row8_col8\" class=\"data row8 col8\" >1.000000</td>\n",
       "                        <td id=\"T_90fcc430_407d_11eb_9562_acde48001122row8_col9\" class=\"data row8 col9\" >0.835038</td>\n",
       "                        <td id=\"T_90fcc430_407d_11eb_9562_acde48001122row8_col10\" class=\"data row8 col10\" >0.486134</td>\n",
       "                        <td id=\"T_90fcc430_407d_11eb_9562_acde48001122row8_col11\" class=\"data row8 col11\" >0.237549</td>\n",
       "                        <td id=\"T_90fcc430_407d_11eb_9562_acde48001122row8_col12\" class=\"data row8 col12\" >0.291695</td>\n",
       "                        <td id=\"T_90fcc430_407d_11eb_9562_acde48001122row8_col13\" class=\"data row8 col13\" >0.755993</td>\n",
       "            </tr>\n",
       "            <tr>\n",
       "                        <th id=\"T_90fcc430_407d_11eb_9562_acde48001122level0_row9\" class=\"row_heading level0 row9\" >TotRmsAbvGrd</th>\n",
       "                        <td id=\"T_90fcc430_407d_11eb_9562_acde48001122row9_col0\" class=\"data row9 col0\" >0.347520</td>\n",
       "                        <td id=\"T_90fcc430_407d_11eb_9562_acde48001122row9_col1\" class=\"data row9 col1\" >0.126575</td>\n",
       "                        <td id=\"T_90fcc430_407d_11eb_9562_acde48001122row9_col2\" class=\"data row9 col2\" >-0.119911</td>\n",
       "                        <td id=\"T_90fcc430_407d_11eb_9562_acde48001122row9_col3\" class=\"data row9 col3\" >-0.094253</td>\n",
       "                        <td id=\"T_90fcc430_407d_11eb_9562_acde48001122row9_col4\" class=\"data row9 col4\" >0.285583</td>\n",
       "                        <td id=\"T_90fcc430_407d_11eb_9562_acde48001122row9_col5\" class=\"data row9 col5\" >0.313855</td>\n",
       "                        <td id=\"T_90fcc430_407d_11eb_9562_acde48001122row9_col6\" class=\"data row9 col6\" >0.393301</td>\n",
       "                        <td id=\"T_90fcc430_407d_11eb_9562_acde48001122row9_col7\" class=\"data row9 col7\" >0.598838</td>\n",
       "                        <td id=\"T_90fcc430_407d_11eb_9562_acde48001122row9_col8\" class=\"data row9 col8\" >0.835038</td>\n",
       "                        <td id=\"T_90fcc430_407d_11eb_9562_acde48001122row9_col9\" class=\"data row9 col9\" >1.000000</td>\n",
       "                        <td id=\"T_90fcc430_407d_11eb_9562_acde48001122row9_col10\" class=\"data row9 col10\" >0.373176</td>\n",
       "                        <td id=\"T_90fcc430_407d_11eb_9562_acde48001122row9_col11\" class=\"data row9 col11\" >0.138407</td>\n",
       "                        <td id=\"T_90fcc430_407d_11eb_9562_acde48001122row9_col12\" class=\"data row9 col12\" >0.239594</td>\n",
       "                        <td id=\"T_90fcc430_407d_11eb_9562_acde48001122row9_col13\" class=\"data row9 col13\" >0.589579</td>\n",
       "            </tr>\n",
       "            <tr>\n",
       "                        <th id=\"T_90fcc430_407d_11eb_9562_acde48001122level0_row10\" class=\"row_heading level0 row10\" >GarageArea</th>\n",
       "                        <td id=\"T_90fcc430_407d_11eb_9562_acde48001122row10_col0\" class=\"data row10 col0\" >0.368427</td>\n",
       "                        <td id=\"T_90fcc430_407d_11eb_9562_acde48001122row10_col1\" class=\"data row10 col1\" >0.126810</td>\n",
       "                        <td id=\"T_90fcc430_407d_11eb_9562_acde48001122row10_col2\" class=\"data row10 col2\" >-0.137544</td>\n",
       "                        <td id=\"T_90fcc430_407d_11eb_9562_acde48001122row10_col3\" class=\"data row10 col3\" >-0.153564</td>\n",
       "                        <td id=\"T_90fcc430_407d_11eb_9562_acde48001122row10_col4\" class=\"data row10 col4\" >0.338416</td>\n",
       "                        <td id=\"T_90fcc430_407d_11eb_9562_acde48001122row10_col5\" class=\"data row10 col5\" >0.466539</td>\n",
       "                        <td id=\"T_90fcc430_407d_11eb_9562_acde48001122row10_col6\" class=\"data row10 col6\" >0.447568</td>\n",
       "                        <td id=\"T_90fcc430_407d_11eb_9562_acde48001122row10_col7\" class=\"data row10 col7\" >0.173382</td>\n",
       "                        <td id=\"T_90fcc430_407d_11eb_9562_acde48001122row10_col8\" class=\"data row10 col8\" >0.486134</td>\n",
       "                        <td id=\"T_90fcc430_407d_11eb_9562_acde48001122row10_col9\" class=\"data row10 col9\" >0.373176</td>\n",
       "                        <td id=\"T_90fcc430_407d_11eb_9562_acde48001122row10_col10\" class=\"data row10 col10\" >1.000000</td>\n",
       "                        <td id=\"T_90fcc430_407d_11eb_9562_acde48001122row10_col11\" class=\"data row10 col11\" >0.262374</td>\n",
       "                        <td id=\"T_90fcc430_407d_11eb_9562_acde48001122row10_col12\" class=\"data row10 col12\" >0.190972</td>\n",
       "                        <td id=\"T_90fcc430_407d_11eb_9562_acde48001122row10_col13\" class=\"data row10 col13\" >0.684838</td>\n",
       "            </tr>\n",
       "            <tr>\n",
       "                        <th id=\"T_90fcc430_407d_11eb_9562_acde48001122level0_row11\" class=\"row_heading level0 row11\" >WoodDeckSF</th>\n",
       "                        <td id=\"T_90fcc430_407d_11eb_9562_acde48001122row11_col0\" class=\"data row11 col0\" >0.138773</td>\n",
       "                        <td id=\"T_90fcc430_407d_11eb_9562_acde48001122row11_col1\" class=\"data row11 col1\" >0.154615</td>\n",
       "                        <td id=\"T_90fcc430_407d_11eb_9562_acde48001122row11_col2\" class=\"data row11 col2\" >-0.150486</td>\n",
       "                        <td id=\"T_90fcc430_407d_11eb_9562_acde48001122row11_col3\" class=\"data row11 col3\" >-0.011018</td>\n",
       "                        <td id=\"T_90fcc430_407d_11eb_9562_acde48001122row11_col4\" class=\"data row11 col4\" >0.156378</td>\n",
       "                        <td id=\"T_90fcc430_407d_11eb_9562_acde48001122row11_col5\" class=\"data row11 col5\" >0.271812</td>\n",
       "                        <td id=\"T_90fcc430_407d_11eb_9562_acde48001122row11_col6\" class=\"data row11 col6\" >0.268728</td>\n",
       "                        <td id=\"T_90fcc430_407d_11eb_9562_acde48001122row11_col7\" class=\"data row11 col7\" >0.043300</td>\n",
       "                        <td id=\"T_90fcc430_407d_11eb_9562_acde48001122row11_col8\" class=\"data row11 col8\" >0.237549</td>\n",
       "                        <td id=\"T_90fcc430_407d_11eb_9562_acde48001122row11_col9\" class=\"data row11 col9\" >0.138407</td>\n",
       "                        <td id=\"T_90fcc430_407d_11eb_9562_acde48001122row11_col10\" class=\"data row11 col10\" >0.262374</td>\n",
       "                        <td id=\"T_90fcc430_407d_11eb_9562_acde48001122row11_col11\" class=\"data row11 col11\" >1.000000</td>\n",
       "                        <td id=\"T_90fcc430_407d_11eb_9562_acde48001122row11_col12\" class=\"data row11 col12\" >0.075857</td>\n",
       "                        <td id=\"T_90fcc430_407d_11eb_9562_acde48001122row11_col13\" class=\"data row11 col13\" >0.320438</td>\n",
       "            </tr>\n",
       "            <tr>\n",
       "                        <th id=\"T_90fcc430_407d_11eb_9562_acde48001122level0_row12\" class=\"row_heading level0 row12\" >OpenPorchSF</th>\n",
       "                        <td id=\"T_90fcc430_407d_11eb_9562_acde48001122row12_col0\" class=\"data row12 col0\" >0.146728</td>\n",
       "                        <td id=\"T_90fcc430_407d_11eb_9562_acde48001122row12_col1\" class=\"data row12 col1\" >0.037802</td>\n",
       "                        <td id=\"T_90fcc430_407d_11eb_9562_acde48001122row12_col2\" class=\"data row12 col2\" >-0.117508</td>\n",
       "                        <td id=\"T_90fcc430_407d_11eb_9562_acde48001122row12_col3\" class=\"data row12 col3\" >-0.057953</td>\n",
       "                        <td id=\"T_90fcc430_407d_11eb_9562_acde48001122row12_col4\" class=\"data row12 col4\" >0.088570</td>\n",
       "                        <td id=\"T_90fcc430_407d_11eb_9562_acde48001122row12_col5\" class=\"data row12 col5\" >0.150616</td>\n",
       "                        <td id=\"T_90fcc430_407d_11eb_9562_acde48001122row12_col6\" class=\"data row12 col6\" >0.121054</td>\n",
       "                        <td id=\"T_90fcc430_407d_11eb_9562_acde48001122row12_col7\" class=\"data row12 col7\" >0.225331</td>\n",
       "                        <td id=\"T_90fcc430_407d_11eb_9562_acde48001122row12_col8\" class=\"data row12 col8\" >0.291695</td>\n",
       "                        <td id=\"T_90fcc430_407d_11eb_9562_acde48001122row12_col9\" class=\"data row12 col9\" >0.239594</td>\n",
       "                        <td id=\"T_90fcc430_407d_11eb_9562_acde48001122row12_col10\" class=\"data row12 col10\" >0.190972</td>\n",
       "                        <td id=\"T_90fcc430_407d_11eb_9562_acde48001122row12_col11\" class=\"data row12 col11\" >0.075857</td>\n",
       "                        <td id=\"T_90fcc430_407d_11eb_9562_acde48001122row12_col12\" class=\"data row12 col12\" >1.000000</td>\n",
       "                        <td id=\"T_90fcc430_407d_11eb_9562_acde48001122row12_col13\" class=\"data row12 col13\" >0.314753</td>\n",
       "            </tr>\n",
       "            <tr>\n",
       "                        <th id=\"T_90fcc430_407d_11eb_9562_acde48001122level0_row13\" class=\"row_heading level0 row13\" >SalePrice</th>\n",
       "                        <td id=\"T_90fcc430_407d_11eb_9562_acde48001122row13_col0\" class=\"data row13 col0\" >0.440661</td>\n",
       "                        <td id=\"T_90fcc430_407d_11eb_9562_acde48001122row13_col1\" class=\"data row13 col1\" >0.260319</td>\n",
       "                        <td id=\"T_90fcc430_407d_11eb_9562_acde48001122row13_col2\" class=\"data row13 col2\" >-0.251458</td>\n",
       "                        <td id=\"T_90fcc430_407d_11eb_9562_acde48001122row13_col3\" class=\"data row13 col3\" >-0.111559</td>\n",
       "                        <td id=\"T_90fcc430_407d_11eb_9562_acde48001122row13_col4\" class=\"data row13 col4\" >0.448025</td>\n",
       "                        <td id=\"T_90fcc430_407d_11eb_9562_acde48001122row13_col5\" class=\"data row13 col5\" >0.654094</td>\n",
       "                        <td id=\"T_90fcc430_407d_11eb_9562_acde48001122row13_col6\" class=\"data row13 col6\" >0.631925</td>\n",
       "                        <td id=\"T_90fcc430_407d_11eb_9562_acde48001122row13_col7\" class=\"data row13 col7\" >0.317128</td>\n",
       "                        <td id=\"T_90fcc430_407d_11eb_9562_acde48001122row13_col8\" class=\"data row13 col8\" >0.755993</td>\n",
       "                        <td id=\"T_90fcc430_407d_11eb_9562_acde48001122row13_col9\" class=\"data row13 col9\" >0.589579</td>\n",
       "                        <td id=\"T_90fcc430_407d_11eb_9562_acde48001122row13_col10\" class=\"data row13 col10\" >0.684838</td>\n",
       "                        <td id=\"T_90fcc430_407d_11eb_9562_acde48001122row13_col11\" class=\"data row13 col11\" >0.320438</td>\n",
       "                        <td id=\"T_90fcc430_407d_11eb_9562_acde48001122row13_col12\" class=\"data row13 col12\" >0.314753</td>\n",
       "                        <td id=\"T_90fcc430_407d_11eb_9562_acde48001122row13_col13\" class=\"data row13 col13\" >1.000000</td>\n",
       "            </tr>\n",
       "    </tbody></table>"
      ],
      "text/plain": [
       "<pandas.io.formats.style.Styler at 0x1a275ae940>"
      ]
     },
     "execution_count": 88,
     "metadata": {},
     "output_type": "execute_result"
    }
   ],
   "source": [
    "#Plotting a correlation plot to show the variable relationship\n",
    "corr = house.corr()\n",
    "corr.style.background_gradient(cmap='coolwarm')"
   ]
  },
  {
   "cell_type": "markdown",
   "metadata": {},
   "source": [
    "<p>From the above correlation plot it shows that <b>TotalBsmtSF</b>, <b>1stFlrSF</b>,<b>GrLivArea</b>, <b>TotRmsAbvGrd</b>, <b>GarageArea</b> have a stronger relation with <b>SalesPrice</b>, therefore we proposed to dig into those data in a deeper way"
   ]
  },
  {
   "cell_type": "code",
   "execution_count": 89,
   "metadata": {},
   "outputs": [
    {
     "name": "stderr",
     "output_type": "stream",
     "text": [
      "/anaconda3/lib/python3.7/site-packages/seaborn/_decorators.py:43: FutureWarning: Pass the following variable as a keyword arg: x. From version 0.12, the only valid positional argument will be `data`, and passing other arguments without an explicit keyword will result in an error or misinterpretation.\n",
      "  FutureWarning\n",
      "/anaconda3/lib/python3.7/site-packages/seaborn/_decorators.py:43: FutureWarning: Pass the following variable as a keyword arg: x. From version 0.12, the only valid positional argument will be `data`, and passing other arguments without an explicit keyword will result in an error or misinterpretation.\n",
      "  FutureWarning\n",
      "/anaconda3/lib/python3.7/site-packages/seaborn/_decorators.py:43: FutureWarning: Pass the following variable as a keyword arg: x. From version 0.12, the only valid positional argument will be `data`, and passing other arguments without an explicit keyword will result in an error or misinterpretation.\n",
      "  FutureWarning\n",
      "/anaconda3/lib/python3.7/site-packages/seaborn/_decorators.py:43: FutureWarning: Pass the following variable as a keyword arg: x. From version 0.12, the only valid positional argument will be `data`, and passing other arguments without an explicit keyword will result in an error or misinterpretation.\n",
      "  FutureWarning\n",
      "/anaconda3/lib/python3.7/site-packages/seaborn/_decorators.py:43: FutureWarning: Pass the following variable as a keyword arg: x. From version 0.12, the only valid positional argument will be `data`, and passing other arguments without an explicit keyword will result in an error or misinterpretation.\n",
      "  FutureWarning\n"
     ]
    },
    {
     "data": {
      "image/png": "[encoded data removed]",
      "text/plain": [
       "<Figure size 1440x288 with 5 Axes>"
      ]
     },
     "metadata": {
      "needs_background": "light"
     },
     "output_type": "display_data"
    }
   ],
   "source": [
    "#Plot Boxplots to identify whether it exists outliers\n",
    "fig, ax =plt.subplots(1,5, figsize=(20,4))\n",
    "sns.boxplot(house.TotalBsmtSF, ax=ax[0]);\n",
    "sns.boxplot(house[\"1stFlrSF\"], ax=ax[1]);\n",
    "sns.boxplot(house.GrLivArea, ax=ax[2]);\n",
    "sns.boxplot(house.TotRmsAbvGrd, ax=ax[3]);\n",
    "sns.boxplot(house.GarageArea, ax=ax[4]);\n"
   ]
  },
  {
   "cell_type": "markdown",
   "metadata": {},
   "source": [
    "<p>It is observable that outliers exists in the above 5 key variables therefore we made transforation for it"
   ]
  },
  {
   "cell_type": "code",
   "execution_count": 90,
   "metadata": {},
   "outputs": [],
   "source": [
    "def outliers_remove(data_col):\n",
    "    q1, q3= np.percentile(data_col,[25,75])\n",
    "    iqr = q3 - q1\n",
    "    lower_bound = q1 -(1.5 * iqr) \n",
    "    upper_bound = q3 +(1.5 * iqr)\n",
    "    return (lower_bound,upper_bound)"
   ]
  },
  {
   "cell_type": "code",
   "execution_count": 91,
   "metadata": {},
   "outputs": [],
   "source": [
    "#Remove outliers\n",
    "cols=['TotalBsmtSF', '1stFlrSF','GrLivArea', 'TotRmsAbvGrd', 'GarageArea']\n",
    "for i in cols:\n",
    "    l=outliers_remove(house[i])[0]\n",
    "    u=outliers_remove(house[i])[1]\n",
    "    house.drop(house[(house[i]<l) & (house[i]>u)].index,inplace=True)\n",
    "house.reset_index(drop=True, inplace=True)"
   ]
  },
  {
   "cell_type": "markdown",
   "metadata": {},
   "source": [
    "<p>Also we would like to check the skewness of the varaible since a normal distribution plot are usually perform much better in regression type model"
   ]
  },
  {
   "cell_type": "code",
   "execution_count": 92,
   "metadata": {},
   "outputs": [
    {
     "name": "stderr",
     "output_type": "stream",
     "text": [
      "/anaconda3/lib/python3.7/site-packages/seaborn/distributions.py:2551: FutureWarning: `distplot` is a deprecated function and will be removed in a future version. Please adapt your code to use either `displot` (a figure-level function with similar flexibility) or `histplot` (an axes-level function for histograms).\n",
      "  warnings.warn(msg, FutureWarning)\n"
     ]
    },
    {
     "data": {
      "image/png": "[encoded data removed]",
      "text/plain": [
       "<Figure size 1440x216 with 1 Axes>"
      ]
     },
     "metadata": {
      "needs_background": "light"
     },
     "output_type": "display_data"
    }
   ],
   "source": [
    "fig, ax = plt.subplots(1,1, figsize=(20,3))\n",
    "sns.distplot(house.SalePrice)\n",
    "plt.show()"
   ]
  },
  {
   "cell_type": "markdown",
   "metadata": {},
   "source": [
    "<p>It is observable that the variable are left skewed so transformation need to be performed"
   ]
  },
  {
   "cell_type": "code",
   "execution_count": 93,
   "metadata": {},
   "outputs": [
    {
     "name": "stderr",
     "output_type": "stream",
     "text": [
      "/anaconda3/lib/python3.7/site-packages/seaborn/distributions.py:2551: FutureWarning: `distplot` is a deprecated function and will be removed in a future version. Please adapt your code to use either `displot` (a figure-level function with similar flexibility) or `histplot` (an axes-level function for histograms).\n",
      "  warnings.warn(msg, FutureWarning)\n"
     ]
    },
    {
     "data": {
      "text/plain": [
       "<AxesSubplot:xlabel='SalePrice', ylabel='Density'>"
      ]
     },
     "execution_count": 93,
     "metadata": {},
     "output_type": "execute_result"
    },
    {
     "data": {
      "image/png": "[encoded data removed]",
      "text/plain": [
       "<Figure size 1440x216 with 1 Axes>"
      ]
     },
     "metadata": {
      "needs_background": "light"
     },
     "output_type": "display_data"
    }
   ],
   "source": [
    "house[\"SalePrice\"] = np.log1p(house[\"SalePrice\"])\n",
    "fig, ax =plt.subplots(1,1, figsize=(20,3))\n",
    "sns.distplot(house.SalePrice)\n"
   ]
  },
  {
   "cell_type": "markdown",
   "metadata": {},
   "source": [
    "<p>Remove skewness for other varaibles"
   ]
  },
  {
   "cell_type": "code",
   "execution_count": 94,
   "metadata": {},
   "outputs": [],
   "source": [
    "#When the skewness is greater than 1 make transformartion\n",
    "skewness=house.skew(axis=0)\n",
    "cols=skewness[skewness.abs()>1].index\n",
    "for i in cols:\n",
    "    house[i]=np.log1p(house[i])"
   ]
  },
  {
   "cell_type": "markdown",
   "metadata": {},
   "source": [
    "<h3>Feature Enginnering"
   ]
  },
  {
   "cell_type": "code",
   "execution_count": 95,
   "metadata": {},
   "outputs": [],
   "source": [
    "#Adding new variables\n",
    "house['TotalLot']=house['LotFrontage']+house['LotArea']\n",
    "house['TotalArea']=house['TotalBsmtSF']+house['1stFlrSF']+house['2ndFlrSF']\n",
    "house['FloorArea']=house['1stFlrSF']+house['2ndFlrSF']\n",
    "house['MisArea']=house['GarageArea']+house['WoodDeckSF']+house['OpenPorchSF']"
   ]
  },
  {
   "cell_type": "markdown",
   "metadata": {},
   "source": [
    "<p>perform <b>lasso regression</b> to check features importance"
   ]
  },
  {
   "cell_type": "code",
   "execution_count": 96,
   "metadata": {},
   "outputs": [
    {
     "name": "stderr",
     "output_type": "stream",
     "text": [
      "/anaconda3/lib/python3.7/site-packages/sklearn/linear_model/_coordinate_descent.py:531: ConvergenceWarning: Objective did not converge. You might want to increase the number of iterations. Duality gap: 5.0803020757165855, tolerance: 0.008353987413091615\n",
      "  positive)\n"
     ]
    },
    {
     "data": {
      "image/png": "[encoded data removed]",
      "text/plain": [
       "<Figure size 1152x288 with 1 Axes>"
      ]
     },
     "metadata": {
      "needs_background": "light"
     },
     "output_type": "display_data"
    }
   ],
   "source": [
    "#Lasso Regression\n",
    "from sklearn.linear_model import Lasso\n",
    "lasso_model=Lasso(alpha=0.001)\n",
    "X=house.drop(\"SalePrice\", axis=1)\n",
    "y=house['SalePrice']\n",
    "lasso_model.fit(X,y)\n",
    "import_lasso = pd.DataFrame({\"Feature Importance\":lasso_model.coef_}, index=house.drop([\"SalePrice\"],axis=1).columns) \n",
    "import_lasso.sort_values(\"Feature Importance\",ascending=False)\n",
    "import_lasso[import_lasso[\"Feature Importance\"] !=0 ].sort_values(\"Feature Importance\").plot(kind=\"barh\",figsize=(16,4), color='b')\n",
    "plt.xticks(rotation=90)\n",
    "plt.show()  "
   ]
  },
  {
   "cell_type": "markdown",
   "metadata": {},
   "source": [
    "<p>From the above plot we can see that <b><i>LotArea</b><i> occupied an important role in predicting the final SalePrice"
   ]
  },
  {
   "cell_type": "markdown",
   "metadata": {},
   "source": [
    "<h3>Modelling and Evaluation"
   ]
  },
  {
   "cell_type": "markdown",
   "metadata": {},
   "source": [
    "<p>We apply <b>MSE</b> for the model scoring"
   ]
  },
  {
   "cell_type": "code",
   "execution_count": 97,
   "metadata": {},
   "outputs": [],
   "source": [
    "from sklearn.linear_model import LinearRegression\n",
    "from sklearn.linear_model import Ridge\n",
    "from sklearn import linear_model\n",
    "from sklearn.linear_model import Lasso\n",
    "from sklearn.ensemble import RandomForestRegressor\n",
    "from sklearn.model_selection import cross_val_score\n",
    "from sklearn.linear_model import ElasticNet\n",
    "from sklearn import tree\n",
    "from sklearn.cross_decomposition import PLSRegression\n",
    "from sklearn.tree import DecisionTreeRegressor\n",
    "from sklearn.pipeline import make_pipeline\n",
    "from sklearn.preprocessing import StandardScaler\n",
    "from sklearn.decomposition import PCA\n",
    "from sklearn.model_selection import train_test_split\n",
    "from sklearn.ensemble import BaggingRegressor\n",
    "from sklearn.metrics import mean_squared_error\n",
    "from sklearn.ensemble import GradientBoostingRegressor\n",
    "import statistics as stat\n",
    "import numpy as np"
   ]
  },
  {
   "cell_type": "markdown",
   "metadata": {},
   "source": [
    "<p>5 fold CV will be performed in the follow"
   ]
  },
  {
   "cell_type": "code",
   "execution_count": 98,
   "metadata": {},
   "outputs": [],
   "source": [
    "#Add Fold Lable in the X_train\n",
    "house['kFold'] = np.random.randint(1, 6, house.shape[0])\n",
    "rng = np.random.RandomState(0)\n"
   ]
  },
  {
   "cell_type": "markdown",
   "metadata": {},
   "source": [
    "<p>We would apply models:<br>\n",
    "1.linear regression<br>\n",
    "2.ridge regression<br>\n",
    "3.LASSO regression<br> \n",
    "4.partial least squares<br>\n",
    "5.regression tree<br>\n",
    "6.random forests<br>\n",
    "7.boosting"
   ]
  },
  {
   "cell_type": "code",
   "execution_count": 99,
   "metadata": {},
   "outputs": [],
   "source": [
    "models = [LinearRegression(),Ridge(),Lasso(),PLSRegression(),DecisionTreeRegressor(),RandomForestRegressor()]\n",
    "names = [\"Linear Regresssion\", \"Ridge Regression\", \"Lasso Regreesion\", \"Partial Least Squares\",\"Regression tree\",\"Random Forests\"]\n"
   ]
  },
  {
   "cell_type": "code",
   "execution_count": 100,
   "metadata": {},
   "outputs": [],
   "source": [
    "#Define a function for writing MSE\n",
    "def MSE(Model,house):\n",
    "    MSE_k=np.zeros(shape=(5,1))\n",
    "    all_n_k=np.zeros(shape=(5,1))\n",
    "\n",
    "    for k in range(1,6):\n",
    "        train_data = house[house['kFold']==k]\n",
    "        test_data = house[house['kFold']!=k]\n",
    "        test_data=test_data.drop([\"kFold\"], axis=1)\n",
    "        train_data=train_data.drop([\"kFold\"], axis=1)\n",
    "\n",
    "        #Find x/y train test data\n",
    "        X_train=train_data.drop(\"SalePrice\", axis=1)\n",
    "        X_test=test_data.drop(\"SalePrice\", axis=1)\n",
    "\n",
    "        y_train=train_data['SalePrice']\n",
    "        y_test=test_data['SalePrice']\n",
    "\n",
    "        linear = Model.fit(X_train, y_train)\n",
    "        predict_y=linear.predict(X_test)\n",
    "        \n",
    "        if len(predict_y.shape) == 2: predict_y=predict_y.flatten()\n",
    "\n",
    "        MSE_k[k-1]= stat.mean((y_test -  predict_y)**2)\n",
    "        all_n_k[k-1] = len(y_test)\n",
    "    \n",
    "    return(sum(MSE_k*all_n_k/(len(house))))"
   ]
  },
  {
   "cell_type": "code",
   "execution_count": 101,
   "metadata": {},
   "outputs": [
    {
     "name": "stdout",
     "output_type": "stream",
     "text": [
      "LinearRegression:  [0.15592699]\n",
      "RidgeRegression:  [0.15468099]\n",
      "LassoRegression:  [0.16582805]\n",
      "PLSRegression:  [0.14988319]\n",
      "RegressionTree:  [0.30950423]\n",
      "RandomForest:  [0.17681433]\n",
      "Boosting:  [0.17974432]\n"
     ]
    }
   ],
   "source": [
    "print(\"LinearRegression: \",MSE(LinearRegression(),house))\n",
    "print(\"RidgeRegression: \",MSE(Ridge(),house))\n",
    "print(\"LassoRegression: \",MSE(Lasso(),house))\n",
    "print(\"PLSRegression: \",MSE(PLSRegression(),house))\n",
    "print(\"RegressionTree: \",MSE(DecisionTreeRegressor(),house))\n",
    "print(\"RandomForest: \",MSE(RandomForestRegressor(),house))\n",
    "print(\"Boosting: \",MSE(GradientBoostingRegressor(),house))"
   ]
  },
  {
   "cell_type": "markdown",
   "metadata": {},
   "source": [
    "<p>From the above result,we are able to find that regression based model perform slighly better than tree based model"
   ]
  },
  {
   "cell_type": "markdown",
   "metadata": {},
   "source": [
    "<h3>Hyperparameters tuning"
   ]
  },
  {
   "cell_type": "markdown",
   "metadata": {},
   "source": [
    "<p>Perform hyperparameters tuning in order to maximise the model performance"
   ]
  },
  {
   "cell_type": "code",
   "execution_count": 102,
   "metadata": {},
   "outputs": [],
   "source": [
    "def rmse_cv(model,X,y):\n",
    "    rmse = np.sqrt(-cross_val_score(model, X, y, scoring=\"neg_mean_squared_error\", cv=5))\n",
    "    return rmse"
   ]
  },
  {
   "cell_type": "code",
   "execution_count": 103,
   "metadata": {},
   "outputs": [
    {
     "data": {
      "text/html": [
       "<div>\n",
       "<style scoped>\n",
       "    .dataframe tbody tr th:only-of-type {\n",
       "        vertical-align: middle;\n",
       "    }\n",
       "\n",
       "    .dataframe tbody tr th {\n",
       "        vertical-align: top;\n",
       "    }\n",
       "\n",
       "    .dataframe thead th {\n",
       "        text-align: right;\n",
       "    }\n",
       "</style>\n",
       "<table border=\"1\" class=\"dataframe\">\n",
       "  <thead>\n",
       "    <tr style=\"text-align: right;\">\n",
       "      <th></th>\n",
       "      <th>alpha</th>\n",
       "      <th>rmse_score</th>\n",
       "      <th>rmse_std</th>\n",
       "    </tr>\n",
       "  </thead>\n",
       "  <tbody>\n",
       "    <tr>\n",
       "      <th>4</th>\n",
       "      <td>0.35</td>\n",
       "      <td>0.183347</td>\n",
       "      <td>0.028176</td>\n",
       "    </tr>\n",
       "  </tbody>\n",
       "</table>\n",
       "</div>"
      ],
      "text/plain": [
       "   alpha  rmse_score  rmse_std\n",
       "4   0.35    0.183347  0.028176"
      ]
     },
     "execution_count": 103,
     "metadata": {},
     "output_type": "execute_result"
    }
   ],
   "source": [
    "#Apply Ridge Regression for Hyperparameters tuning\n",
    "i=0.1\n",
    "ridge_score=pd.DataFrame(columns=['alpha','rmse_score','rmse_std'])\n",
    "X=house.drop(\"SalePrice\",axis=1)\n",
    "y=house.SalePrice\n",
    "X_train, X_test, y_train, y_test = train_test_split( X, y, test_size=0.55, random_state=rng) \n",
    "\n",
    "for j in range(1,18):\n",
    "    model=Ridge(alpha=i,max_iter=10000)\n",
    "    score = rmse_cv(model, X_train, y_train)\n",
    "    #print(\"{}: {:.6f}, {:.4f}\".format(i,score.mean(),score.std()))\n",
    "    i=i+0.05\n",
    "    ridge_score=ridge_score.append({'alpha': i, 'rmse_score': score.mean(), 'rmse_std': score.std()}, ignore_index=True)\n",
    "    \n",
    "\n",
    "#Find the best alpha\n",
    "ridge_score[ridge_score['rmse_score']==ridge_score['rmse_score'].min()]"
   ]
  },
  {
   "cell_type": "code",
   "execution_count": 104,
   "metadata": {},
   "outputs": [
    {
     "data": {
      "text/html": [
       "<div>\n",
       "<style scoped>\n",
       "    .dataframe tbody tr th:only-of-type {\n",
       "        vertical-align: middle;\n",
       "    }\n",
       "\n",
       "    .dataframe tbody tr th {\n",
       "        vertical-align: top;\n",
       "    }\n",
       "\n",
       "    .dataframe thead th {\n",
       "        text-align: right;\n",
       "    }\n",
       "</style>\n",
       "<table border=\"1\" class=\"dataframe\">\n",
       "  <thead>\n",
       "    <tr style=\"text-align: right;\">\n",
       "      <th></th>\n",
       "      <th>alpha</th>\n",
       "      <th>rmse_score</th>\n",
       "      <th>rmse_std</th>\n",
       "    </tr>\n",
       "  </thead>\n",
       "  <tbody>\n",
       "    <tr>\n",
       "      <th>16</th>\n",
       "      <td>0.95</td>\n",
       "      <td>0.193343</td>\n",
       "      <td>0.023621</td>\n",
       "    </tr>\n",
       "  </tbody>\n",
       "</table>\n",
       "</div>"
      ],
      "text/plain": [
       "    alpha  rmse_score  rmse_std\n",
       "16   0.95    0.193343  0.023621"
      ]
     },
     "execution_count": 104,
     "metadata": {},
     "output_type": "execute_result"
    }
   ],
   "source": [
    "#Apply Lasso Regression for Hyperparameters tuning\n",
    "i=0.1\n",
    "lasso_score=pd.DataFrame(columns=['alpha','rmse_score','rmse_std'])\n",
    "\n",
    "for j in range(1,18):\n",
    "    model=Lasso(alpha=i,max_iter=10000)\n",
    "    score = rmse_cv(model, X_train, y_train)\n",
    "    #print(\"{}: {:.6f}, {:.4f}\".format(i,score.mean(),score.std()))\n",
    "    i=i+0.05\n",
    "    lasso_score=lasso_score.append({'alpha': i, 'rmse_score': score.mean(), 'rmse_std': score.std()}, ignore_index=True)\n",
    "    \n",
    "#Find the best alpha\n",
    "lasso_score[lasso_score['rmse_score']==lasso_score['rmse_score'].min()]\n"
   ]
  },
  {
   "cell_type": "code",
   "execution_count": 105,
   "metadata": {},
   "outputs": [
    {
     "data": {
      "text/html": [
       "<div>\n",
       "<style scoped>\n",
       "    .dataframe tbody tr th:only-of-type {\n",
       "        vertical-align: middle;\n",
       "    }\n",
       "\n",
       "    .dataframe tbody tr th {\n",
       "        vertical-align: top;\n",
       "    }\n",
       "\n",
       "    .dataframe thead th {\n",
       "        text-align: right;\n",
       "    }\n",
       "</style>\n",
       "<table border=\"1\" class=\"dataframe\">\n",
       "  <thead>\n",
       "    <tr style=\"text-align: right;\">\n",
       "      <th></th>\n",
       "      <th>n_component</th>\n",
       "      <th>rmse_score</th>\n",
       "      <th>rmse_std</th>\n",
       "    </tr>\n",
       "  </thead>\n",
       "  <tbody>\n",
       "    <tr>\n",
       "      <th>1</th>\n",
       "      <td>2.0</td>\n",
       "      <td>0.180591</td>\n",
       "      <td>0.027214</td>\n",
       "    </tr>\n",
       "  </tbody>\n",
       "</table>\n",
       "</div>"
      ],
      "text/plain": [
       "   n_component  rmse_score  rmse_std\n",
       "1          2.0    0.180591  0.027214"
      ]
     },
     "execution_count": 105,
     "metadata": {},
     "output_type": "execute_result"
    }
   ],
   "source": [
    "#Apply for PLS model\n",
    "PLS_score=pd.DataFrame(columns=['n_component','rmse_score','rmse_std'])\n",
    "\n",
    "for j in range(1,10):\n",
    "    model=PLSRegression(n_components=j)\n",
    "    score = rmse_cv(model, X_train, y_train)\n",
    "    #print(\"{}: {:.6f}, {:.4f}\".format(i,score.mean(),score.std()))\n",
    "    PLS_score=PLS_score.append({'n_component': j, 'rmse_score': score.mean(), 'rmse_std': score.std()}, ignore_index=True)\n",
    "    \n",
    "#Find the best n_component\n",
    "PLS_score[PLS_score['rmse_score']==PLS_score['rmse_score'].min()]"
   ]
  },
  {
   "cell_type": "code",
   "execution_count": 106,
   "metadata": {},
   "outputs": [
    {
     "data": {
      "text/html": [
       "<div>\n",
       "<style scoped>\n",
       "    .dataframe tbody tr th:only-of-type {\n",
       "        vertical-align: middle;\n",
       "    }\n",
       "\n",
       "    .dataframe tbody tr th {\n",
       "        vertical-align: top;\n",
       "    }\n",
       "\n",
       "    .dataframe thead th {\n",
       "        text-align: right;\n",
       "    }\n",
       "</style>\n",
       "<table border=\"1\" class=\"dataframe\">\n",
       "  <thead>\n",
       "    <tr style=\"text-align: right;\">\n",
       "      <th></th>\n",
       "      <th>max_depth</th>\n",
       "      <th>rmse_score</th>\n",
       "      <th>rmse_std</th>\n",
       "    </tr>\n",
       "  </thead>\n",
       "  <tbody>\n",
       "    <tr>\n",
       "      <th>4</th>\n",
       "      <td>5.0</td>\n",
       "      <td>0.234258</td>\n",
       "      <td>0.042939</td>\n",
       "    </tr>\n",
       "  </tbody>\n",
       "</table>\n",
       "</div>"
      ],
      "text/plain": [
       "   max_depth  rmse_score  rmse_std\n",
       "4        5.0    0.234258  0.042939"
      ]
     },
     "execution_count": 106,
     "metadata": {},
     "output_type": "execute_result"
    }
   ],
   "source": [
    "#Apply for decision tree\n",
    "DT_score=pd.DataFrame(columns=['max_depth','rmse_score','rmse_std'])\n",
    "\n",
    "for j in range(1,10):\n",
    "    model=DecisionTreeRegressor(max_depth=j)\n",
    "    score = rmse_cv(model, X_train, y_train)\n",
    "    #print(\"{}: {:.6f}, {:.4f}\".format(i,score.mean(),score.std()))\n",
    "    DT_score=DT_score.append({'max_depth': j, 'rmse_score': score.mean(), 'rmse_std': score.std()}, ignore_index=True)\n",
    "    \n",
    "#Find the best n_component\n",
    "DT_score[DT_score['rmse_score']==DT_score['rmse_score'].min()]"
   ]
  },
  {
   "cell_type": "code",
   "execution_count": 107,
   "metadata": {},
   "outputs": [
    {
     "data": {
      "text/html": [
       "<div>\n",
       "<style scoped>\n",
       "    .dataframe tbody tr th:only-of-type {\n",
       "        vertical-align: middle;\n",
       "    }\n",
       "\n",
       "    .dataframe tbody tr th {\n",
       "        vertical-align: top;\n",
       "    }\n",
       "\n",
       "    .dataframe thead th {\n",
       "        text-align: right;\n",
       "    }\n",
       "</style>\n",
       "<table border=\"1\" class=\"dataframe\">\n",
       "  <thead>\n",
       "    <tr style=\"text-align: right;\">\n",
       "      <th></th>\n",
       "      <th>max_depth</th>\n",
       "      <th>rmse_score</th>\n",
       "      <th>rmse_std</th>\n",
       "    </tr>\n",
       "  </thead>\n",
       "  <tbody>\n",
       "    <tr>\n",
       "      <th>5</th>\n",
       "      <td>6.0</td>\n",
       "      <td>0.232115</td>\n",
       "      <td>0.043539</td>\n",
       "    </tr>\n",
       "  </tbody>\n",
       "</table>\n",
       "</div>"
      ],
      "text/plain": [
       "   max_depth  rmse_score  rmse_std\n",
       "5        6.0    0.232115  0.043539"
      ]
     },
     "execution_count": 107,
     "metadata": {},
     "output_type": "execute_result"
    }
   ],
   "source": [
    "#Apply for random Forest\n",
    "RF_score=pd.DataFrame(columns=['max_depth','rmse_score','rmse_std'])\n",
    "\n",
    "for j in range(1,10):\n",
    "    model=DecisionTreeRegressor(max_depth=j)\n",
    "    score = rmse_cv(model, X_train, y_train)\n",
    "    #print(\"{}: {:.6f}, {:.4f}\".format(i,score.mean(),score.std()))\n",
    "    RF_score=RF_score.append({'max_depth': j, 'rmse_score': score.mean(), 'rmse_std': score.std()}, ignore_index=True)\n",
    "    \n",
    "#Find the best n_component\n",
    "RF_score[RF_score['rmse_score']==RF_score['rmse_score'].min()]"
   ]
  },
  {
   "cell_type": "markdown",
   "metadata": {},
   "source": [
    "<h3>Ensemble model by stacking"
   ]
  },
  {
   "cell_type": "code",
   "execution_count": 148,
   "metadata": {},
   "outputs": [],
   "source": [
    "#models = [LinearRegression(),Ridge(alpha=0.15),Lasso(alpha=0.95),PLSRegression(n_components=2),DecisionTreeRegressor(),RandomForestRegressor(),Boosting()]\n",
    "#models = [LinearRegression(),Ridge(alpha=0.15),Lasso(alpha=0.95),DecisionTreeRegressor(),RandomForestRegressor()]\n",
    "from sklearn.ensemble import StackingRegressor\n",
    "\n",
    "r1=LinearRegression()\n",
    "r2=Ridge(alpha=0.35)\n",
    "r3=Lasso(alpha=0.95)\n",
    "r4=PLSRegression(n_components=2)\n",
    "r5=DecisionTreeRegressor(max_depth=5)\n",
    "r6=RandomForestRegressor(max_depth=6)\n",
    "r7=GradientBoostingRegressor()\n",
    "combine_model = StackingRegressor(estimators=[('lr', r1), ('RR', r2),('LR', r3),('PLS', r4),('DT', r5),('RF', r6),('B', r7)])\n"
   ]
  },
  {
   "cell_type": "code",
   "execution_count": 149,
   "metadata": {},
   "outputs": [
    {
     "name": "stdout",
     "output_type": "stream",
     "text": [
      "[0.14393]\n"
     ]
    }
   ],
   "source": [
    "house['kFold'] = np.random.randint(1, 6, house.shape[0])\n",
    "rng = np.random.RandomState(0)\n",
    "\n",
    "MSE_k=np.zeros(shape=(5,1))\n",
    "all_n_k=np.zeros(shape=(5,1))\n",
    "\n",
    "for k in range(1,6):\n",
    "    train_data = house[house['kFold']==k]\n",
    "    test_data = house[house['kFold']!=k]\n",
    "    test_data=test_data.drop([\"kFold\"], axis=1)\n",
    "    train_data=train_data.drop([\"kFold\"], axis=1)\n",
    "\n",
    "    #Find x/y train test data\n",
    "    X_train=train_data.drop(\"SalePrice\", axis=1)\n",
    "    X_test=test_data.drop(\"SalePrice\", axis=1)\n",
    "\n",
    "    y_train=train_data['SalePrice']\n",
    "    y_test=test_data['SalePrice']\n",
    "\n",
    "    linear = combine_model.fit(X_train, y_train)\n",
    "    predict_y=linear.predict(X_test)\n",
    "\n",
    "    #if len(predict_y.shape) == 2: predict_y=predict_y.flatten()\n",
    "\n",
    "    MSE_k[k-1]= stat.mean((y_test -  predict_y)**2)\n",
    "    all_n_k[k-1] = len(y_test)\n",
    "\n",
    "print(sum(MSE_k*all_n_k/(len(house))))"
   ]
  },
  {
   "cell_type": "markdown",
   "metadata": {},
   "source": [
    "We can conclude that after stacking the model performance is the best"
   ]
  },
  {
   "cell_type": "markdown",
   "metadata": {},
   "source": [
    "<h3>STAT 4011 Project 2 Part 2 - Titanic Prediction</h2>"
   ]
  },
  {
   "cell_type": "code",
   "execution_count": 110,
   "metadata": {},
   "outputs": [
    {
     "data": {
      "text/html": [
       "<div>\n",
       "<style scoped>\n",
       "    .dataframe tbody tr th:only-of-type {\n",
       "        vertical-align: middle;\n",
       "    }\n",
       "\n",
       "    .dataframe tbody tr th {\n",
       "        vertical-align: top;\n",
       "    }\n",
       "\n",
       "    .dataframe thead th {\n",
       "        text-align: right;\n",
       "    }\n",
       "</style>\n",
       "<table border=\"1\" class=\"dataframe\">\n",
       "  <thead>\n",
       "    <tr style=\"text-align: right;\">\n",
       "      <th></th>\n",
       "      <th>PassengerId</th>\n",
       "      <th>Survived</th>\n",
       "      <th>Pclass</th>\n",
       "      <th>Sex</th>\n",
       "      <th>Age</th>\n",
       "      <th>SibSp</th>\n",
       "      <th>Parch</th>\n",
       "      <th>Fare</th>\n",
       "      <th>Embarked</th>\n",
       "    </tr>\n",
       "  </thead>\n",
       "  <tbody>\n",
       "    <tr>\n",
       "      <th>0</th>\n",
       "      <td>1</td>\n",
       "      <td>0</td>\n",
       "      <td>3</td>\n",
       "      <td>male</td>\n",
       "      <td>22.0</td>\n",
       "      <td>1</td>\n",
       "      <td>0</td>\n",
       "      <td>7.2500</td>\n",
       "      <td>S</td>\n",
       "    </tr>\n",
       "    <tr>\n",
       "      <th>1</th>\n",
       "      <td>2</td>\n",
       "      <td>1</td>\n",
       "      <td>1</td>\n",
       "      <td>female</td>\n",
       "      <td>38.0</td>\n",
       "      <td>1</td>\n",
       "      <td>0</td>\n",
       "      <td>71.2833</td>\n",
       "      <td>C</td>\n",
       "    </tr>\n",
       "    <tr>\n",
       "      <th>2</th>\n",
       "      <td>3</td>\n",
       "      <td>1</td>\n",
       "      <td>3</td>\n",
       "      <td>female</td>\n",
       "      <td>26.0</td>\n",
       "      <td>0</td>\n",
       "      <td>0</td>\n",
       "      <td>7.9250</td>\n",
       "      <td>S</td>\n",
       "    </tr>\n",
       "    <tr>\n",
       "      <th>3</th>\n",
       "      <td>4</td>\n",
       "      <td>1</td>\n",
       "      <td>1</td>\n",
       "      <td>female</td>\n",
       "      <td>35.0</td>\n",
       "      <td>1</td>\n",
       "      <td>0</td>\n",
       "      <td>53.1000</td>\n",
       "      <td>S</td>\n",
       "    </tr>\n",
       "    <tr>\n",
       "      <th>4</th>\n",
       "      <td>5</td>\n",
       "      <td>0</td>\n",
       "      <td>3</td>\n",
       "      <td>male</td>\n",
       "      <td>35.0</td>\n",
       "      <td>0</td>\n",
       "      <td>0</td>\n",
       "      <td>8.0500</td>\n",
       "      <td>S</td>\n",
       "    </tr>\n",
       "  </tbody>\n",
       "</table>\n",
       "</div>"
      ],
      "text/plain": [
       "   PassengerId  Survived  Pclass     Sex   Age  SibSp  Parch     Fare Embarked\n",
       "0            1         0       3    male  22.0      1      0   7.2500        S\n",
       "1            2         1       1  female  38.0      1      0  71.2833        C\n",
       "2            3         1       3  female  26.0      0      0   7.9250        S\n",
       "3            4         1       1  female  35.0      1      0  53.1000        S\n",
       "4            5         0       3    male  35.0      0      0   8.0500        S"
      ]
     },
     "execution_count": 110,
     "metadata": {},
     "output_type": "execute_result"
    }
   ],
   "source": [
    "titanic=pd.read_csv(\"Titanic.csv\")\n",
    "titanic.head()"
   ]
  },
  {
   "cell_type": "code",
   "execution_count": 111,
   "metadata": {},
   "outputs": [
    {
     "data": {
      "text/plain": [
       "Age         102\n",
       "Embarked      1\n",
       "dtype: int64"
      ]
     },
     "execution_count": 111,
     "metadata": {},
     "output_type": "execute_result"
    }
   ],
   "source": [
    "#Sorting missing value\n",
    "miss_titanic = titanic.isnull().sum()\n",
    "miss_titanic[miss_titanic>0].sort_values(ascending=False)"
   ]
  },
  {
   "cell_type": "markdown",
   "metadata": {},
   "source": [
    "<p>We found that we have two variables that contain missing value:<p><b><i>Age</b></i> and <b><i>Embarked</b></i>"
   ]
  },
  {
   "cell_type": "markdown",
   "metadata": {},
   "source": [
    "<p>Since <b><i>Embarked</b></i> are only one missing replace by mode for simplicity"
   ]
  },
  {
   "cell_type": "code",
   "execution_count": 112,
   "metadata": {},
   "outputs": [
    {
     "name": "stderr",
     "output_type": "stream",
     "text": [
      "/anaconda3/lib/python3.7/site-packages/ipykernel_launcher.py:4: SettingWithCopyWarning: \n",
      "A value is trying to be set on a copy of a slice from a DataFrame\n",
      "\n",
      "See the caveats in the documentation: https://pandas.pydata.org/pandas-docs/stable/user_guide/indexing.html#returning-a-view-versus-a-copy\n",
      "  after removing the cwd from sys.path.\n"
     ]
    }
   ],
   "source": [
    "#Replace by mean / mode value\n",
    "#titanic[\"Age\"]=titanic.Age.fillna(titanic.Age.mean())\n",
    "\n",
    "titanic.Embarked[titanic.Embarked.isnull()] = titanic.Embarked.dropna().mode().values"
   ]
  },
  {
   "cell_type": "markdown",
   "metadata": {},
   "source": [
    "<p>For example, a 10-year-old child could not have any spouse or sibings therefore use <b><i>Parch</b></i> and \n",
    "<b><i>SibSp</b></i> as an variable for predicting age"
   ]
  },
  {
   "cell_type": "code",
   "execution_count": 113,
   "metadata": {},
   "outputs": [],
   "source": [
    "# Then Apply linear regression for handling missing value\n",
    "train_data=titanic[titanic.Age.notnull()]\n",
    "test_data=titanic[titanic.Age.isnull()]\n",
    "\n",
    "X_train_data=train_data[['SibSp','Survived']]\n",
    "y_train_data=train_data.Age\n",
    "\n",
    "X_test_data=test_data[['SibSp','Survived']]\n",
    "y_test_data=test_data.Age\n",
    "\n",
    "linear = LinearRegression().fit(X_train_data, y_train_data)\n",
    "predict_y=linear.predict(X_test_data)\n",
    "\n",
    "#Fill in NA by predicted value\n",
    "titanic.loc[titanic.Age.isnull(), 'Age'] = predict_y       "
   ]
  },
  {
   "cell_type": "code",
   "execution_count": 114,
   "metadata": {},
   "outputs": [
    {
     "data": {
      "text/plain": [
       "Series([], dtype: int64)"
      ]
     },
     "execution_count": 114,
     "metadata": {},
     "output_type": "execute_result"
    }
   ],
   "source": [
    "#Sorting missing value again\n",
    "miss_titanic = titanic.isnull().sum()\n",
    "miss_titanic[miss_titanic>0].sort_values(ascending=False)"
   ]
  },
  {
   "cell_type": "markdown",
   "metadata": {},
   "source": [
    "<h3>Data Modification\n"
   ]
  },
  {
   "cell_type": "code",
   "execution_count": 115,
   "metadata": {},
   "outputs": [],
   "source": [
    "#Convert Sex into 0 and 1\n",
    "titanic['Sex'] = titanic['Sex'].map({'male':0,'female':1})"
   ]
  },
  {
   "cell_type": "code",
   "execution_count": 116,
   "metadata": {},
   "outputs": [],
   "source": [
    "#Convert Embarked to dummy variable\n",
    "dummy=pd.get_dummies(titanic['Embarked'])\n",
    "titanic=pd.concat([titanic, dummy], axis=1)"
   ]
  },
  {
   "cell_type": "code",
   "execution_count": 117,
   "metadata": {},
   "outputs": [],
   "source": [
    "#Convert 1st class 2nd class 3rd class as seperate variable\n",
    "dummy=pd.get_dummies(titanic['Pclass'],columns=['1stClass','2ndClass','3rdClass'])\n",
    "titanic=pd.concat([titanic, dummy], axis=1)"
   ]
  },
  {
   "cell_type": "code",
   "execution_count": 118,
   "metadata": {},
   "outputs": [
    {
     "data": {
      "text/html": [
       "<style  type=\"text/css\" >\n",
       "#T_99e1f30e_407d_11eb_9562_acde48001122row0_col0,#T_99e1f30e_407d_11eb_9562_acde48001122row1_col1,#T_99e1f30e_407d_11eb_9562_acde48001122row2_col2,#T_99e1f30e_407d_11eb_9562_acde48001122row3_col3,#T_99e1f30e_407d_11eb_9562_acde48001122row4_col4,#T_99e1f30e_407d_11eb_9562_acde48001122row5_col5,#T_99e1f30e_407d_11eb_9562_acde48001122row6_col6,#T_99e1f30e_407d_11eb_9562_acde48001122row7_col7,#T_99e1f30e_407d_11eb_9562_acde48001122row8_col8,#T_99e1f30e_407d_11eb_9562_acde48001122row9_col9,#T_99e1f30e_407d_11eb_9562_acde48001122row10_col10,#T_99e1f30e_407d_11eb_9562_acde48001122row11_col11,#T_99e1f30e_407d_11eb_9562_acde48001122row12_col12,#T_99e1f30e_407d_11eb_9562_acde48001122row13_col13{\n",
       "            background-color:  #b40426;\n",
       "            color:  #f1f1f1;\n",
       "        }#T_99e1f30e_407d_11eb_9562_acde48001122row0_col1,#T_99e1f30e_407d_11eb_9562_acde48001122row8_col3{\n",
       "            background-color:  #84a7fc;\n",
       "            color:  #000000;\n",
       "        }#T_99e1f30e_407d_11eb_9562_acde48001122row0_col2,#T_99e1f30e_407d_11eb_9562_acde48001122row0_col8{\n",
       "            background-color:  #c7d7f0;\n",
       "            color:  #000000;\n",
       "        }#T_99e1f30e_407d_11eb_9562_acde48001122row0_col3{\n",
       "            background-color:  #6180e9;\n",
       "            color:  #000000;\n",
       "        }#T_99e1f30e_407d_11eb_9562_acde48001122row0_col4{\n",
       "            background-color:  #b2ccfb;\n",
       "            color:  #000000;\n",
       "        }#T_99e1f30e_407d_11eb_9562_acde48001122row0_col5,#T_99e1f30e_407d_11eb_9562_acde48001122row6_col9{\n",
       "            background-color:  #90b2fe;\n",
       "            color:  #000000;\n",
       "        }#T_99e1f30e_407d_11eb_9562_acde48001122row0_col6,#T_99e1f30e_407d_11eb_9562_acde48001122row5_col3,#T_99e1f30e_407d_11eb_9562_acde48001122row12_col6{\n",
       "            background-color:  #7a9df8;\n",
       "            color:  #000000;\n",
       "        }#T_99e1f30e_407d_11eb_9562_acde48001122row0_col7,#T_99e1f30e_407d_11eb_9562_acde48001122row1_col9,#T_99e1f30e_407d_11eb_9562_acde48001122row5_col8,#T_99e1f30e_407d_11eb_9562_acde48001122row6_col13,#T_99e1f30e_407d_11eb_9562_acde48001122row9_col11{\n",
       "            background-color:  #bed2f6;\n",
       "            color:  #000000;\n",
       "        }#T_99e1f30e_407d_11eb_9562_acde48001122row0_col9,#T_99e1f30e_407d_11eb_9562_acde48001122row3_col13{\n",
       "            background-color:  #a3c2fe;\n",
       "            color:  #000000;\n",
       "        }#T_99e1f30e_407d_11eb_9562_acde48001122row0_col10{\n",
       "            background-color:  #d2dbe8;\n",
       "            color:  #000000;\n",
       "        }#T_99e1f30e_407d_11eb_9562_acde48001122row0_col11,#T_99e1f30e_407d_11eb_9562_acde48001122row1_col7{\n",
       "            background-color:  #dddcdc;\n",
       "            color:  #000000;\n",
       "        }#T_99e1f30e_407d_11eb_9562_acde48001122row0_col12,#T_99e1f30e_407d_11eb_9562_acde48001122row2_col5{\n",
       "            background-color:  #bbd1f8;\n",
       "            color:  #000000;\n",
       "        }#T_99e1f30e_407d_11eb_9562_acde48001122row0_col13,#T_99e1f30e_407d_11eb_9562_acde48001122row1_col2,#T_99e1f30e_407d_11eb_9562_acde48001122row13_col8{\n",
       "            background-color:  #aac7fd;\n",
       "            color:  #000000;\n",
       "        }#T_99e1f30e_407d_11eb_9562_acde48001122row1_col0,#T_99e1f30e_407d_11eb_9562_acde48001122row12_col0{\n",
       "            background-color:  #5977e3;\n",
       "            color:  #000000;\n",
       "        }#T_99e1f30e_407d_11eb_9562_acde48001122row1_col3{\n",
       "            background-color:  #f5c2aa;\n",
       "            color:  #000000;\n",
       "        }#T_99e1f30e_407d_11eb_9562_acde48001122row1_col4,#T_99e1f30e_407d_11eb_9562_acde48001122row2_col12,#T_99e1f30e_407d_11eb_9562_acde48001122row12_col5{\n",
       "            background-color:  #88abfd;\n",
       "            color:  #000000;\n",
       "        }#T_99e1f30e_407d_11eb_9562_acde48001122row1_col5{\n",
       "            background-color:  #96b7ff;\n",
       "            color:  #000000;\n",
       "        }#T_99e1f30e_407d_11eb_9562_acde48001122row1_col6,#T_99e1f30e_407d_11eb_9562_acde48001122row2_col8{\n",
       "            background-color:  #97b8ff;\n",
       "            color:  #000000;\n",
       "        }#T_99e1f30e_407d_11eb_9562_acde48001122row1_col8,#T_99e1f30e_407d_11eb_9562_acde48001122row3_col11{\n",
       "            background-color:  #dfdbd9;\n",
       "            color:  #000000;\n",
       "        }#T_99e1f30e_407d_11eb_9562_acde48001122row1_col10,#T_99e1f30e_407d_11eb_9562_acde48001122row7_col4,#T_99e1f30e_407d_11eb_9562_acde48001122row7_col10{\n",
       "            background-color:  #adc9fd;\n",
       "            color:  #000000;\n",
       "        }#T_99e1f30e_407d_11eb_9562_acde48001122row1_col11{\n",
       "            background-color:  #efcfbf;\n",
       "            color:  #000000;\n",
       "        }#T_99e1f30e_407d_11eb_9562_acde48001122row1_col12{\n",
       "            background-color:  #c6d6f1;\n",
       "            color:  #000000;\n",
       "        }#T_99e1f30e_407d_11eb_9562_acde48001122row1_col13,#T_99e1f30e_407d_11eb_9562_acde48001122row3_col4,#T_99e1f30e_407d_11eb_9562_acde48001122row11_col6{\n",
       "            background-color:  #85a8fc;\n",
       "            color:  #000000;\n",
       "        }#T_99e1f30e_407d_11eb_9562_acde48001122row2_col0,#T_99e1f30e_407d_11eb_9562_acde48001122row2_col1,#T_99e1f30e_407d_11eb_9562_acde48001122row2_col7,#T_99e1f30e_407d_11eb_9562_acde48001122row2_col11,#T_99e1f30e_407d_11eb_9562_acde48001122row4_col5,#T_99e1f30e_407d_11eb_9562_acde48001122row4_col6,#T_99e1f30e_407d_11eb_9562_acde48001122row5_col4,#T_99e1f30e_407d_11eb_9562_acde48001122row8_col10,#T_99e1f30e_407d_11eb_9562_acde48001122row10_col3,#T_99e1f30e_407d_11eb_9562_acde48001122row10_col8,#T_99e1f30e_407d_11eb_9562_acde48001122row10_col9,#T_99e1f30e_407d_11eb_9562_acde48001122row11_col2,#T_99e1f30e_407d_11eb_9562_acde48001122row11_col13,#T_99e1f30e_407d_11eb_9562_acde48001122row13_col0,#T_99e1f30e_407d_11eb_9562_acde48001122row13_col12{\n",
       "            background-color:  #3b4cc0;\n",
       "            color:  #f1f1f1;\n",
       "        }#T_99e1f30e_407d_11eb_9562_acde48001122row2_col3,#T_99e1f30e_407d_11eb_9562_acde48001122row13_col3{\n",
       "            background-color:  #455cce;\n",
       "            color:  #f1f1f1;\n",
       "        }#T_99e1f30e_407d_11eb_9562_acde48001122row2_col4{\n",
       "            background-color:  #536edd;\n",
       "            color:  #000000;\n",
       "        }#T_99e1f30e_407d_11eb_9562_acde48001122row2_col6{\n",
       "            background-color:  #82a6fb;\n",
       "            color:  #000000;\n",
       "        }#T_99e1f30e_407d_11eb_9562_acde48001122row2_col9,#T_99e1f30e_407d_11eb_9562_acde48001122row6_col11{\n",
       "            background-color:  #d6dce4;\n",
       "            color:  #000000;\n",
       "        }#T_99e1f30e_407d_11eb_9562_acde48001122row2_col10{\n",
       "            background-color:  #dcdddd;\n",
       "            color:  #000000;\n",
       "        }#T_99e1f30e_407d_11eb_9562_acde48001122row2_col13{\n",
       "            background-color:  #c73635;\n",
       "            color:  #f1f1f1;\n",
       "        }#T_99e1f30e_407d_11eb_9562_acde48001122row3_col0{\n",
       "            background-color:  #4e68d8;\n",
       "            color:  #000000;\n",
       "        }#T_99e1f30e_407d_11eb_9562_acde48001122row3_col1{\n",
       "            background-color:  #f7b99e;\n",
       "            color:  #000000;\n",
       "        }#T_99e1f30e_407d_11eb_9562_acde48001122row3_col2{\n",
       "            background-color:  #c4d5f3;\n",
       "            color:  #000000;\n",
       "        }#T_99e1f30e_407d_11eb_9562_acde48001122row3_col5,#T_99e1f30e_407d_11eb_9562_acde48001122row8_col4,#T_99e1f30e_407d_11eb_9562_acde48001122row12_col2{\n",
       "            background-color:  #b3cdfb;\n",
       "            color:  #000000;\n",
       "        }#T_99e1f30e_407d_11eb_9562_acde48001122row3_col6,#T_99e1f30e_407d_11eb_9562_acde48001122row6_col12{\n",
       "            background-color:  #aec9fc;\n",
       "            color:  #000000;\n",
       "        }#T_99e1f30e_407d_11eb_9562_acde48001122row3_col7{\n",
       "            background-color:  #dadce0;\n",
       "            color:  #000000;\n",
       "        }#T_99e1f30e_407d_11eb_9562_acde48001122row3_col8{\n",
       "            background-color:  #dbdcde;\n",
       "            color:  #000000;\n",
       "        }#T_99e1f30e_407d_11eb_9562_acde48001122row3_col9,#T_99e1f30e_407d_11eb_9562_acde48001122row3_col12,#T_99e1f30e_407d_11eb_9562_acde48001122row4_col7{\n",
       "            background-color:  #c0d4f5;\n",
       "            color:  #000000;\n",
       "        }#T_99e1f30e_407d_11eb_9562_acde48001122row3_col10{\n",
       "            background-color:  #afcafc;\n",
       "            color:  #000000;\n",
       "        }#T_99e1f30e_407d_11eb_9562_acde48001122row4_col0,#T_99e1f30e_407d_11eb_9562_acde48001122row13_col11{\n",
       "            background-color:  #6687ed;\n",
       "            color:  #000000;\n",
       "        }#T_99e1f30e_407d_11eb_9562_acde48001122row4_col1{\n",
       "            background-color:  #5f7fe8;\n",
       "            color:  #000000;\n",
       "        }#T_99e1f30e_407d_11eb_9562_acde48001122row4_col2{\n",
       "            background-color:  #9dbdff;\n",
       "            color:  #000000;\n",
       "        }#T_99e1f30e_407d_11eb_9562_acde48001122row4_col3{\n",
       "            background-color:  #4358cb;\n",
       "            color:  #f1f1f1;\n",
       "        }#T_99e1f30e_407d_11eb_9562_acde48001122row4_col8{\n",
       "            background-color:  #d7dce3;\n",
       "            color:  #000000;\n",
       "        }#T_99e1f30e_407d_11eb_9562_acde48001122row4_col9{\n",
       "            background-color:  #a9c6fd;\n",
       "            color:  #000000;\n",
       "        }#T_99e1f30e_407d_11eb_9562_acde48001122row4_col10,#T_99e1f30e_407d_11eb_9562_acde48001122row6_col8,#T_99e1f30e_407d_11eb_9562_acde48001122row13_col5{\n",
       "            background-color:  #c1d4f4;\n",
       "            color:  #000000;\n",
       "        }#T_99e1f30e_407d_11eb_9562_acde48001122row4_col11{\n",
       "            background-color:  #f5c1a9;\n",
       "            color:  #000000;\n",
       "        }#T_99e1f30e_407d_11eb_9562_acde48001122row4_col12{\n",
       "            background-color:  #bad0f8;\n",
       "            color:  #000000;\n",
       "        }#T_99e1f30e_407d_11eb_9562_acde48001122row4_col13{\n",
       "            background-color:  #7da0f9;\n",
       "            color:  #000000;\n",
       "        }#T_99e1f30e_407d_11eb_9562_acde48001122row5_col0,#T_99e1f30e_407d_11eb_9562_acde48001122row13_col1{\n",
       "            background-color:  #3c4ec2;\n",
       "            color:  #f1f1f1;\n",
       "        }#T_99e1f30e_407d_11eb_9562_acde48001122row5_col1{\n",
       "            background-color:  #6e90f2;\n",
       "            color:  #000000;\n",
       "        }#T_99e1f30e_407d_11eb_9562_acde48001122row5_col2{\n",
       "            background-color:  #e4d9d2;\n",
       "            color:  #000000;\n",
       "        }#T_99e1f30e_407d_11eb_9562_acde48001122row5_col6{\n",
       "            background-color:  #ecd3c5;\n",
       "            color:  #000000;\n",
       "        }#T_99e1f30e_407d_11eb_9562_acde48001122row5_col7,#T_99e1f30e_407d_11eb_9562_acde48001122row13_col9{\n",
       "            background-color:  #d9dce1;\n",
       "            color:  #000000;\n",
       "        }#T_99e1f30e_407d_11eb_9562_acde48001122row5_col9{\n",
       "            background-color:  #abc8fd;\n",
       "            color:  #000000;\n",
       "        }#T_99e1f30e_407d_11eb_9562_acde48001122row5_col10,#T_99e1f30e_407d_11eb_9562_acde48001122row6_col2{\n",
       "            background-color:  #d5dbe5;\n",
       "            color:  #000000;\n",
       "        }#T_99e1f30e_407d_11eb_9562_acde48001122row5_col11,#T_99e1f30e_407d_11eb_9562_acde48001122row7_col6{\n",
       "            background-color:  #cbd8ee;\n",
       "            color:  #000000;\n",
       "        }#T_99e1f30e_407d_11eb_9562_acde48001122row5_col12{\n",
       "            background-color:  #9fbfff;\n",
       "            color:  #000000;\n",
       "        }#T_99e1f30e_407d_11eb_9562_acde48001122row5_col13{\n",
       "            background-color:  #d4dbe6;\n",
       "            color:  #000000;\n",
       "        }#T_99e1f30e_407d_11eb_9562_acde48001122row6_col0{\n",
       "            background-color:  #4961d2;\n",
       "            color:  #f1f1f1;\n",
       "        }#T_99e1f30e_407d_11eb_9562_acde48001122row6_col1,#T_99e1f30e_407d_11eb_9562_acde48001122row7_col9,#T_99e1f30e_407d_11eb_9562_acde48001122row10_col7{\n",
       "            background-color:  #92b4fe;\n",
       "            color:  #000000;\n",
       "        }#T_99e1f30e_407d_11eb_9562_acde48001122row6_col3,#T_99e1f30e_407d_11eb_9562_acde48001122row8_col13,#T_99e1f30e_407d_11eb_9562_acde48001122row12_col1{\n",
       "            background-color:  #94b6ff;\n",
       "            color:  #000000;\n",
       "        }#T_99e1f30e_407d_11eb_9562_acde48001122row6_col4,#T_99e1f30e_407d_11eb_9562_acde48001122row7_col13{\n",
       "            background-color:  #5e7de7;\n",
       "            color:  #000000;\n",
       "        }#T_99e1f30e_407d_11eb_9562_acde48001122row6_col5{\n",
       "            background-color:  #f3c7b1;\n",
       "            color:  #000000;\n",
       "        }#T_99e1f30e_407d_11eb_9562_acde48001122row6_col7,#T_99e1f30e_407d_11eb_9562_acde48001122row8_col7,#T_99e1f30e_407d_11eb_9562_acde48001122row12_col10{\n",
       "            background-color:  #e7d7ce;\n",
       "            color:  #000000;\n",
       "        }#T_99e1f30e_407d_11eb_9562_acde48001122row6_col10{\n",
       "            background-color:  #dedcdb;\n",
       "            color:  #000000;\n",
       "        }#T_99e1f30e_407d_11eb_9562_acde48001122row7_col0,#T_99e1f30e_407d_11eb_9562_acde48001122row10_col0,#T_99e1f30e_407d_11eb_9562_acde48001122row13_col4{\n",
       "            background-color:  #5d7ce6;\n",
       "            color:  #000000;\n",
       "        }#T_99e1f30e_407d_11eb_9562_acde48001122row7_col1,#T_99e1f30e_407d_11eb_9562_acde48001122row12_col8{\n",
       "            background-color:  #b6cefa;\n",
       "            color:  #000000;\n",
       "        }#T_99e1f30e_407d_11eb_9562_acde48001122row7_col2{\n",
       "            background-color:  #6c8ff1;\n",
       "            color:  #000000;\n",
       "        }#T_99e1f30e_407d_11eb_9562_acde48001122row7_col3,#T_99e1f30e_407d_11eb_9562_acde48001122row9_col4,#T_99e1f30e_407d_11eb_9562_acde48001122row9_col7{\n",
       "            background-color:  #9ebeff;\n",
       "            color:  #000000;\n",
       "        }#T_99e1f30e_407d_11eb_9562_acde48001122row7_col5{\n",
       "            background-color:  #ccd9ed;\n",
       "            color:  #000000;\n",
       "        }#T_99e1f30e_407d_11eb_9562_acde48001122row7_col8{\n",
       "            background-color:  #f1cdba;\n",
       "            color:  #000000;\n",
       "        }#T_99e1f30e_407d_11eb_9562_acde48001122row7_col11{\n",
       "            background-color:  #ec8165;\n",
       "            color:  #000000;\n",
       "        }#T_99e1f30e_407d_11eb_9562_acde48001122row7_col12,#T_99e1f30e_407d_11eb_9562_acde48001122row12_col7{\n",
       "            background-color:  #98b9ff;\n",
       "            color:  #000000;\n",
       "        }#T_99e1f30e_407d_11eb_9562_acde48001122row8_col0{\n",
       "            background-color:  #4b64d5;\n",
       "            color:  #f1f1f1;\n",
       "        }#T_99e1f30e_407d_11eb_9562_acde48001122row8_col1{\n",
       "            background-color:  #a1c0ff;\n",
       "            color:  #000000;\n",
       "        }#T_99e1f30e_407d_11eb_9562_acde48001122row8_col2,#T_99e1f30e_407d_11eb_9562_acde48001122row12_col4{\n",
       "            background-color:  #a6c4fe;\n",
       "            color:  #000000;\n",
       "        }#T_99e1f30e_407d_11eb_9562_acde48001122row8_col5,#T_99e1f30e_407d_11eb_9562_acde48001122row12_col9{\n",
       "            background-color:  #8fb1fe;\n",
       "            color:  #000000;\n",
       "        }#T_99e1f30e_407d_11eb_9562_acde48001122row8_col6{\n",
       "            background-color:  #7295f4;\n",
       "            color:  #000000;\n",
       "        }#T_99e1f30e_407d_11eb_9562_acde48001122row8_col9{\n",
       "            background-color:  #89acfd;\n",
       "            color:  #000000;\n",
       "        }#T_99e1f30e_407d_11eb_9562_acde48001122row8_col11{\n",
       "            background-color:  #f6bfa6;\n",
       "            color:  #000000;\n",
       "        }#T_99e1f30e_407d_11eb_9562_acde48001122row8_col12{\n",
       "            background-color:  #9bbcff;\n",
       "            color:  #000000;\n",
       "        }#T_99e1f30e_407d_11eb_9562_acde48001122row9_col0{\n",
       "            background-color:  #465ecf;\n",
       "            color:  #f1f1f1;\n",
       "        }#T_99e1f30e_407d_11eb_9562_acde48001122row9_col1,#T_99e1f30e_407d_11eb_9562_acde48001122row10_col4,#T_99e1f30e_407d_11eb_9562_acde48001122row11_col5{\n",
       "            background-color:  #93b5fe;\n",
       "            color:  #000000;\n",
       "        }#T_99e1f30e_407d_11eb_9562_acde48001122row9_col2{\n",
       "            background-color:  #eed0c0;\n",
       "            color:  #000000;\n",
       "        }#T_99e1f30e_407d_11eb_9562_acde48001122row9_col3{\n",
       "            background-color:  #80a3fa;\n",
       "            color:  #000000;\n",
       "        }#T_99e1f30e_407d_11eb_9562_acde48001122row9_col5{\n",
       "            background-color:  #a2c1ff;\n",
       "            color:  #000000;\n",
       "        }#T_99e1f30e_407d_11eb_9562_acde48001122row9_col6{\n",
       "            background-color:  #6282ea;\n",
       "            color:  #000000;\n",
       "        }#T_99e1f30e_407d_11eb_9562_acde48001122row9_col8,#T_99e1f30e_407d_11eb_9562_acde48001122row10_col5{\n",
       "            background-color:  #b1cbfc;\n",
       "            color:  #000000;\n",
       "        }#T_99e1f30e_407d_11eb_9562_acde48001122row9_col10{\n",
       "            background-color:  #688aef;\n",
       "            color:  #000000;\n",
       "        }#T_99e1f30e_407d_11eb_9562_acde48001122row9_col12{\n",
       "            background-color:  #9abbff;\n",
       "            color:  #000000;\n",
       "        }#T_99e1f30e_407d_11eb_9562_acde48001122row9_col13{\n",
       "            background-color:  #e2dad5;\n",
       "            color:  #000000;\n",
       "        }#T_99e1f30e_407d_11eb_9562_acde48001122row10_col1{\n",
       "            background-color:  #4f69d9;\n",
       "            color:  #000000;\n",
       "        }#T_99e1f30e_407d_11eb_9562_acde48001122row10_col2,#T_99e1f30e_407d_11eb_9562_acde48001122row11_col4{\n",
       "            background-color:  #e3d9d3;\n",
       "            color:  #000000;\n",
       "        }#T_99e1f30e_407d_11eb_9562_acde48001122row10_col6,#T_99e1f30e_407d_11eb_9562_acde48001122row12_col11{\n",
       "            background-color:  #a5c3fe;\n",
       "            color:  #000000;\n",
       "        }#T_99e1f30e_407d_11eb_9562_acde48001122row10_col11,#T_99e1f30e_407d_11eb_9562_acde48001122row11_col1{\n",
       "            background-color:  #b5cdfa;\n",
       "            color:  #000000;\n",
       "        }#T_99e1f30e_407d_11eb_9562_acde48001122row10_col12{\n",
       "            background-color:  #d8dce2;\n",
       "            color:  #000000;\n",
       "        }#T_99e1f30e_407d_11eb_9562_acde48001122row10_col13{\n",
       "            background-color:  #bcd2f7;\n",
       "            color:  #000000;\n",
       "        }#T_99e1f30e_407d_11eb_9562_acde48001122row11_col0{\n",
       "            background-color:  #6485ec;\n",
       "            color:  #000000;\n",
       "        }#T_99e1f30e_407d_11eb_9562_acde48001122row11_col3{\n",
       "            background-color:  #7b9ff9;\n",
       "            color:  #000000;\n",
       "        }#T_99e1f30e_407d_11eb_9562_acde48001122row11_col7{\n",
       "            background-color:  #f29072;\n",
       "            color:  #000000;\n",
       "        }#T_99e1f30e_407d_11eb_9562_acde48001122row11_col8{\n",
       "            background-color:  #f4c6af;\n",
       "            color:  #000000;\n",
       "        }#T_99e1f30e_407d_11eb_9562_acde48001122row11_col9{\n",
       "            background-color:  #8caffe;\n",
       "            color:  #000000;\n",
       "        }#T_99e1f30e_407d_11eb_9562_acde48001122row11_col10{\n",
       "            background-color:  #a7c5fe;\n",
       "            color:  #000000;\n",
       "        }#T_99e1f30e_407d_11eb_9562_acde48001122row11_col12{\n",
       "            background-color:  #7699f6;\n",
       "            color:  #000000;\n",
       "        }#T_99e1f30e_407d_11eb_9562_acde48001122row12_col3{\n",
       "            background-color:  #7396f5;\n",
       "            color:  #000000;\n",
       "        }#T_99e1f30e_407d_11eb_9562_acde48001122row12_col13{\n",
       "            background-color:  #4257c9;\n",
       "            color:  #f1f1f1;\n",
       "        }#T_99e1f30e_407d_11eb_9562_acde48001122row13_col2{\n",
       "            background-color:  #c43032;\n",
       "            color:  #f1f1f1;\n",
       "        }#T_99e1f30e_407d_11eb_9562_acde48001122row13_col6{\n",
       "            background-color:  #86a9fc;\n",
       "            color:  #000000;\n",
       "        }#T_99e1f30e_407d_11eb_9562_acde48001122row13_col7{\n",
       "            background-color:  #5875e1;\n",
       "            color:  #000000;\n",
       "        }#T_99e1f30e_407d_11eb_9562_acde48001122row13_col10{\n",
       "            background-color:  #cdd9ec;\n",
       "            color:  #000000;\n",
       "        }</style><table id=\"T_99e1f30e_407d_11eb_9562_acde48001122\" ><thead>    <tr>        <th class=\"blank level0\" ></th>        <th class=\"col_heading level0 col0\" >PassengerId</th>        <th class=\"col_heading level0 col1\" >Survived</th>        <th class=\"col_heading level0 col2\" >Pclass</th>        <th class=\"col_heading level0 col3\" >Sex</th>        <th class=\"col_heading level0 col4\" >Age</th>        <th class=\"col_heading level0 col5\" >SibSp</th>        <th class=\"col_heading level0 col6\" >Parch</th>        <th class=\"col_heading level0 col7\" >Fare</th>        <th class=\"col_heading level0 col8\" >C</th>        <th class=\"col_heading level0 col9\" >Q</th>        <th class=\"col_heading level0 col10\" >S</th>        <th class=\"col_heading level0 col11\" >1</th>        <th class=\"col_heading level0 col12\" >2</th>        <th class=\"col_heading level0 col13\" >3</th>    </tr></thead><tbody>\n",
       "                <tr>\n",
       "                        <th id=\"T_99e1f30e_407d_11eb_9562_acde48001122level0_row0\" class=\"row_heading level0 row0\" >PassengerId</th>\n",
       "                        <td id=\"T_99e1f30e_407d_11eb_9562_acde48001122row0_col0\" class=\"data row0 col0\" >1.000000</td>\n",
       "                        <td id=\"T_99e1f30e_407d_11eb_9562_acde48001122row0_col1\" class=\"data row0 col1\" >0.027538</td>\n",
       "                        <td id=\"T_99e1f30e_407d_11eb_9562_acde48001122row0_col2\" class=\"data row0 col2\" >-0.080562</td>\n",
       "                        <td id=\"T_99e1f30e_407d_11eb_9562_acde48001122row0_col3\" class=\"data row0 col3\" >-0.009973</td>\n",
       "                        <td id=\"T_99e1f30e_407d_11eb_9562_acde48001122row0_col4\" class=\"data row0 col4\" >0.069596</td>\n",
       "                        <td id=\"T_99e1f30e_407d_11eb_9562_acde48001122row0_col5\" class=\"data row0 col5\" >-0.072245</td>\n",
       "                        <td id=\"T_99e1f30e_407d_11eb_9562_acde48001122row0_col6\" class=\"data row0 col6\" >-0.029669</td>\n",
       "                        <td id=\"T_99e1f30e_407d_11eb_9562_acde48001122row0_col7\" class=\"data row0 col7\" >0.038574</td>\n",
       "                        <td id=\"T_99e1f30e_407d_11eb_9562_acde48001122row0_col8\" class=\"data row0 col8\" >-0.020419</td>\n",
       "                        <td id=\"T_99e1f30e_407d_11eb_9562_acde48001122row0_col9\" class=\"data row0 col9\" >-0.037355</td>\n",
       "                        <td id=\"T_99e1f30e_407d_11eb_9562_acde48001122row0_col10\" class=\"data row0 col10\" >0.041708</td>\n",
       "                        <td id=\"T_99e1f30e_407d_11eb_9562_acde48001122row0_col11\" class=\"data row0 col11\" >0.064898</td>\n",
       "                        <td id=\"T_99e1f30e_407d_11eb_9562_acde48001122row0_col12\" class=\"data row0 col12\" >0.029036</td>\n",
       "                        <td id=\"T_99e1f30e_407d_11eb_9562_acde48001122row0_col13\" class=\"data row0 col13\" >-0.078974</td>\n",
       "            </tr>\n",
       "            <tr>\n",
       "                        <th id=\"T_99e1f30e_407d_11eb_9562_acde48001122level0_row1\" class=\"row_heading level0 row1\" >Survived</th>\n",
       "                        <td id=\"T_99e1f30e_407d_11eb_9562_acde48001122row1_col0\" class=\"data row1 col0\" >0.027538</td>\n",
       "                        <td id=\"T_99e1f30e_407d_11eb_9562_acde48001122row1_col1\" class=\"data row1 col1\" >1.000000</td>\n",
       "                        <td id=\"T_99e1f30e_407d_11eb_9562_acde48001122row1_col2\" class=\"data row1 col2\" >-0.252978</td>\n",
       "                        <td id=\"T_99e1f30e_407d_11eb_9562_acde48001122row1_col3\" class=\"data row1 col3\" >0.575127</td>\n",
       "                        <td id=\"T_99e1f30e_407d_11eb_9562_acde48001122row1_col4\" class=\"data row1 col4\" >-0.105456</td>\n",
       "                        <td id=\"T_99e1f30e_407d_11eb_9562_acde48001122row1_col5\" class=\"data row1 col5\" >-0.049122</td>\n",
       "                        <td id=\"T_99e1f30e_407d_11eb_9562_acde48001122row1_col6\" class=\"data row1 col6\" >0.077264</td>\n",
       "                        <td id=\"T_99e1f30e_407d_11eb_9562_acde48001122row1_col7\" class=\"data row1 col7\" >0.209444</td>\n",
       "                        <td id=\"T_99e1f30e_407d_11eb_9562_acde48001122row1_col8\" class=\"data row1 col8\" >0.132401</td>\n",
       "                        <td id=\"T_99e1f30e_407d_11eb_9562_acde48001122row1_col9\" class=\"data row1 col9\" >0.080820</td>\n",
       "                        <td id=\"T_99e1f30e_407d_11eb_9562_acde48001122row1_col10\" class=\"data row1 col10\" >-0.166886</td>\n",
       "                        <td id=\"T_99e1f30e_407d_11eb_9562_acde48001122row1_col11\" class=\"data row1 col11\" >0.206564</td>\n",
       "                        <td id=\"T_99e1f30e_407d_11eb_9562_acde48001122row1_col12\" class=\"data row1 col12\" >0.085430</td>\n",
       "                        <td id=\"T_99e1f30e_407d_11eb_9562_acde48001122row1_col13\" class=\"data row1 col13\" >-0.245636</td>\n",
       "            </tr>\n",
       "            <tr>\n",
       "                        <th id=\"T_99e1f30e_407d_11eb_9562_acde48001122level0_row2\" class=\"row_heading level0 row2\" >Pclass</th>\n",
       "                        <td id=\"T_99e1f30e_407d_11eb_9562_acde48001122row2_col0\" class=\"data row2 col0\" >-0.080562</td>\n",
       "                        <td id=\"T_99e1f30e_407d_11eb_9562_acde48001122row2_col1\" class=\"data row2 col1\" >-0.252978</td>\n",
       "                        <td id=\"T_99e1f30e_407d_11eb_9562_acde48001122row2_col2\" class=\"data row2 col2\" >1.000000</td>\n",
       "                        <td id=\"T_99e1f30e_407d_11eb_9562_acde48001122row2_col3\" class=\"data row2 col3\" >-0.106758</td>\n",
       "                        <td id=\"T_99e1f30e_407d_11eb_9562_acde48001122row2_col4\" class=\"data row2 col4\" >-0.329465</td>\n",
       "                        <td id=\"T_99e1f30e_407d_11eb_9562_acde48001122row2_col5\" class=\"data row2 col5\" >0.112139</td>\n",
       "                        <td id=\"T_99e1f30e_407d_11eb_9562_acde48001122row2_col6\" class=\"data row2 col6\" >0.003289</td>\n",
       "                        <td id=\"T_99e1f30e_407d_11eb_9562_acde48001122row2_col7\" class=\"data row2 col7\" >-0.584160</td>\n",
       "                        <td id=\"T_99e1f30e_407d_11eb_9562_acde48001122row2_col8\" class=\"data row2 col8\" >-0.274606</td>\n",
       "                        <td id=\"T_99e1f30e_407d_11eb_9562_acde48001122row2_col9\" class=\"data row2 col9\" >0.205632</td>\n",
       "                        <td id=\"T_99e1f30e_407d_11eb_9562_acde48001122row2_col10\" class=\"data row2 col10\" >0.106629</td>\n",
       "                        <td id=\"T_99e1f30e_407d_11eb_9562_acde48001122row2_col11\" class=\"data row2 col11\" >-0.881387</td>\n",
       "                        <td id=\"T_99e1f30e_407d_11eb_9562_acde48001122row2_col12\" class=\"data row2 col12\" >-0.203270</td>\n",
       "                        <td id=\"T_99e1f30e_407d_11eb_9562_acde48001122row2_col13\" class=\"data row2 col13\" >0.915852</td>\n",
       "            </tr>\n",
       "            <tr>\n",
       "                        <th id=\"T_99e1f30e_407d_11eb_9562_acde48001122level0_row3\" class=\"row_heading level0 row3\" >Sex</th>\n",
       "                        <td id=\"T_99e1f30e_407d_11eb_9562_acde48001122row3_col0\" class=\"data row3 col0\" >-0.009973</td>\n",
       "                        <td id=\"T_99e1f30e_407d_11eb_9562_acde48001122row3_col1\" class=\"data row3 col1\" >0.575127</td>\n",
       "                        <td id=\"T_99e1f30e_407d_11eb_9562_acde48001122row3_col2\" class=\"data row3 col2\" >-0.106758</td>\n",
       "                        <td id=\"T_99e1f30e_407d_11eb_9562_acde48001122row3_col3\" class=\"data row3 col3\" >1.000000</td>\n",
       "                        <td id=\"T_99e1f30e_407d_11eb_9562_acde48001122row3_col4\" class=\"data row3 col4\" >-0.116439</td>\n",
       "                        <td id=\"T_99e1f30e_407d_11eb_9562_acde48001122row3_col5\" class=\"data row3 col5\" >0.074790</td>\n",
       "                        <td id=\"T_99e1f30e_407d_11eb_9562_acde48001122row3_col6\" class=\"data row3 col6\" >0.163150</td>\n",
       "                        <td id=\"T_99e1f30e_407d_11eb_9562_acde48001122row3_col7\" class=\"data row3 col7\" >0.190656</td>\n",
       "                        <td id=\"T_99e1f30e_407d_11eb_9562_acde48001122row3_col8\" class=\"data row3 col8\" >0.106479</td>\n",
       "                        <td id=\"T_99e1f30e_407d_11eb_9562_acde48001122row3_col9\" class=\"data row3 col9\" >0.091916</td>\n",
       "                        <td id=\"T_99e1f30e_407d_11eb_9562_acde48001122row3_col10\" class=\"data row3 col10\" >-0.151485</td>\n",
       "                        <td id=\"T_99e1f30e_407d_11eb_9562_acde48001122row3_col11\" class=\"data row3 col11\" >0.079295</td>\n",
       "                        <td id=\"T_99e1f30e_407d_11eb_9562_acde48001122row3_col12\" class=\"data row3 col12\" >0.052377</td>\n",
       "                        <td id=\"T_99e1f30e_407d_11eb_9562_acde48001122row3_col13\" class=\"data row3 col13\" >-0.110355</td>\n",
       "            </tr>\n",
       "            <tr>\n",
       "                        <th id=\"T_99e1f30e_407d_11eb_9562_acde48001122level0_row4\" class=\"row_heading level0 row4\" >Age</th>\n",
       "                        <td id=\"T_99e1f30e_407d_11eb_9562_acde48001122row4_col0\" class=\"data row4 col0\" >0.069596</td>\n",
       "                        <td id=\"T_99e1f30e_407d_11eb_9562_acde48001122row4_col1\" class=\"data row4 col1\" >-0.105456</td>\n",
       "                        <td id=\"T_99e1f30e_407d_11eb_9562_acde48001122row4_col2\" class=\"data row4 col2\" >-0.329465</td>\n",
       "                        <td id=\"T_99e1f30e_407d_11eb_9562_acde48001122row4_col3\" class=\"data row4 col3\" >-0.116439</td>\n",
       "                        <td id=\"T_99e1f30e_407d_11eb_9562_acde48001122row4_col4\" class=\"data row4 col4\" >1.000000</td>\n",
       "                        <td id=\"T_99e1f30e_407d_11eb_9562_acde48001122row4_col5\" class=\"data row4 col5\" >-0.446141</td>\n",
       "                        <td id=\"T_99e1f30e_407d_11eb_9562_acde48001122row4_col6\" class=\"data row4 col6\" >-0.281651</td>\n",
       "                        <td id=\"T_99e1f30e_407d_11eb_9562_acde48001122row4_col7\" class=\"data row4 col7\" >0.048010</td>\n",
       "                        <td id=\"T_99e1f30e_407d_11eb_9562_acde48001122row4_col8\" class=\"data row4 col8\" >0.074459</td>\n",
       "                        <td id=\"T_99e1f30e_407d_11eb_9562_acde48001122row4_col9\" class=\"data row4 col9\" >-0.012463</td>\n",
       "                        <td id=\"T_99e1f30e_407d_11eb_9562_acde48001122row4_col10\" class=\"data row4 col10\" >-0.056692</td>\n",
       "                        <td id=\"T_99e1f30e_407d_11eb_9562_acde48001122row4_col11\" class=\"data row4 col11\" >0.311987</td>\n",
       "                        <td id=\"T_99e1f30e_407d_11eb_9562_acde48001122row4_col12\" class=\"data row4 col12\" >0.022199</td>\n",
       "                        <td id=\"T_99e1f30e_407d_11eb_9562_acde48001122row4_col13\" class=\"data row4 col13\" >-0.283382</td>\n",
       "            </tr>\n",
       "            <tr>\n",
       "                        <th id=\"T_99e1f30e_407d_11eb_9562_acde48001122level0_row5\" class=\"row_heading level0 row5\" >SibSp</th>\n",
       "                        <td id=\"T_99e1f30e_407d_11eb_9562_acde48001122row5_col0\" class=\"data row5 col0\" >-0.072245</td>\n",
       "                        <td id=\"T_99e1f30e_407d_11eb_9562_acde48001122row5_col1\" class=\"data row5 col1\" >-0.049122</td>\n",
       "                        <td id=\"T_99e1f30e_407d_11eb_9562_acde48001122row5_col2\" class=\"data row5 col2\" >0.112139</td>\n",
       "                        <td id=\"T_99e1f30e_407d_11eb_9562_acde48001122row5_col3\" class=\"data row5 col3\" >0.074790</td>\n",
       "                        <td id=\"T_99e1f30e_407d_11eb_9562_acde48001122row5_col4\" class=\"data row5 col4\" >-0.446141</td>\n",
       "                        <td id=\"T_99e1f30e_407d_11eb_9562_acde48001122row5_col5\" class=\"data row5 col5\" >1.000000</td>\n",
       "                        <td id=\"T_99e1f30e_407d_11eb_9562_acde48001122row5_col6\" class=\"data row5 col6\" >0.442852</td>\n",
       "                        <td id=\"T_99e1f30e_407d_11eb_9562_acde48001122row5_col7\" class=\"data row5 col7\" >0.186841</td>\n",
       "                        <td id=\"T_99e1f30e_407d_11eb_9562_acde48001122row5_col8\" class=\"data row5 col8\" >-0.075267</td>\n",
       "                        <td id=\"T_99e1f30e_407d_11eb_9562_acde48001122row5_col9\" class=\"data row5 col9\" >0.001031</td>\n",
       "                        <td id=\"T_99e1f30e_407d_11eb_9562_acde48001122row5_col10\" class=\"data row5 col10\" >0.064730</td>\n",
       "                        <td id=\"T_99e1f30e_407d_11eb_9562_acde48001122row5_col11\" class=\"data row5 col11\" >-0.059951</td>\n",
       "                        <td id=\"T_99e1f30e_407d_11eb_9562_acde48001122row5_col12\" class=\"data row5 col12\" >-0.103393</td>\n",
       "                        <td id=\"T_99e1f30e_407d_11eb_9562_acde48001122row5_col13\" class=\"data row5 col13\" >0.135754</td>\n",
       "            </tr>\n",
       "            <tr>\n",
       "                        <th id=\"T_99e1f30e_407d_11eb_9562_acde48001122level0_row6\" class=\"row_heading level0 row6\" >Parch</th>\n",
       "                        <td id=\"T_99e1f30e_407d_11eb_9562_acde48001122row6_col0\" class=\"data row6 col0\" >-0.029669</td>\n",
       "                        <td id=\"T_99e1f30e_407d_11eb_9562_acde48001122row6_col1\" class=\"data row6 col1\" >0.077264</td>\n",
       "                        <td id=\"T_99e1f30e_407d_11eb_9562_acde48001122row6_col2\" class=\"data row6 col2\" >0.003289</td>\n",
       "                        <td id=\"T_99e1f30e_407d_11eb_9562_acde48001122row6_col3\" class=\"data row6 col3\" >0.163150</td>\n",
       "                        <td id=\"T_99e1f30e_407d_11eb_9562_acde48001122row6_col4\" class=\"data row6 col4\" >-0.281651</td>\n",
       "                        <td id=\"T_99e1f30e_407d_11eb_9562_acde48001122row6_col5\" class=\"data row6 col5\" >0.442852</td>\n",
       "                        <td id=\"T_99e1f30e_407d_11eb_9562_acde48001122row6_col6\" class=\"data row6 col6\" >1.000000</td>\n",
       "                        <td id=\"T_99e1f30e_407d_11eb_9562_acde48001122row6_col7\" class=\"data row6 col7\" >0.274541</td>\n",
       "                        <td id=\"T_99e1f30e_407d_11eb_9562_acde48001122row6_col8\" class=\"data row6 col8\" >-0.059330</td>\n",
       "                        <td id=\"T_99e1f30e_407d_11eb_9562_acde48001122row6_col9\" class=\"data row6 col9\" >-0.117449</td>\n",
       "                        <td id=\"T_99e1f30e_407d_11eb_9562_acde48001122row6_col10\" class=\"data row6 col10\" >0.126906</td>\n",
       "                        <td id=\"T_99e1f30e_407d_11eb_9562_acde48001122row6_col11\" class=\"data row6 col11\" >0.011671</td>\n",
       "                        <td id=\"T_99e1f30e_407d_11eb_9562_acde48001122row6_col12\" class=\"data row6 col12\" >-0.030867</td>\n",
       "                        <td id=\"T_99e1f30e_407d_11eb_9562_acde48001122row6_col13\" class=\"data row6 col13\" >0.015396</td>\n",
       "            </tr>\n",
       "            <tr>\n",
       "                        <th id=\"T_99e1f30e_407d_11eb_9562_acde48001122level0_row7\" class=\"row_heading level0 row7\" >Fare</th>\n",
       "                        <td id=\"T_99e1f30e_407d_11eb_9562_acde48001122row7_col0\" class=\"data row7 col0\" >0.038574</td>\n",
       "                        <td id=\"T_99e1f30e_407d_11eb_9562_acde48001122row7_col1\" class=\"data row7 col1\" >0.209444</td>\n",
       "                        <td id=\"T_99e1f30e_407d_11eb_9562_acde48001122row7_col2\" class=\"data row7 col2\" >-0.584160</td>\n",
       "                        <td id=\"T_99e1f30e_407d_11eb_9562_acde48001122row7_col3\" class=\"data row7 col3\" >0.190656</td>\n",
       "                        <td id=\"T_99e1f30e_407d_11eb_9562_acde48001122row7_col4\" class=\"data row7 col4\" >0.048010</td>\n",
       "                        <td id=\"T_99e1f30e_407d_11eb_9562_acde48001122row7_col5\" class=\"data row7 col5\" >0.186841</td>\n",
       "                        <td id=\"T_99e1f30e_407d_11eb_9562_acde48001122row7_col6\" class=\"data row7 col6\" >0.274541</td>\n",
       "                        <td id=\"T_99e1f30e_407d_11eb_9562_acde48001122row7_col7\" class=\"data row7 col7\" >1.000000</td>\n",
       "                        <td id=\"T_99e1f30e_407d_11eb_9562_acde48001122row7_col8\" class=\"data row7 col8\" >0.275274</td>\n",
       "                        <td id=\"T_99e1f30e_407d_11eb_9562_acde48001122row7_col9\" class=\"data row7 col9\" >-0.111373</td>\n",
       "                        <td id=\"T_99e1f30e_407d_11eb_9562_acde48001122row7_col10\" class=\"data row7 col10\" >-0.167691</td>\n",
       "                        <td id=\"T_99e1f30e_407d_11eb_9562_acde48001122row7_col11\" class=\"data row7 col11\" >0.636882</td>\n",
       "                        <td id=\"T_99e1f30e_407d_11eb_9562_acde48001122row7_col12\" class=\"data row7 col12\" >-0.134149</td>\n",
       "                        <td id=\"T_99e1f30e_407d_11eb_9562_acde48001122row7_col13\" class=\"data row7 col13\" >-0.431299</td>\n",
       "            </tr>\n",
       "            <tr>\n",
       "                        <th id=\"T_99e1f30e_407d_11eb_9562_acde48001122level0_row8\" class=\"row_heading level0 row8\" >C</th>\n",
       "                        <td id=\"T_99e1f30e_407d_11eb_9562_acde48001122row8_col0\" class=\"data row8 col0\" >-0.020419</td>\n",
       "                        <td id=\"T_99e1f30e_407d_11eb_9562_acde48001122row8_col1\" class=\"data row8 col1\" >0.132401</td>\n",
       "                        <td id=\"T_99e1f30e_407d_11eb_9562_acde48001122row8_col2\" class=\"data row8 col2\" >-0.274606</td>\n",
       "                        <td id=\"T_99e1f30e_407d_11eb_9562_acde48001122row8_col3\" class=\"data row8 col3\" >0.106479</td>\n",
       "                        <td id=\"T_99e1f30e_407d_11eb_9562_acde48001122row8_col4\" class=\"data row8 col4\" >0.074459</td>\n",
       "                        <td id=\"T_99e1f30e_407d_11eb_9562_acde48001122row8_col5\" class=\"data row8 col5\" >-0.075267</td>\n",
       "                        <td id=\"T_99e1f30e_407d_11eb_9562_acde48001122row8_col6\" class=\"data row8 col6\" >-0.059330</td>\n",
       "                        <td id=\"T_99e1f30e_407d_11eb_9562_acde48001122row8_col7\" class=\"data row8 col7\" >0.275274</td>\n",
       "                        <td id=\"T_99e1f30e_407d_11eb_9562_acde48001122row8_col8\" class=\"data row8 col8\" >1.000000</td>\n",
       "                        <td id=\"T_99e1f30e_407d_11eb_9562_acde48001122row8_col9\" class=\"data row8 col9\" >-0.149336</td>\n",
       "                        <td id=\"T_99e1f30e_407d_11eb_9562_acde48001122row8_col10\" class=\"data row8 col10\" >-0.772960</td>\n",
       "                        <td id=\"T_99e1f30e_407d_11eb_9562_acde48001122row8_col11\" class=\"data row8 col11\" >0.325947</td>\n",
       "                        <td id=\"T_99e1f30e_407d_11eb_9562_acde48001122row8_col12\" class=\"data row8 col12\" >-0.118105</td>\n",
       "                        <td id=\"T_99e1f30e_407d_11eb_9562_acde48001122row8_col13\" class=\"data row8 col13\" >-0.180176</td>\n",
       "            </tr>\n",
       "            <tr>\n",
       "                        <th id=\"T_99e1f30e_407d_11eb_9562_acde48001122level0_row9\" class=\"row_heading level0 row9\" >Q</th>\n",
       "                        <td id=\"T_99e1f30e_407d_11eb_9562_acde48001122row9_col0\" class=\"data row9 col0\" >-0.037355</td>\n",
       "                        <td id=\"T_99e1f30e_407d_11eb_9562_acde48001122row9_col1\" class=\"data row9 col1\" >0.080820</td>\n",
       "                        <td id=\"T_99e1f30e_407d_11eb_9562_acde48001122row9_col2\" class=\"data row9 col2\" >0.205632</td>\n",
       "                        <td id=\"T_99e1f30e_407d_11eb_9562_acde48001122row9_col3\" class=\"data row9 col3\" >0.091916</td>\n",
       "                        <td id=\"T_99e1f30e_407d_11eb_9562_acde48001122row9_col4\" class=\"data row9 col4\" >-0.012463</td>\n",
       "                        <td id=\"T_99e1f30e_407d_11eb_9562_acde48001122row9_col5\" class=\"data row9 col5\" >0.001031</td>\n",
       "                        <td id=\"T_99e1f30e_407d_11eb_9562_acde48001122row9_col6\" class=\"data row9 col6\" >-0.117449</td>\n",
       "                        <td id=\"T_99e1f30e_407d_11eb_9562_acde48001122row9_col7\" class=\"data row9 col7\" >-0.111373</td>\n",
       "                        <td id=\"T_99e1f30e_407d_11eb_9562_acde48001122row9_col8\" class=\"data row9 col8\" >-0.149336</td>\n",
       "                        <td id=\"T_99e1f30e_407d_11eb_9562_acde48001122row9_col9\" class=\"data row9 col9\" >1.000000</td>\n",
       "                        <td id=\"T_99e1f30e_407d_11eb_9562_acde48001122row9_col10\" class=\"data row9 col10\" >-0.511910</td>\n",
       "                        <td id=\"T_99e1f30e_407d_11eb_9562_acde48001122row9_col11\" class=\"data row9 col11\" >-0.139735</td>\n",
       "                        <td id=\"T_99e1f30e_407d_11eb_9562_acde48001122row9_col12\" class=\"data row9 col12\" >-0.127827</td>\n",
       "                        <td id=\"T_99e1f30e_407d_11eb_9562_acde48001122row9_col13\" class=\"data row9 col13\" >0.223606</td>\n",
       "            </tr>\n",
       "            <tr>\n",
       "                        <th id=\"T_99e1f30e_407d_11eb_9562_acde48001122level0_row10\" class=\"row_heading level0 row10\" >S</th>\n",
       "                        <td id=\"T_99e1f30e_407d_11eb_9562_acde48001122row10_col0\" class=\"data row10 col0\" >0.041708</td>\n",
       "                        <td id=\"T_99e1f30e_407d_11eb_9562_acde48001122row10_col1\" class=\"data row10 col1\" >-0.166886</td>\n",
       "                        <td id=\"T_99e1f30e_407d_11eb_9562_acde48001122row10_col2\" class=\"data row10 col2\" >0.106629</td>\n",
       "                        <td id=\"T_99e1f30e_407d_11eb_9562_acde48001122row10_col3\" class=\"data row10 col3\" >-0.151485</td>\n",
       "                        <td id=\"T_99e1f30e_407d_11eb_9562_acde48001122row10_col4\" class=\"data row10 col4\" >-0.056692</td>\n",
       "                        <td id=\"T_99e1f30e_407d_11eb_9562_acde48001122row10_col5\" class=\"data row10 col5\" >0.064730</td>\n",
       "                        <td id=\"T_99e1f30e_407d_11eb_9562_acde48001122row10_col6\" class=\"data row10 col6\" >0.126906</td>\n",
       "                        <td id=\"T_99e1f30e_407d_11eb_9562_acde48001122row10_col7\" class=\"data row10 col7\" >-0.167691</td>\n",
       "                        <td id=\"T_99e1f30e_407d_11eb_9562_acde48001122row10_col8\" class=\"data row10 col8\" >-0.772960</td>\n",
       "                        <td id=\"T_99e1f30e_407d_11eb_9562_acde48001122row10_col9\" class=\"data row10 col9\" >-0.511910</td>\n",
       "                        <td id=\"T_99e1f30e_407d_11eb_9562_acde48001122row10_col10\" class=\"data row10 col10\" >1.000000</td>\n",
       "                        <td id=\"T_99e1f30e_407d_11eb_9562_acde48001122row10_col11\" class=\"data row10 col11\" >-0.193515</td>\n",
       "                        <td id=\"T_99e1f30e_407d_11eb_9562_acde48001122row10_col12\" class=\"data row10 col12\" >0.184627</td>\n",
       "                        <td id=\"T_99e1f30e_407d_11eb_9562_acde48001122row10_col13\" class=\"data row10 col13\" >0.013056</td>\n",
       "            </tr>\n",
       "            <tr>\n",
       "                        <th id=\"T_99e1f30e_407d_11eb_9562_acde48001122level0_row11\" class=\"row_heading level0 row11\" >1</th>\n",
       "                        <td id=\"T_99e1f30e_407d_11eb_9562_acde48001122row11_col0\" class=\"data row11 col0\" >0.064898</td>\n",
       "                        <td id=\"T_99e1f30e_407d_11eb_9562_acde48001122row11_col1\" class=\"data row11 col1\" >0.206564</td>\n",
       "                        <td id=\"T_99e1f30e_407d_11eb_9562_acde48001122row11_col2\" class=\"data row11 col2\" >-0.881387</td>\n",
       "                        <td id=\"T_99e1f30e_407d_11eb_9562_acde48001122row11_col3\" class=\"data row11 col3\" >0.079295</td>\n",
       "                        <td id=\"T_99e1f30e_407d_11eb_9562_acde48001122row11_col4\" class=\"data row11 col4\" >0.311987</td>\n",
       "                        <td id=\"T_99e1f30e_407d_11eb_9562_acde48001122row11_col5\" class=\"data row11 col5\" >-0.059951</td>\n",
       "                        <td id=\"T_99e1f30e_407d_11eb_9562_acde48001122row11_col6\" class=\"data row11 col6\" >0.011671</td>\n",
       "                        <td id=\"T_99e1f30e_407d_11eb_9562_acde48001122row11_col7\" class=\"data row11 col7\" >0.636882</td>\n",
       "                        <td id=\"T_99e1f30e_407d_11eb_9562_acde48001122row11_col8\" class=\"data row11 col8\" >0.325947</td>\n",
       "                        <td id=\"T_99e1f30e_407d_11eb_9562_acde48001122row11_col9\" class=\"data row11 col9\" >-0.139735</td>\n",
       "                        <td id=\"T_99e1f30e_407d_11eb_9562_acde48001122row11_col10\" class=\"data row11 col10\" >-0.193515</td>\n",
       "                        <td id=\"T_99e1f30e_407d_11eb_9562_acde48001122row11_col11\" class=\"data row11 col11\" >1.000000</td>\n",
       "                        <td id=\"T_99e1f30e_407d_11eb_9562_acde48001122row11_col12\" class=\"data row11 col12\" >-0.283374</td>\n",
       "                        <td id=\"T_99e1f30e_407d_11eb_9562_acde48001122row11_col13\" class=\"data row11 col13\" >-0.617546</td>\n",
       "            </tr>\n",
       "            <tr>\n",
       "                        <th id=\"T_99e1f30e_407d_11eb_9562_acde48001122level0_row12\" class=\"row_heading level0 row12\" >2</th>\n",
       "                        <td id=\"T_99e1f30e_407d_11eb_9562_acde48001122row12_col0\" class=\"data row12 col0\" >0.029036</td>\n",
       "                        <td id=\"T_99e1f30e_407d_11eb_9562_acde48001122row12_col1\" class=\"data row12 col1\" >0.085430</td>\n",
       "                        <td id=\"T_99e1f30e_407d_11eb_9562_acde48001122row12_col2\" class=\"data row12 col2\" >-0.203270</td>\n",
       "                        <td id=\"T_99e1f30e_407d_11eb_9562_acde48001122row12_col3\" class=\"data row12 col3\" >0.052377</td>\n",
       "                        <td id=\"T_99e1f30e_407d_11eb_9562_acde48001122row12_col4\" class=\"data row12 col4\" >0.022199</td>\n",
       "                        <td id=\"T_99e1f30e_407d_11eb_9562_acde48001122row12_col5\" class=\"data row12 col5\" >-0.103393</td>\n",
       "                        <td id=\"T_99e1f30e_407d_11eb_9562_acde48001122row12_col6\" class=\"data row12 col6\" >-0.030867</td>\n",
       "                        <td id=\"T_99e1f30e_407d_11eb_9562_acde48001122row12_col7\" class=\"data row12 col7\" >-0.134149</td>\n",
       "                        <td id=\"T_99e1f30e_407d_11eb_9562_acde48001122row12_col8\" class=\"data row12 col8\" >-0.118105</td>\n",
       "                        <td id=\"T_99e1f30e_407d_11eb_9562_acde48001122row12_col9\" class=\"data row12 col9\" >-0.127827</td>\n",
       "                        <td id=\"T_99e1f30e_407d_11eb_9562_acde48001122row12_col10\" class=\"data row12 col10\" >0.184627</td>\n",
       "                        <td id=\"T_99e1f30e_407d_11eb_9562_acde48001122row12_col11\" class=\"data row12 col11\" >-0.283374</td>\n",
       "                        <td id=\"T_99e1f30e_407d_11eb_9562_acde48001122row12_col12\" class=\"data row12 col12\" >1.000000</td>\n",
       "                        <td id=\"T_99e1f30e_407d_11eb_9562_acde48001122row12_col13\" class=\"data row12 col13\" >-0.579298</td>\n",
       "            </tr>\n",
       "            <tr>\n",
       "                        <th id=\"T_99e1f30e_407d_11eb_9562_acde48001122level0_row13\" class=\"row_heading level0 row13\" >3</th>\n",
       "                        <td id=\"T_99e1f30e_407d_11eb_9562_acde48001122row13_col0\" class=\"data row13 col0\" >-0.078974</td>\n",
       "                        <td id=\"T_99e1f30e_407d_11eb_9562_acde48001122row13_col1\" class=\"data row13 col1\" >-0.245636</td>\n",
       "                        <td id=\"T_99e1f30e_407d_11eb_9562_acde48001122row13_col2\" class=\"data row13 col2\" >0.915852</td>\n",
       "                        <td id=\"T_99e1f30e_407d_11eb_9562_acde48001122row13_col3\" class=\"data row13 col3\" >-0.110355</td>\n",
       "                        <td id=\"T_99e1f30e_407d_11eb_9562_acde48001122row13_col4\" class=\"data row13 col4\" >-0.283382</td>\n",
       "                        <td id=\"T_99e1f30e_407d_11eb_9562_acde48001122row13_col5\" class=\"data row13 col5\" >0.135754</td>\n",
       "                        <td id=\"T_99e1f30e_407d_11eb_9562_acde48001122row13_col6\" class=\"data row13 col6\" >0.015396</td>\n",
       "                        <td id=\"T_99e1f30e_407d_11eb_9562_acde48001122row13_col7\" class=\"data row13 col7\" >-0.431299</td>\n",
       "                        <td id=\"T_99e1f30e_407d_11eb_9562_acde48001122row13_col8\" class=\"data row13 col8\" >-0.180176</td>\n",
       "                        <td id=\"T_99e1f30e_407d_11eb_9562_acde48001122row13_col9\" class=\"data row13 col9\" >0.223606</td>\n",
       "                        <td id=\"T_99e1f30e_407d_11eb_9562_acde48001122row13_col10\" class=\"data row13 col10\" >0.013056</td>\n",
       "                        <td id=\"T_99e1f30e_407d_11eb_9562_acde48001122row13_col11\" class=\"data row13 col11\" >-0.617546</td>\n",
       "                        <td id=\"T_99e1f30e_407d_11eb_9562_acde48001122row13_col12\" class=\"data row13 col12\" >-0.579298</td>\n",
       "                        <td id=\"T_99e1f30e_407d_11eb_9562_acde48001122row13_col13\" class=\"data row13 col13\" >1.000000</td>\n",
       "            </tr>\n",
       "    </tbody></table>"
      ],
      "text/plain": [
       "<pandas.io.formats.style.Styler at 0x1a286792b0>"
      ]
     },
     "execution_count": 118,
     "metadata": {},
     "output_type": "execute_result"
    }
   ],
   "source": [
    "#Plotting a correlation plot to show the variable relationship\n",
    "corr = titanic.corr()\n",
    "corr.style.background_gradient(cmap='coolwarm')"
   ]
  },
  {
   "cell_type": "markdown",
   "metadata": {},
   "source": [
    "<p>From the above correlation plot we can observe that strong correlation exists between <b>Sex</b> and <b>Survived</b> it may because the idea of \"Lady First\""
   ]
  },
  {
   "cell_type": "markdown",
   "metadata": {},
   "source": [
    "<h3>Data Visualization"
   ]
  },
  {
   "cell_type": "code",
   "execution_count": 119,
   "metadata": {},
   "outputs": [],
   "source": [
    "#Survived Group\n",
    "survive_titanic=titanic[titanic['Survived']==1]"
   ]
  },
  {
   "cell_type": "code",
   "execution_count": 120,
   "metadata": {},
   "outputs": [
    {
     "data": {
      "text/plain": [
       "<AxesSubplot:ylabel='Sex'>"
      ]
     },
     "execution_count": 120,
     "metadata": {},
     "output_type": "execute_result"
    },
    {
     "data": {
      "image/png": "[encoded data removed]",
      "text/plain": [
       "<Figure size 1440x216 with 2 Axes>"
      ]
     },
     "metadata": {},
     "output_type": "display_data"
    }
   ],
   "source": [
    "#Sex and Survived\n",
    "fig, ax = plt.subplots(1,2, figsize=(20,3))\n",
    "titanic['Sex'].value_counts().plot.pie(autopct = '%1.2f%%',ax=ax[0] )\n",
    "survive_titanic['Sex'].value_counts().plot.pie(autopct = '%1.2f%%',ax=ax[1])\n"
   ]
  },
  {
   "cell_type": "markdown",
   "metadata": {},
   "source": [
    "<p>From the above pie chart it is noticable that Female has a survival rate which proved our assumption in the above"
   ]
  },
  {
   "cell_type": "code",
   "execution_count": 121,
   "metadata": {},
   "outputs": [
    {
     "data": {
      "text/plain": [
       "<AxesSubplot:ylabel='Pclass'>"
      ]
     },
     "execution_count": 121,
     "metadata": {},
     "output_type": "execute_result"
    },
    {
     "data": {
      "image/png": "[encoded data removed]",
      "text/plain": [
       "<Figure size 1440x216 with 2 Axes>"
      ]
     },
     "metadata": {},
     "output_type": "display_data"
    }
   ],
   "source": [
    "#P Class and Survived\n",
    "fig, ax = plt.subplots(1,2, figsize=(20,3))\n",
    "titanic['Pclass'].value_counts().plot.pie(autopct = '%1.2f%%',ax=ax[0])\n",
    "survive_titanic['Pclass'].value_counts().plot.pie(autopct = '%1.2f%%',ax=ax[1])"
   ]
  },
  {
   "cell_type": "markdown",
   "metadata": {},
   "source": [
    "<p>From the Figure, it is observable that 1st class passengers has a higher survival rate"
   ]
  },
  {
   "cell_type": "code",
   "execution_count": 122,
   "metadata": {},
   "outputs": [
    {
     "name": "stderr",
     "output_type": "stream",
     "text": [
      "/anaconda3/lib/python3.7/site-packages/seaborn/distributions.py:2551: FutureWarning: `distplot` is a deprecated function and will be removed in a future version. Please adapt your code to use either `displot` (a figure-level function with similar flexibility) or `histplot` (an axes-level function for histograms).\n",
      "  warnings.warn(msg, FutureWarning)\n",
      "/anaconda3/lib/python3.7/site-packages/seaborn/distributions.py:2551: FutureWarning: `distplot` is a deprecated function and will be removed in a future version. Please adapt your code to use either `displot` (a figure-level function with similar flexibility) or `histplot` (an axes-level function for histograms).\n",
      "  warnings.warn(msg, FutureWarning)\n"
     ]
    },
    {
     "data": {
      "text/plain": [
       "<AxesSubplot:xlabel='Age', ylabel='Density'>"
      ]
     },
     "execution_count": 122,
     "metadata": {},
     "output_type": "execute_result"
    },
    {
     "data": {
      "image/png": "[encoded data removed]",
      "text/plain": [
       "<Figure size 1440x216 with 2 Axes>"
      ]
     },
     "metadata": {
      "needs_background": "light"
     },
     "output_type": "display_data"
    }
   ],
   "source": [
    "#Survival Age Distribution\n",
    "fig, ax = plt.subplots(1,2, figsize=(20,3))\n",
    "sns.distplot(titanic['Age'],ax=ax[0])\n",
    "sns.distplot(survive_titanic['Age'],ax=ax[1])\n"
   ]
  },
  {
   "cell_type": "markdown",
   "metadata": {},
   "source": [
    "<p>From the above plot we can see that people with middle age has a survival rate, also kid has a higher survival rate comparatively"
   ]
  },
  {
   "cell_type": "code",
   "execution_count": 123,
   "metadata": {},
   "outputs": [
    {
     "data": {
      "text/plain": [
       "<AxesSubplot:>"
      ]
     },
     "execution_count": 123,
     "metadata": {},
     "output_type": "execute_result"
    },
    {
     "data": {
      "image/png": "[encoded data removed]",
      "text/plain": [
       "<Figure size 1440x216 with 2 Axes>"
      ]
     },
     "metadata": {
      "needs_background": "light"
     },
     "output_type": "display_data"
    }
   ],
   "source": [
    "fig, ax = plt.subplots(1,2, figsize=(20,3))\n",
    "titanic['SibSp'].value_counts().plot.bar(ax=ax[0])\n",
    "survive_titanic['SibSp'].value_counts().plot.bar(ax=ax[1])"
   ]
  },
  {
   "cell_type": "markdown",
   "metadata": {},
   "source": [
    "<p>We may conclude that that people have less sibling / spouse have higher possibility to survive"
   ]
  },
  {
   "cell_type": "code",
   "execution_count": 124,
   "metadata": {},
   "outputs": [
    {
     "data": {
      "text/plain": [
       "<AxesSubplot:>"
      ]
     },
     "execution_count": 124,
     "metadata": {},
     "output_type": "execute_result"
    },
    {
     "data": {
      "image/png": "[encoded data removed]",
      "text/plain": [
       "<Figure size 1440x216 with 2 Axes>"
      ]
     },
     "metadata": {
      "needs_background": "light"
     },
     "output_type": "display_data"
    }
   ],
   "source": [
    "fig, ax = plt.subplots(1,2, figsize=(20,3))\n",
    "titanic['Parch'].value_counts().plot.bar(ax=ax[0])\n",
    "survive_titanic['Parch'].value_counts().plot.bar(ax=ax[1])"
   ]
  },
  {
   "cell_type": "markdown",
   "metadata": {},
   "source": [
    "<p>Also people have no relatives have higher possibility to survive"
   ]
  },
  {
   "cell_type": "code",
   "execution_count": 125,
   "metadata": {},
   "outputs": [
    {
     "name": "stderr",
     "output_type": "stream",
     "text": [
      "/anaconda3/lib/python3.7/site-packages/seaborn/distributions.py:2551: FutureWarning: `distplot` is a deprecated function and will be removed in a future version. Please adapt your code to use either `displot` (a figure-level function with similar flexibility) or `histplot` (an axes-level function for histograms).\n",
      "  warnings.warn(msg, FutureWarning)\n",
      "/anaconda3/lib/python3.7/site-packages/seaborn/distributions.py:2551: FutureWarning: `distplot` is a deprecated function and will be removed in a future version. Please adapt your code to use either `displot` (a figure-level function with similar flexibility) or `histplot` (an axes-level function for histograms).\n",
      "  warnings.warn(msg, FutureWarning)\n"
     ]
    },
    {
     "data": {
      "text/plain": [
       "<AxesSubplot:xlabel='Fare', ylabel='Density'>"
      ]
     },
     "execution_count": 125,
     "metadata": {},
     "output_type": "execute_result"
    },
    {
     "data": {
      "image/png": "[encoded data removed]",
      "text/plain": [
       "<Figure size 1440x216 with 2 Axes>"
      ]
     },
     "metadata": {
      "needs_background": "light"
     },
     "output_type": "display_data"
    }
   ],
   "source": [
    "#Survival Fare Distribution\n",
    "fig, ax = plt.subplots(1,2, figsize=(20,3))\n",
    "sns.distplot(survive_titanic['Fare'],ax=ax[0])\n",
    "sns.distplot(titanic['Fare'],ax=ax[1])"
   ]
  },
  {
   "cell_type": "markdown",
   "metadata": {},
   "source": [
    "<p>We found that the survival rate for the highest fare may not be highest lets go throught"
   ]
  },
  {
   "cell_type": "markdown",
   "metadata": {},
   "source": [
    "<h3>Feature Enginnering"
   ]
  },
  {
   "cell_type": "code",
   "execution_count": 126,
   "metadata": {},
   "outputs": [],
   "source": [
    "#Adding Kid features since kids are more likely survive\n",
    "titanic['kid']=0\n",
    "titanic.loc[(titanic.Age < 5),  'kid'] = 1"
   ]
  },
  {
   "cell_type": "code",
   "execution_count": 127,
   "metadata": {},
   "outputs": [],
   "source": [
    "#Since if an adult with 1 kid they are more easily getting survive\n",
    "titanic['adultwithkid']=0\n",
    "titanic.loc[(titanic.SibSp == 1),  'adultwithkid'] = 1"
   ]
  },
  {
   "cell_type": "code",
   "execution_count": 128,
   "metadata": {},
   "outputs": [],
   "source": [
    "#Since if passengers without any relatives, they are more likely to survive\n",
    "titanic['relatives']=0\n",
    "titanic.loc[((titanic.SibSp == 0) & (titanic.Parch == 0) ),  'adultwithkid'] = 1"
   ]
  },
  {
   "cell_type": "code",
   "execution_count": 129,
   "metadata": {},
   "outputs": [],
   "source": [
    "#Since passenger with middle(25-35) age are more likely survive\n",
    "titanic['young']=0\n",
    "titanic.loc[(titanic.Age>=25) & (titanic.Age<=35),['young']]=1"
   ]
  },
  {
   "cell_type": "code",
   "execution_count": 130,
   "metadata": {},
   "outputs": [],
   "source": [
    "#Also Class 1 or 2 citizens are more likely to survive\n",
    "titanic['wealthy']=0\n",
    "titanic.loc[(titanic.Pclass==1) | (titanic.Pclass==2),['wealthy']]=1"
   ]
  },
  {
   "cell_type": "code",
   "execution_count": 131,
   "metadata": {},
   "outputs": [
    {
     "data": {
      "text/html": [
       "<div>\n",
       "<style scoped>\n",
       "    .dataframe tbody tr th:only-of-type {\n",
       "        vertical-align: middle;\n",
       "    }\n",
       "\n",
       "    .dataframe tbody tr th {\n",
       "        vertical-align: top;\n",
       "    }\n",
       "\n",
       "    .dataframe thead th {\n",
       "        text-align: right;\n",
       "    }\n",
       "</style>\n",
       "<table border=\"1\" class=\"dataframe\">\n",
       "  <thead>\n",
       "    <tr style=\"text-align: right;\">\n",
       "      <th></th>\n",
       "      <th>PassengerId</th>\n",
       "      <th>Survived</th>\n",
       "      <th>Pclass</th>\n",
       "      <th>Sex</th>\n",
       "      <th>Age</th>\n",
       "      <th>SibSp</th>\n",
       "      <th>Parch</th>\n",
       "      <th>Fare</th>\n",
       "      <th>Embarked</th>\n",
       "      <th>C</th>\n",
       "      <th>Q</th>\n",
       "      <th>S</th>\n",
       "      <th>1</th>\n",
       "      <th>2</th>\n",
       "      <th>3</th>\n",
       "      <th>kid</th>\n",
       "      <th>adultwithkid</th>\n",
       "      <th>relatives</th>\n",
       "      <th>young</th>\n",
       "      <th>wealthy</th>\n",
       "    </tr>\n",
       "  </thead>\n",
       "  <tbody>\n",
       "    <tr>\n",
       "      <th>0</th>\n",
       "      <td>1</td>\n",
       "      <td>0</td>\n",
       "      <td>3</td>\n",
       "      <td>0</td>\n",
       "      <td>22.0</td>\n",
       "      <td>1</td>\n",
       "      <td>0</td>\n",
       "      <td>7.2500</td>\n",
       "      <td>S</td>\n",
       "      <td>0</td>\n",
       "      <td>0</td>\n",
       "      <td>1</td>\n",
       "      <td>0</td>\n",
       "      <td>0</td>\n",
       "      <td>1</td>\n",
       "      <td>0</td>\n",
       "      <td>1</td>\n",
       "      <td>0</td>\n",
       "      <td>0</td>\n",
       "      <td>0</td>\n",
       "    </tr>\n",
       "    <tr>\n",
       "      <th>1</th>\n",
       "      <td>2</td>\n",
       "      <td>1</td>\n",
       "      <td>1</td>\n",
       "      <td>1</td>\n",
       "      <td>38.0</td>\n",
       "      <td>1</td>\n",
       "      <td>0</td>\n",
       "      <td>71.2833</td>\n",
       "      <td>C</td>\n",
       "      <td>1</td>\n",
       "      <td>0</td>\n",
       "      <td>0</td>\n",
       "      <td>1</td>\n",
       "      <td>0</td>\n",
       "      <td>0</td>\n",
       "      <td>0</td>\n",
       "      <td>1</td>\n",
       "      <td>0</td>\n",
       "      <td>0</td>\n",
       "      <td>1</td>\n",
       "    </tr>\n",
       "    <tr>\n",
       "      <th>2</th>\n",
       "      <td>3</td>\n",
       "      <td>1</td>\n",
       "      <td>3</td>\n",
       "      <td>1</td>\n",
       "      <td>26.0</td>\n",
       "      <td>0</td>\n",
       "      <td>0</td>\n",
       "      <td>7.9250</td>\n",
       "      <td>S</td>\n",
       "      <td>0</td>\n",
       "      <td>0</td>\n",
       "      <td>1</td>\n",
       "      <td>0</td>\n",
       "      <td>0</td>\n",
       "      <td>1</td>\n",
       "      <td>0</td>\n",
       "      <td>1</td>\n",
       "      <td>0</td>\n",
       "      <td>1</td>\n",
       "      <td>0</td>\n",
       "    </tr>\n",
       "    <tr>\n",
       "      <th>3</th>\n",
       "      <td>4</td>\n",
       "      <td>1</td>\n",
       "      <td>1</td>\n",
       "      <td>1</td>\n",
       "      <td>35.0</td>\n",
       "      <td>1</td>\n",
       "      <td>0</td>\n",
       "      <td>53.1000</td>\n",
       "      <td>S</td>\n",
       "      <td>0</td>\n",
       "      <td>0</td>\n",
       "      <td>1</td>\n",
       "      <td>1</td>\n",
       "      <td>0</td>\n",
       "      <td>0</td>\n",
       "      <td>0</td>\n",
       "      <td>1</td>\n",
       "      <td>0</td>\n",
       "      <td>1</td>\n",
       "      <td>1</td>\n",
       "    </tr>\n",
       "    <tr>\n",
       "      <th>4</th>\n",
       "      <td>5</td>\n",
       "      <td>0</td>\n",
       "      <td>3</td>\n",
       "      <td>0</td>\n",
       "      <td>35.0</td>\n",
       "      <td>0</td>\n",
       "      <td>0</td>\n",
       "      <td>8.0500</td>\n",
       "      <td>S</td>\n",
       "      <td>0</td>\n",
       "      <td>0</td>\n",
       "      <td>1</td>\n",
       "      <td>0</td>\n",
       "      <td>0</td>\n",
       "      <td>1</td>\n",
       "      <td>0</td>\n",
       "      <td>1</td>\n",
       "      <td>0</td>\n",
       "      <td>1</td>\n",
       "      <td>0</td>\n",
       "    </tr>\n",
       "  </tbody>\n",
       "</table>\n",
       "</div>"
      ],
      "text/plain": [
       "   PassengerId  Survived  Pclass  Sex   Age  SibSp  Parch     Fare Embarked  \\\n",
       "0            1         0       3    0  22.0      1      0   7.2500        S   \n",
       "1            2         1       1    1  38.0      1      0  71.2833        C   \n",
       "2            3         1       3    1  26.0      0      0   7.9250        S   \n",
       "3            4         1       1    1  35.0      1      0  53.1000        S   \n",
       "4            5         0       3    0  35.0      0      0   8.0500        S   \n",
       "\n",
       "   C  Q  S  1  2  3  kid  adultwithkid  relatives  young  wealthy  \n",
       "0  0  0  1  0  0  1    0             1          0      0        0  \n",
       "1  1  0  0  1  0  0    0             1          0      0        1  \n",
       "2  0  0  1  0  0  1    0             1          0      1        0  \n",
       "3  0  0  1  1  0  0    0             1          0      1        1  \n",
       "4  0  0  1  0  0  1    0             1          0      1        0  "
      ]
     },
     "execution_count": 131,
     "metadata": {},
     "output_type": "execute_result"
    }
   ],
   "source": [
    "titanic.head()"
   ]
  },
  {
   "cell_type": "markdown",
   "metadata": {},
   "source": [
    "<h3>Feature Selection"
   ]
  },
  {
   "cell_type": "code",
   "execution_count": 132,
   "metadata": {},
   "outputs": [
    {
     "data": {
      "image/png": "[encoded data removed]",
      "text/plain": [
       "<Figure size 1152x288 with 1 Axes>"
      ]
     },
     "metadata": {
      "needs_background": "light"
     },
     "output_type": "display_data"
    }
   ],
   "source": [
    "lasso_model=Lasso(alpha=0.001)\n",
    "X=titanic.drop([\"Survived\",\"Embarked\"], axis=1)\n",
    "y=titanic['Survived']\n",
    "lasso_model.fit(X,y)\n",
    "import_lasso = pd.DataFrame({\"Feature Importance\":lasso_model.coef_}, index=titanic.drop([\"Survived\",\"Embarked\"],axis=1).columns) \n",
    "import_lasso.sort_values(\"Feature Importance\",ascending=False)\n",
    "import_lasso[import_lasso[\"Feature Importance\"] !=0 ].sort_values(\"Feature Importance\").plot(kind=\"barh\",figsize=(16,4), color='b')\n",
    "plt.xticks(rotation=90)\n",
    "plt.show()  "
   ]
  },
  {
   "cell_type": "markdown",
   "metadata": {},
   "source": [
    "<p>The feature selection result quite a good fit with our expectations that Gender is a key factor for the survival rate"
   ]
  },
  {
   "cell_type": "markdown",
   "metadata": {},
   "source": [
    "<h3>Modelling and Evaluation"
   ]
  },
  {
   "cell_type": "markdown",
   "metadata": {},
   "source": [
    "<p>Again we apply <b>MSE</b> for the modelling criteria"
   ]
  },
  {
   "cell_type": "markdown",
   "metadata": {},
   "source": [
    "<p>We would apply models:<br>\n",
    "1.k-nearest neighbors<br>\n",
    "2.logistics regression<br>\n",
    "3.linear discriminant analysis<br> \n",
    "4.classification tree<br>\n",
    "5.random forests<br>\n",
    "6.boosting<br>\n",
    "7.Support Vector Machine"
   ]
  },
  {
   "cell_type": "code",
   "execution_count": 133,
   "metadata": {},
   "outputs": [],
   "source": [
    "#Define a function for writing MSE\n",
    "def MSE(Model,house):\n",
    "    MSE_k=np.zeros(shape=(5,1))\n",
    "    all_n_k=np.zeros(shape=(5,1))\n",
    "\n",
    "    for k in range(1,6):\n",
    "        train_data = house[house['kFold']==k]\n",
    "        test_data = house[house['kFold']!=k]\n",
    "        test_data=test_data.drop([\"kFold\"], axis=1)\n",
    "        train_data=train_data.drop([\"kFold\"], axis=1)\n",
    "\n",
    "        #Find x/y train test data\n",
    "        X_train=train_data.drop('Survived', axis=1)\n",
    "        X_test=test_data.drop(\"Survived\", axis=1)\n",
    "\n",
    "        y_train=train_data['Survived']\n",
    "        y_test=test_data['Survived']\n",
    "\n",
    "        linear = Model.fit(X_train, y_train)\n",
    "        predict_y=linear.predict(X_test)\n",
    "        \n",
    "        if len(predict_y.shape) == 2: predict_y=predict_y.flatten()\n",
    "\n",
    "        MSE_k[k-1]= stat.mean((y_test -  predict_y)**2)\n",
    "        all_n_k[k-1] = len(y_test)\n",
    "    \n",
    "    return(sum(MSE_k*all_n_k/(len(house))))"
   ]
  },
  {
   "cell_type": "code",
   "execution_count": 134,
   "metadata": {},
   "outputs": [],
   "source": [
    "from sklearn.neighbors import KNeighborsClassifier\n",
    "from sklearn.linear_model import LogisticRegression\n",
    "from sklearn.discriminant_analysis import LinearDiscriminantAnalysis\n",
    "from sklearn import tree\n",
    "from sklearn.ensemble import RandomForestClassifier\n",
    "from sklearn import svm\n",
    "from sklearn.ensemble import GradientBoostingClassifier"
   ]
  },
  {
   "cell_type": "code",
   "execution_count": 135,
   "metadata": {},
   "outputs": [],
   "source": [
    "#Add Fold Lable in the X_train\n",
    "titanic['kFold'] = np.random.randint(1, 6, house.shape[0])\n",
    "titanic=titanic.drop([\"Embarked\"], axis=1)\n",
    "rng = np.random.RandomState(0)"
   ]
  },
  {
   "cell_type": "code",
   "execution_count": 136,
   "metadata": {},
   "outputs": [
    {
     "name": "stdout",
     "output_type": "stream",
     "text": [
      "k-nearest neighbors:  [1.634]\n",
      "logistics regression:  [0.83]\n",
      "linear discriminant analysis:  [0.87]\n"
     ]
    },
    {
     "name": "stderr",
     "output_type": "stream",
     "text": [
      "/anaconda3/lib/python3.7/site-packages/sklearn/linear_model/_logistic.py:764: ConvergenceWarning: lbfgs failed to converge (status=1):\n",
      "STOP: TOTAL NO. of ITERATIONS REACHED LIMIT.\n",
      "\n",
      "Increase the number of iterations (max_iter) or scale the data as shown in:\n",
      "    https://scikit-learn.org/stable/modules/preprocessing.html\n",
      "Please also refer to the documentation for alternative solver options:\n",
      "    https://scikit-learn.org/stable/modules/linear_model.html#logistic-regression\n",
      "  extra_warning_msg=_LOGISTIC_SOLVER_CONVERGENCE_MSG)\n",
      "/anaconda3/lib/python3.7/site-packages/sklearn/linear_model/_logistic.py:764: ConvergenceWarning: lbfgs failed to converge (status=1):\n",
      "STOP: TOTAL NO. of ITERATIONS REACHED LIMIT.\n",
      "\n",
      "Increase the number of iterations (max_iter) or scale the data as shown in:\n",
      "    https://scikit-learn.org/stable/modules/preprocessing.html\n",
      "Please also refer to the documentation for alternative solver options:\n",
      "    https://scikit-learn.org/stable/modules/linear_model.html#logistic-regression\n",
      "  extra_warning_msg=_LOGISTIC_SOLVER_CONVERGENCE_MSG)\n",
      "/anaconda3/lib/python3.7/site-packages/sklearn/linear_model/_logistic.py:764: ConvergenceWarning: lbfgs failed to converge (status=1):\n",
      "STOP: TOTAL NO. of ITERATIONS REACHED LIMIT.\n",
      "\n",
      "Increase the number of iterations (max_iter) or scale the data as shown in:\n",
      "    https://scikit-learn.org/stable/modules/preprocessing.html\n",
      "Please also refer to the documentation for alternative solver options:\n",
      "    https://scikit-learn.org/stable/modules/linear_model.html#logistic-regression\n",
      "  extra_warning_msg=_LOGISTIC_SOLVER_CONVERGENCE_MSG)\n",
      "/anaconda3/lib/python3.7/site-packages/sklearn/linear_model/_logistic.py:764: ConvergenceWarning: lbfgs failed to converge (status=1):\n",
      "STOP: TOTAL NO. of ITERATIONS REACHED LIMIT.\n",
      "\n",
      "Increase the number of iterations (max_iter) or scale the data as shown in:\n",
      "    https://scikit-learn.org/stable/modules/preprocessing.html\n",
      "Please also refer to the documentation for alternative solver options:\n",
      "    https://scikit-learn.org/stable/modules/linear_model.html#logistic-regression\n",
      "  extra_warning_msg=_LOGISTIC_SOLVER_CONVERGENCE_MSG)\n",
      "/anaconda3/lib/python3.7/site-packages/sklearn/linear_model/_logistic.py:764: ConvergenceWarning: lbfgs failed to converge (status=1):\n",
      "STOP: TOTAL NO. of ITERATIONS REACHED LIMIT.\n",
      "\n",
      "Increase the number of iterations (max_iter) or scale the data as shown in:\n",
      "    https://scikit-learn.org/stable/modules/preprocessing.html\n",
      "Please also refer to the documentation for alternative solver options:\n",
      "    https://scikit-learn.org/stable/modules/linear_model.html#logistic-regression\n",
      "  extra_warning_msg=_LOGISTIC_SOLVER_CONVERGENCE_MSG)\n"
     ]
    },
    {
     "name": "stdout",
     "output_type": "stream",
     "text": [
      "classification tree:  [1.242]\n",
      "random forests:  [0.942]\n",
      "Boosting:  [1.056]\n",
      "SVM:  [1.496]\n"
     ]
    }
   ],
   "source": [
    "#Apply model to perform regression\n",
    "print(\"k-nearest neighbors: \",MSE(KNeighborsClassifier(),titanic))\n",
    "print(\"logistics regression: \",MSE(LogisticRegression(),titanic))\n",
    "print(\"linear discriminant analysis: \",MSE(LinearDiscriminantAnalysis(),titanic))\n",
    "print(\"classification tree: \",MSE(tree.DecisionTreeClassifier(),titanic))\n",
    "print(\"random forests: \",MSE(RandomForestClassifier(),titanic))\n",
    "print(\"Boosting: \",MSE(GradientBoostingClassifier(),titanic))\n",
    "print(\"SVM: \",MSE(svm.SVC(),titanic))"
   ]
  },
  {
   "cell_type": "markdown",
   "metadata": {},
   "source": [
    "<h3>Hyparameters tuning"
   ]
  },
  {
   "cell_type": "markdown",
   "metadata": {},
   "source": [
    "<p>Perform Hyparameters tuning to further enhance model performance"
   ]
  },
  {
   "cell_type": "code",
   "execution_count": 137,
   "metadata": {},
   "outputs": [],
   "source": [
    "from sklearn.metrics import accuracy_score"
   ]
  },
  {
   "cell_type": "code",
   "execution_count": 138,
   "metadata": {},
   "outputs": [],
   "source": [
    "def accuracy(Model,house):\n",
    "    \n",
    "    accuracy_k=np.zeros(shape=(5,1))\n",
    "    all_n_k=np.zeros(shape=(5,1))   \n",
    "\n",
    "    for k in range(1,6):\n",
    "        train_data = house[house['kFold']==k]\n",
    "        test_data = house[house['kFold']!=k]\n",
    "        test_data=test_data.drop([\"kFold\"], axis=1)\n",
    "        train_data=train_data.drop([\"kFold\"], axis=1)\n",
    "\n",
    "        #Find x/y train test data\n",
    "        X_train=train_data.drop('Survived', axis=1)\n",
    "        X_test=test_data.drop(\"Survived\", axis=1)\n",
    "\n",
    "        y_train=train_data['Survived']\n",
    "        y_test=test_data['Survived']\n",
    "        \n",
    "        linear = Model.fit(X_train, y_train)\n",
    "        predict_y=linear.predict(X_test)\n",
    "        \n",
    "        accuracy_k[k-1]=accuracy_score(y_test, predict_y, normalize=False)\n",
    "        all_n_k[k-1]=len(y_test)\n",
    "        \n",
    "    return(sum(accuracy_k*all_n_k/(len(house))))\n",
    "        "
   ]
  },
  {
   "cell_type": "code",
   "execution_count": 139,
   "metadata": {},
   "outputs": [
    {
     "data": {
      "text/html": [
       "<div>\n",
       "<style scoped>\n",
       "    .dataframe tbody tr th:only-of-type {\n",
       "        vertical-align: middle;\n",
       "    }\n",
       "\n",
       "    .dataframe tbody tr th {\n",
       "        vertical-align: top;\n",
       "    }\n",
       "\n",
       "    .dataframe thead th {\n",
       "        text-align: right;\n",
       "    }\n",
       "</style>\n",
       "<table border=\"1\" class=\"dataframe\">\n",
       "  <thead>\n",
       "    <tr style=\"text-align: right;\">\n",
       "      <th></th>\n",
       "      <th>k</th>\n",
       "      <th>MSE</th>\n",
       "    </tr>\n",
       "  </thead>\n",
       "  <tbody>\n",
       "    <tr>\n",
       "      <th>15</th>\n",
       "      <td>16.0</td>\n",
       "      <td>1.48</td>\n",
       "    </tr>\n",
       "  </tbody>\n",
       "</table>\n",
       "</div>"
      ],
      "text/plain": [
       "       k   MSE\n",
       "15  16.0  1.48"
      ]
     },
     "execution_count": 139,
     "metadata": {},
     "output_type": "execute_result"
    }
   ],
   "source": [
    "knear_score=pd.DataFrame(columns=['k','MSE'])\n",
    "\n",
    "for j in range(1,20):\n",
    "    model=KNeighborsClassifier(n_neighbors=j)\n",
    "    score = float(MSE(model,titanic))\n",
    "    #print(\"{}: {:.6f}, {:.4f}\".format(i,score.mean(),score.std()))\n",
    "    knear_score=knear_score.append({'k': j, 'MSE': score}, ignore_index=True)\n",
    "    \n",
    "\n",
    "#Find the best alpha\n",
    "knear_score[knear_score['MSE']==knear_score['MSE'].min()]"
   ]
  },
  {
   "cell_type": "code",
   "execution_count": 140,
   "metadata": {},
   "outputs": [
    {
     "data": {
      "text/html": [
       "<div>\n",
       "<style scoped>\n",
       "    .dataframe tbody tr th:only-of-type {\n",
       "        vertical-align: middle;\n",
       "    }\n",
       "\n",
       "    .dataframe tbody tr th {\n",
       "        vertical-align: top;\n",
       "    }\n",
       "\n",
       "    .dataframe thead th {\n",
       "        text-align: right;\n",
       "    }\n",
       "</style>\n",
       "<table border=\"1\" class=\"dataframe\">\n",
       "  <thead>\n",
       "    <tr style=\"text-align: right;\">\n",
       "      <th></th>\n",
       "      <th>k</th>\n",
       "      <th>MSE</th>\n",
       "    </tr>\n",
       "  </thead>\n",
       "  <tbody>\n",
       "    <tr>\n",
       "      <th>0</th>\n",
       "      <td>1.0</td>\n",
       "      <td>0.8</td>\n",
       "    </tr>\n",
       "  </tbody>\n",
       "</table>\n",
       "</div>"
      ],
      "text/plain": [
       "     k  MSE\n",
       "0  1.0  0.8"
      ]
     },
     "execution_count": 140,
     "metadata": {},
     "output_type": "execute_result"
    }
   ],
   "source": [
    "score_df=pd.DataFrame(columns=['k','MSE'])\n",
    "\n",
    "for j in range(1,10):\n",
    "    model=tree.DecisionTreeClassifier(max_depth=j)\n",
    "    score = float(MSE(model,titanic))\n",
    "    #print(\"{}: {:.6f}, {:.4f}\".format(i,score.mean(),score.std()))\n",
    "    score_df=score_df.append({'k': j, 'MSE': score}, ignore_index=True)\n",
    "    \n",
    "\n",
    "#Find the best alpha\n",
    "score_df[score_df['MSE']==score_df['MSE'].min()]"
   ]
  },
  {
   "cell_type": "code",
   "execution_count": 141,
   "metadata": {},
   "outputs": [
    {
     "data": {
      "text/html": [
       "<div>\n",
       "<style scoped>\n",
       "    .dataframe tbody tr th:only-of-type {\n",
       "        vertical-align: middle;\n",
       "    }\n",
       "\n",
       "    .dataframe tbody tr th {\n",
       "        vertical-align: top;\n",
       "    }\n",
       "\n",
       "    .dataframe thead th {\n",
       "        text-align: right;\n",
       "    }\n",
       "</style>\n",
       "<table border=\"1\" class=\"dataframe\">\n",
       "  <thead>\n",
       "    <tr style=\"text-align: right;\">\n",
       "      <th></th>\n",
       "      <th>k</th>\n",
       "      <th>MSE</th>\n",
       "    </tr>\n",
       "  </thead>\n",
       "  <tbody>\n",
       "    <tr>\n",
       "      <th>2</th>\n",
       "      <td>3.0</td>\n",
       "      <td>0.878</td>\n",
       "    </tr>\n",
       "  </tbody>\n",
       "</table>\n",
       "</div>"
      ],
      "text/plain": [
       "     k    MSE\n",
       "2  3.0  0.878"
      ]
     },
     "execution_count": 141,
     "metadata": {},
     "output_type": "execute_result"
    }
   ],
   "source": [
    "score_df=pd.DataFrame(columns=['k','MSE'])\n",
    "\n",
    "for j in range(1,10):\n",
    "    model=RandomForestClassifier(max_depth=j)\n",
    "    score = float(MSE(model,titanic))\n",
    "    #print(\"{}: {:.6f}, {:.4f}\".format(i,score.mean(),score.std()))\n",
    "    score_df=score_df.append({'k': j, 'MSE': score}, ignore_index=True)\n",
    "    \n",
    "\n",
    "#Find the best alpha\n",
    "score_df[score_df['MSE']==score_df['MSE'].min()]"
   ]
  },
  {
   "cell_type": "markdown",
   "metadata": {},
   "source": [
    "<h3>Ensemble models"
   ]
  },
  {
   "cell_type": "code",
   "execution_count": 145,
   "metadata": {},
   "outputs": [],
   "source": [
    "from sklearn.ensemble import StackingClassifier\n",
    "\n",
    "r1=KNeighborsClassifier(n_neighbors=16)\n",
    "r2=LogisticRegression()\n",
    "r3=LinearDiscriminantAnalysis()\n",
    "r4=tree.DecisionTreeClassifier(max_depth=1)\n",
    "r5=RandomForestClassifier(max_depth=3)\n",
    "r6=GradientBoostingClassifier()\n",
    "r7=svm.SVC()\n",
    "combine_model = StackingClassifier(estimators=[('kN', r1), ('LR', r2),('LDA', r3),('DT', r4),('RF', r5),('B', r6),('SVM', r7)])\n"
   ]
  },
  {
   "cell_type": "code",
   "execution_count": 146,
   "metadata": {
    "collapsed": true
   },
   "outputs": [
    {
     "name": "stderr",
     "output_type": "stream",
     "text": [
      "/anaconda3/lib/python3.7/site-packages/sklearn/linear_model/_logistic.py:764: ConvergenceWarning: lbfgs failed to converge (status=1):\n",
      "STOP: TOTAL NO. of ITERATIONS REACHED LIMIT.\n",
      "\n",
      "Increase the number of iterations (max_iter) or scale the data as shown in:\n",
      "    https://scikit-learn.org/stable/modules/preprocessing.html\n",
      "Please also refer to the documentation for alternative solver options:\n",
      "    https://scikit-learn.org/stable/modules/linear_model.html#logistic-regression\n",
      "  extra_warning_msg=_LOGISTIC_SOLVER_CONVERGENCE_MSG)\n",
      "/anaconda3/lib/python3.7/site-packages/sklearn/linear_model/_logistic.py:764: ConvergenceWarning: lbfgs failed to converge (status=1):\n",
      "STOP: TOTAL NO. of ITERATIONS REACHED LIMIT.\n",
      "\n",
      "Increase the number of iterations (max_iter) or scale the data as shown in:\n",
      "    https://scikit-learn.org/stable/modules/preprocessing.html\n",
      "Please also refer to the documentation for alternative solver options:\n",
      "    https://scikit-learn.org/stable/modules/linear_model.html#logistic-regression\n",
      "  extra_warning_msg=_LOGISTIC_SOLVER_CONVERGENCE_MSG)\n",
      "/anaconda3/lib/python3.7/site-packages/sklearn/linear_model/_logistic.py:764: ConvergenceWarning: lbfgs failed to converge (status=1):\n",
      "STOP: TOTAL NO. of ITERATIONS REACHED LIMIT.\n",
      "\n",
      "Increase the number of iterations (max_iter) or scale the data as shown in:\n",
      "    https://scikit-learn.org/stable/modules/preprocessing.html\n",
      "Please also refer to the documentation for alternative solver options:\n",
      "    https://scikit-learn.org/stable/modules/linear_model.html#logistic-regression\n",
      "  extra_warning_msg=_LOGISTIC_SOLVER_CONVERGENCE_MSG)\n",
      "/anaconda3/lib/python3.7/site-packages/sklearn/linear_model/_logistic.py:764: ConvergenceWarning: lbfgs failed to converge (status=1):\n",
      "STOP: TOTAL NO. of ITERATIONS REACHED LIMIT.\n",
      "\n",
      "Increase the number of iterations (max_iter) or scale the data as shown in:\n",
      "    https://scikit-learn.org/stable/modules/preprocessing.html\n",
      "Please also refer to the documentation for alternative solver options:\n",
      "    https://scikit-learn.org/stable/modules/linear_model.html#logistic-regression\n",
      "  extra_warning_msg=_LOGISTIC_SOLVER_CONVERGENCE_MSG)\n",
      "/anaconda3/lib/python3.7/site-packages/sklearn/linear_model/_logistic.py:764: ConvergenceWarning: lbfgs failed to converge (status=1):\n",
      "STOP: TOTAL NO. of ITERATIONS REACHED LIMIT.\n",
      "\n",
      "Increase the number of iterations (max_iter) or scale the data as shown in:\n",
      "    https://scikit-learn.org/stable/modules/preprocessing.html\n",
      "Please also refer to the documentation for alternative solver options:\n",
      "    https://scikit-learn.org/stable/modules/linear_model.html#logistic-regression\n",
      "  extra_warning_msg=_LOGISTIC_SOLVER_CONVERGENCE_MSG)\n",
      "/anaconda3/lib/python3.7/site-packages/sklearn/linear_model/_logistic.py:764: ConvergenceWarning: lbfgs failed to converge (status=1):\n",
      "STOP: TOTAL NO. of ITERATIONS REACHED LIMIT.\n",
      "\n",
      "Increase the number of iterations (max_iter) or scale the data as shown in:\n",
      "    https://scikit-learn.org/stable/modules/preprocessing.html\n",
      "Please also refer to the documentation for alternative solver options:\n",
      "    https://scikit-learn.org/stable/modules/linear_model.html#logistic-regression\n",
      "  extra_warning_msg=_LOGISTIC_SOLVER_CONVERGENCE_MSG)\n",
      "/anaconda3/lib/python3.7/site-packages/sklearn/linear_model/_logistic.py:764: ConvergenceWarning: lbfgs failed to converge (status=1):\n",
      "STOP: TOTAL NO. of ITERATIONS REACHED LIMIT.\n",
      "\n",
      "Increase the number of iterations (max_iter) or scale the data as shown in:\n",
      "    https://scikit-learn.org/stable/modules/preprocessing.html\n",
      "Please also refer to the documentation for alternative solver options:\n",
      "    https://scikit-learn.org/stable/modules/linear_model.html#logistic-regression\n",
      "  extra_warning_msg=_LOGISTIC_SOLVER_CONVERGENCE_MSG)\n",
      "/anaconda3/lib/python3.7/site-packages/sklearn/linear_model/_logistic.py:764: ConvergenceWarning: lbfgs failed to converge (status=1):\n",
      "STOP: TOTAL NO. of ITERATIONS REACHED LIMIT.\n",
      "\n",
      "Increase the number of iterations (max_iter) or scale the data as shown in:\n",
      "    https://scikit-learn.org/stable/modules/preprocessing.html\n",
      "Please also refer to the documentation for alternative solver options:\n",
      "    https://scikit-learn.org/stable/modules/linear_model.html#logistic-regression\n",
      "  extra_warning_msg=_LOGISTIC_SOLVER_CONVERGENCE_MSG)\n",
      "/anaconda3/lib/python3.7/site-packages/sklearn/linear_model/_logistic.py:764: ConvergenceWarning: lbfgs failed to converge (status=1):\n",
      "STOP: TOTAL NO. of ITERATIONS REACHED LIMIT.\n",
      "\n",
      "Increase the number of iterations (max_iter) or scale the data as shown in:\n",
      "    https://scikit-learn.org/stable/modules/preprocessing.html\n",
      "Please also refer to the documentation for alternative solver options:\n",
      "    https://scikit-learn.org/stable/modules/linear_model.html#logistic-regression\n",
      "  extra_warning_msg=_LOGISTIC_SOLVER_CONVERGENCE_MSG)\n",
      "/anaconda3/lib/python3.7/site-packages/sklearn/linear_model/_logistic.py:764: ConvergenceWarning: lbfgs failed to converge (status=1):\n",
      "STOP: TOTAL NO. of ITERATIONS REACHED LIMIT.\n",
      "\n",
      "Increase the number of iterations (max_iter) or scale the data as shown in:\n",
      "    https://scikit-learn.org/stable/modules/preprocessing.html\n",
      "Please also refer to the documentation for alternative solver options:\n",
      "    https://scikit-learn.org/stable/modules/linear_model.html#logistic-regression\n",
      "  extra_warning_msg=_LOGISTIC_SOLVER_CONVERGENCE_MSG)\n",
      "/anaconda3/lib/python3.7/site-packages/sklearn/linear_model/_logistic.py:764: ConvergenceWarning: lbfgs failed to converge (status=1):\n",
      "STOP: TOTAL NO. of ITERATIONS REACHED LIMIT.\n",
      "\n",
      "Increase the number of iterations (max_iter) or scale the data as shown in:\n",
      "    https://scikit-learn.org/stable/modules/preprocessing.html\n",
      "Please also refer to the documentation for alternative solver options:\n",
      "    https://scikit-learn.org/stable/modules/linear_model.html#logistic-regression\n",
      "  extra_warning_msg=_LOGISTIC_SOLVER_CONVERGENCE_MSG)\n",
      "/anaconda3/lib/python3.7/site-packages/sklearn/linear_model/_logistic.py:764: ConvergenceWarning: lbfgs failed to converge (status=1):\n",
      "STOP: TOTAL NO. of ITERATIONS REACHED LIMIT.\n",
      "\n",
      "Increase the number of iterations (max_iter) or scale the data as shown in:\n",
      "    https://scikit-learn.org/stable/modules/preprocessing.html\n",
      "Please also refer to the documentation for alternative solver options:\n",
      "    https://scikit-learn.org/stable/modules/linear_model.html#logistic-regression\n",
      "  extra_warning_msg=_LOGISTIC_SOLVER_CONVERGENCE_MSG)\n",
      "/anaconda3/lib/python3.7/site-packages/sklearn/linear_model/_logistic.py:764: ConvergenceWarning: lbfgs failed to converge (status=1):\n",
      "STOP: TOTAL NO. of ITERATIONS REACHED LIMIT.\n",
      "\n",
      "Increase the number of iterations (max_iter) or scale the data as shown in:\n",
      "    https://scikit-learn.org/stable/modules/preprocessing.html\n",
      "Please also refer to the documentation for alternative solver options:\n",
      "    https://scikit-learn.org/stable/modules/linear_model.html#logistic-regression\n",
      "  extra_warning_msg=_LOGISTIC_SOLVER_CONVERGENCE_MSG)\n",
      "/anaconda3/lib/python3.7/site-packages/sklearn/linear_model/_logistic.py:764: ConvergenceWarning: lbfgs failed to converge (status=1):\n",
      "STOP: TOTAL NO. of ITERATIONS REACHED LIMIT.\n",
      "\n",
      "Increase the number of iterations (max_iter) or scale the data as shown in:\n",
      "    https://scikit-learn.org/stable/modules/preprocessing.html\n",
      "Please also refer to the documentation for alternative solver options:\n",
      "    https://scikit-learn.org/stable/modules/linear_model.html#logistic-regression\n",
      "  extra_warning_msg=_LOGISTIC_SOLVER_CONVERGENCE_MSG)\n",
      "/anaconda3/lib/python3.7/site-packages/sklearn/linear_model/_logistic.py:764: ConvergenceWarning: lbfgs failed to converge (status=1):\n",
      "STOP: TOTAL NO. of ITERATIONS REACHED LIMIT.\n",
      "\n",
      "Increase the number of iterations (max_iter) or scale the data as shown in:\n",
      "    https://scikit-learn.org/stable/modules/preprocessing.html\n",
      "Please also refer to the documentation for alternative solver options:\n",
      "    https://scikit-learn.org/stable/modules/linear_model.html#logistic-regression\n",
      "  extra_warning_msg=_LOGISTIC_SOLVER_CONVERGENCE_MSG)\n",
      "/anaconda3/lib/python3.7/site-packages/sklearn/linear_model/_logistic.py:764: ConvergenceWarning: lbfgs failed to converge (status=1):\n",
      "STOP: TOTAL NO. of ITERATIONS REACHED LIMIT.\n",
      "\n",
      "Increase the number of iterations (max_iter) or scale the data as shown in:\n",
      "    https://scikit-learn.org/stable/modules/preprocessing.html\n",
      "Please also refer to the documentation for alternative solver options:\n",
      "    https://scikit-learn.org/stable/modules/linear_model.html#logistic-regression\n",
      "  extra_warning_msg=_LOGISTIC_SOLVER_CONVERGENCE_MSG)\n",
      "/anaconda3/lib/python3.7/site-packages/sklearn/linear_model/_logistic.py:764: ConvergenceWarning: lbfgs failed to converge (status=1):\n",
      "STOP: TOTAL NO. of ITERATIONS REACHED LIMIT.\n",
      "\n",
      "Increase the number of iterations (max_iter) or scale the data as shown in:\n",
      "    https://scikit-learn.org/stable/modules/preprocessing.html\n",
      "Please also refer to the documentation for alternative solver options:\n",
      "    https://scikit-learn.org/stable/modules/linear_model.html#logistic-regression\n",
      "  extra_warning_msg=_LOGISTIC_SOLVER_CONVERGENCE_MSG)\n",
      "/anaconda3/lib/python3.7/site-packages/sklearn/linear_model/_logistic.py:764: ConvergenceWarning: lbfgs failed to converge (status=1):\n",
      "STOP: TOTAL NO. of ITERATIONS REACHED LIMIT.\n",
      "\n",
      "Increase the number of iterations (max_iter) or scale the data as shown in:\n",
      "    https://scikit-learn.org/stable/modules/preprocessing.html\n",
      "Please also refer to the documentation for alternative solver options:\n",
      "    https://scikit-learn.org/stable/modules/linear_model.html#logistic-regression\n",
      "  extra_warning_msg=_LOGISTIC_SOLVER_CONVERGENCE_MSG)\n"
     ]
    },
    {
     "name": "stderr",
     "output_type": "stream",
     "text": [
      "/anaconda3/lib/python3.7/site-packages/sklearn/linear_model/_logistic.py:764: ConvergenceWarning: lbfgs failed to converge (status=1):\n",
      "STOP: TOTAL NO. of ITERATIONS REACHED LIMIT.\n",
      "\n",
      "Increase the number of iterations (max_iter) or scale the data as shown in:\n",
      "    https://scikit-learn.org/stable/modules/preprocessing.html\n",
      "Please also refer to the documentation for alternative solver options:\n",
      "    https://scikit-learn.org/stable/modules/linear_model.html#logistic-regression\n",
      "  extra_warning_msg=_LOGISTIC_SOLVER_CONVERGENCE_MSG)\n",
      "/anaconda3/lib/python3.7/site-packages/sklearn/linear_model/_logistic.py:764: ConvergenceWarning: lbfgs failed to converge (status=1):\n",
      "STOP: TOTAL NO. of ITERATIONS REACHED LIMIT.\n",
      "\n",
      "Increase the number of iterations (max_iter) or scale the data as shown in:\n",
      "    https://scikit-learn.org/stable/modules/preprocessing.html\n",
      "Please also refer to the documentation for alternative solver options:\n",
      "    https://scikit-learn.org/stable/modules/linear_model.html#logistic-regression\n",
      "  extra_warning_msg=_LOGISTIC_SOLVER_CONVERGENCE_MSG)\n",
      "/anaconda3/lib/python3.7/site-packages/sklearn/linear_model/_logistic.py:764: ConvergenceWarning: lbfgs failed to converge (status=1):\n",
      "STOP: TOTAL NO. of ITERATIONS REACHED LIMIT.\n",
      "\n",
      "Increase the number of iterations (max_iter) or scale the data as shown in:\n",
      "    https://scikit-learn.org/stable/modules/preprocessing.html\n",
      "Please also refer to the documentation for alternative solver options:\n",
      "    https://scikit-learn.org/stable/modules/linear_model.html#logistic-regression\n",
      "  extra_warning_msg=_LOGISTIC_SOLVER_CONVERGENCE_MSG)\n",
      "/anaconda3/lib/python3.7/site-packages/sklearn/linear_model/_logistic.py:764: ConvergenceWarning: lbfgs failed to converge (status=1):\n",
      "STOP: TOTAL NO. of ITERATIONS REACHED LIMIT.\n",
      "\n",
      "Increase the number of iterations (max_iter) or scale the data as shown in:\n",
      "    https://scikit-learn.org/stable/modules/preprocessing.html\n",
      "Please also refer to the documentation for alternative solver options:\n",
      "    https://scikit-learn.org/stable/modules/linear_model.html#logistic-regression\n",
      "  extra_warning_msg=_LOGISTIC_SOLVER_CONVERGENCE_MSG)\n",
      "/anaconda3/lib/python3.7/site-packages/sklearn/linear_model/_logistic.py:764: ConvergenceWarning: lbfgs failed to converge (status=1):\n",
      "STOP: TOTAL NO. of ITERATIONS REACHED LIMIT.\n",
      "\n",
      "Increase the number of iterations (max_iter) or scale the data as shown in:\n",
      "    https://scikit-learn.org/stable/modules/preprocessing.html\n",
      "Please also refer to the documentation for alternative solver options:\n",
      "    https://scikit-learn.org/stable/modules/linear_model.html#logistic-regression\n",
      "  extra_warning_msg=_LOGISTIC_SOLVER_CONVERGENCE_MSG)\n",
      "/anaconda3/lib/python3.7/site-packages/sklearn/linear_model/_logistic.py:764: ConvergenceWarning: lbfgs failed to converge (status=1):\n",
      "STOP: TOTAL NO. of ITERATIONS REACHED LIMIT.\n",
      "\n",
      "Increase the number of iterations (max_iter) or scale the data as shown in:\n",
      "    https://scikit-learn.org/stable/modules/preprocessing.html\n",
      "Please also refer to the documentation for alternative solver options:\n",
      "    https://scikit-learn.org/stable/modules/linear_model.html#logistic-regression\n",
      "  extra_warning_msg=_LOGISTIC_SOLVER_CONVERGENCE_MSG)\n",
      "/anaconda3/lib/python3.7/site-packages/sklearn/linear_model/_logistic.py:764: ConvergenceWarning: lbfgs failed to converge (status=1):\n",
      "STOP: TOTAL NO. of ITERATIONS REACHED LIMIT.\n",
      "\n",
      "Increase the number of iterations (max_iter) or scale the data as shown in:\n",
      "    https://scikit-learn.org/stable/modules/preprocessing.html\n",
      "Please also refer to the documentation for alternative solver options:\n",
      "    https://scikit-learn.org/stable/modules/linear_model.html#logistic-regression\n",
      "  extra_warning_msg=_LOGISTIC_SOLVER_CONVERGENCE_MSG)\n",
      "/anaconda3/lib/python3.7/site-packages/sklearn/linear_model/_logistic.py:764: ConvergenceWarning: lbfgs failed to converge (status=1):\n",
      "STOP: TOTAL NO. of ITERATIONS REACHED LIMIT.\n",
      "\n",
      "Increase the number of iterations (max_iter) or scale the data as shown in:\n",
      "    https://scikit-learn.org/stable/modules/preprocessing.html\n",
      "Please also refer to the documentation for alternative solver options:\n",
      "    https://scikit-learn.org/stable/modules/linear_model.html#logistic-regression\n",
      "  extra_warning_msg=_LOGISTIC_SOLVER_CONVERGENCE_MSG)\n",
      "/anaconda3/lib/python3.7/site-packages/sklearn/linear_model/_logistic.py:764: ConvergenceWarning: lbfgs failed to converge (status=1):\n",
      "STOP: TOTAL NO. of ITERATIONS REACHED LIMIT.\n",
      "\n",
      "Increase the number of iterations (max_iter) or scale the data as shown in:\n",
      "    https://scikit-learn.org/stable/modules/preprocessing.html\n",
      "Please also refer to the documentation for alternative solver options:\n",
      "    https://scikit-learn.org/stable/modules/linear_model.html#logistic-regression\n",
      "  extra_warning_msg=_LOGISTIC_SOLVER_CONVERGENCE_MSG)\n",
      "/anaconda3/lib/python3.7/site-packages/sklearn/linear_model/_logistic.py:764: ConvergenceWarning: lbfgs failed to converge (status=1):\n",
      "STOP: TOTAL NO. of ITERATIONS REACHED LIMIT.\n",
      "\n",
      "Increase the number of iterations (max_iter) or scale the data as shown in:\n",
      "    https://scikit-learn.org/stable/modules/preprocessing.html\n",
      "Please also refer to the documentation for alternative solver options:\n",
      "    https://scikit-learn.org/stable/modules/linear_model.html#logistic-regression\n",
      "  extra_warning_msg=_LOGISTIC_SOLVER_CONVERGENCE_MSG)\n",
      "/anaconda3/lib/python3.7/site-packages/sklearn/linear_model/_logistic.py:764: ConvergenceWarning: lbfgs failed to converge (status=1):\n",
      "STOP: TOTAL NO. of ITERATIONS REACHED LIMIT.\n",
      "\n",
      "Increase the number of iterations (max_iter) or scale the data as shown in:\n",
      "    https://scikit-learn.org/stable/modules/preprocessing.html\n",
      "Please also refer to the documentation for alternative solver options:\n",
      "    https://scikit-learn.org/stable/modules/linear_model.html#logistic-regression\n",
      "  extra_warning_msg=_LOGISTIC_SOLVER_CONVERGENCE_MSG)\n",
      "/anaconda3/lib/python3.7/site-packages/sklearn/linear_model/_logistic.py:764: ConvergenceWarning: lbfgs failed to converge (status=1):\n",
      "STOP: TOTAL NO. of ITERATIONS REACHED LIMIT.\n",
      "\n",
      "Increase the number of iterations (max_iter) or scale the data as shown in:\n",
      "    https://scikit-learn.org/stable/modules/preprocessing.html\n",
      "Please also refer to the documentation for alternative solver options:\n",
      "    https://scikit-learn.org/stable/modules/linear_model.html#logistic-regression\n",
      "  extra_warning_msg=_LOGISTIC_SOLVER_CONVERGENCE_MSG)\n"
     ]
    }
   ],
   "source": [
    "#Define a function for writing MSE\n",
    "\n",
    "MSE_k=np.zeros(shape=(5,1))\n",
    "all_n_k=np.zeros(shape=(5,1))\n",
    "\n",
    "titanic['kFold'] = np.random.randint(1, 6, house.shape[0])\n",
    "rng = np.random.RandomState(0)\n",
    "\n",
    "\n",
    "for k in range(1,6):\n",
    "    train_data = titanic[titanic['kFold']==k]\n",
    "    test_data = titanic[titanic['kFold']!=k]\n",
    "    test_data=test_data.drop([\"kFold\"], axis=1)\n",
    "    train_data=train_data.drop([\"kFold\"], axis=1)\n",
    "\n",
    "    #Find x/y train test data\n",
    "    X_train=train_data.drop(\"Survived\", axis=1)\n",
    "    X_test=test_data.drop(\"Survived\", axis=1)\n",
    "\n",
    "    y_train=train_data['Survived']\n",
    "    y_test=test_data['Survived']\n",
    "\n",
    "    linear = combine_model.fit(X_train, y_train)\n",
    "    predict_y=linear.predict(X_test)\n",
    "\n",
    "    if len(predict_y.shape) == 2: predict_y=predict_y.flatten()\n",
    "\n",
    "    MSE_k[k-1]= stat.mean((y_test -  predict_y)**2)\n",
    "    all_n_k[k-1] = len(y_test)\n",
    "\n"
   ]
  },
  {
   "cell_type": "code",
   "execution_count": 147,
   "metadata": {},
   "outputs": [
    {
     "name": "stdout",
     "output_type": "stream",
     "text": [
      "[0.81]\n"
     ]
    }
   ],
   "source": [
    "print(sum(MSE_k*all_n_k/(len(house))))"
   ]
  },
  {
   "cell_type": "markdown",
   "metadata": {},
   "source": [
    "From the result we found that the model after stacking performance do not improve, it perform worser than a single model Decision Tree.  This phenomenon may explain by other models performance in the stacking models perform are not good.  And the Single Decision Tree with parameter tuning has the best performance"
   ]
  },
  {
   "cell_type": "markdown",
   "metadata": {},
   "source": [
    "<h3>Remark</h3><br>\n",
    "Sorry that original I would like to make ignore warning however I found that once I applied ignore warning my plot are not able to show due to some conflicts. Really sorry about that"
   ]
  },
  {
   "cell_type": "markdown",
   "metadata": {},
   "source": [
    "<p style=\"font-size: 16px\"><b>Reference</p style=\"font-size: 16px\"></b><br>\n",
    "<p> 1. https://www.kaggle.com/ogakulov/lotfrontage-fill-in-missing-values-house-prices<br>\n",
    "    2. https://www.kaggle.com/nikkisharma536/house-prediction-dealing-with-outlier<br>\n",
    "    3. An Introduction to Statistical Learning, with Application in R. Gareth James, Daniela Witten, Trevor Hastie and Robert Tibshirani."
   ]
  }
 ],
 "metadata": {
  "kernelspec": {
   "display_name": "Python 3",
   "language": "python",
   "name": "python3"
  },
  "language_info": {
   "codemirror_mode": {
    "name": "ipython",
    "version": 3
   },
   "file_extension": ".py",
   "mimetype": "text/x-python",
   "name": "python",
   "nbconvert_exporter": "python",
   "pygments_lexer": "ipython3",
   "version": "3.7.3"
  }
 },
 "nbformat": 4,
 "nbformat_minor": 2
}
